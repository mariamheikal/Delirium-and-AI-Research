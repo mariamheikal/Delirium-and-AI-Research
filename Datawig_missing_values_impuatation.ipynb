{
  "metadata": {
    "colab": {
      "provenance": [],
      "collapsed_sections": []
    },
    "kernelspec": {
      "name": "python3",
      "display_name": "Python 3"
    },
    "language_info": {
      "name": "python"
    },
    "accelerator": "GPU",
    "gpuClass": "standard"
  },
  "nbformat_minor": 0,
  "nbformat": 4,
  "cells": [
    {
      "cell_type": "code",
      "source": [
        "pip install datawig"
      ],
      "metadata": {
        "colab": {
          "base_uri": "https://localhost:8080/",
          "height": 1000
        },
        "id": "nn73XVkf9BI4",
        "outputId": "6ea57dd0-932f-4960-f5fa-27d9c4e188b6",
        "execution": {
          "iopub.status.busy": "2022-11-10T02:52:50.362116Z",
          "iopub.execute_input": "2022-11-10T02:52:50.362555Z",
          "iopub.status.idle": "2022-11-10T02:53:41.882906Z",
          "shell.execute_reply.started": "2022-11-10T02:52:50.362468Z",
          "shell.execute_reply": "2022-11-10T02:53:41.881606Z"
        },
        "trusted": true
      },
      "execution_count": null,
      "outputs": [
        {
          "output_type": "stream",
          "name": "stdout",
          "text": [
            "Looking in indexes: https://pypi.org/simple, https://us-python.pkg.dev/colab-wheels/public/simple/\n",
            "Collecting datawig\n",
            "  Downloading datawig-0.2.0.tar.gz (61 kB)\n",
            "\u001b[K     |████████████████████████████████| 61 kB 59 kB/s \n",
            "\u001b[?25hCollecting scikit-learn[alldeps]==0.22.1\n",
            "  Downloading scikit_learn-0.22.1-cp37-cp37m-manylinux1_x86_64.whl (7.0 MB)\n",
            "\u001b[K     |████████████████████████████████| 7.0 MB 10.8 MB/s \n",
            "\u001b[?25hCollecting typing==3.6.6\n",
            "  Downloading typing-3.6.6-py3-none-any.whl (25 kB)\n",
            "Collecting pandas==0.25.3\n",
            "  Downloading pandas-0.25.3-cp37-cp37m-manylinux1_x86_64.whl (10.4 MB)\n",
            "\u001b[K     |████████████████████████████████| 10.4 MB 51.0 MB/s \n",
            "\u001b[?25hCollecting mxnet==1.4.0\n",
            "  Downloading mxnet-1.4.0-py2.py3-none-manylinux1_x86_64.whl (29.6 MB)\n",
            "\u001b[K     |████████████████████████████████| 29.6 MB 1.3 MB/s \n",
            "\u001b[?25hCollecting numpy<1.15.0,>=1.8.2\n",
            "  Downloading numpy-1.14.6-cp37-cp37m-manylinux1_x86_64.whl (13.8 MB)\n",
            "\u001b[K     |████████████████████████████████| 13.8 MB 49.9 MB/s \n",
            "\u001b[?25hCollecting graphviz<0.9.0,>=0.8.1\n",
            "  Downloading graphviz-0.8.4-py2.py3-none-any.whl (16 kB)\n",
            "Requirement already satisfied: requests>=2.20.0 in /usr/local/lib/python3.7/dist-packages (from mxnet==1.4.0->datawig) (2.23.0)\n",
            "Requirement already satisfied: pytz>=2017.2 in /usr/local/lib/python3.7/dist-packages (from pandas==0.25.3->datawig) (2022.6)\n",
            "Requirement already satisfied: python-dateutil>=2.6.1 in /usr/local/lib/python3.7/dist-packages (from pandas==0.25.3->datawig) (2.8.2)\n",
            "Requirement already satisfied: joblib>=0.11 in /usr/local/lib/python3.7/dist-packages (from scikit-learn[alldeps]==0.22.1->datawig) (1.2.0)\n",
            "Requirement already satisfied: scipy>=0.17.0 in /usr/local/lib/python3.7/dist-packages (from scikit-learn[alldeps]==0.22.1->datawig) (1.7.3)\n",
            "Requirement already satisfied: six>=1.5 in /usr/local/lib/python3.7/dist-packages (from python-dateutil>=2.6.1->pandas==0.25.3->datawig) (1.15.0)\n",
            "Requirement already satisfied: idna<3,>=2.5 in /usr/local/lib/python3.7/dist-packages (from requests>=2.20.0->mxnet==1.4.0->datawig) (2.10)\n",
            "Requirement already satisfied: urllib3!=1.25.0,!=1.25.1,<1.26,>=1.21.1 in /usr/local/lib/python3.7/dist-packages (from requests>=2.20.0->mxnet==1.4.0->datawig) (1.24.3)\n",
            "Requirement already satisfied: chardet<4,>=3.0.2 in /usr/local/lib/python3.7/dist-packages (from requests>=2.20.0->mxnet==1.4.0->datawig) (3.0.4)\n",
            "Requirement already satisfied: certifi>=2017.4.17 in /usr/local/lib/python3.7/dist-packages (from requests>=2.20.0->mxnet==1.4.0->datawig) (2022.9.24)\n",
            "Collecting scipy>=0.17.0\n",
            "  Downloading scipy-1.7.2-cp37-cp37m-manylinux_2_12_x86_64.manylinux2010_x86_64.whl (38.2 MB)\n",
            "\u001b[K     |████████████████████████████████| 38.2 MB 1.4 MB/s \n",
            "\u001b[?25h  Downloading scipy-1.7.1-cp37-cp37m-manylinux_2_5_x86_64.manylinux1_x86_64.whl (28.5 MB)\n",
            "\u001b[K     |████████████████████████████████| 28.5 MB 62.6 MB/s \n",
            "\u001b[?25h  Downloading scipy-1.7.0-cp37-cp37m-manylinux_2_5_x86_64.manylinux1_x86_64.whl (28.5 MB)\n",
            "\u001b[K     |████████████████████████████████| 28.5 MB 1.2 MB/s \n",
            "\u001b[?25h  Downloading scipy-1.6.3-cp37-cp37m-manylinux1_x86_64.whl (27.4 MB)\n",
            "\u001b[K     |████████████████████████████████| 27.4 MB 1.2 MB/s \n",
            "\u001b[?25h  Downloading scipy-1.6.2-cp37-cp37m-manylinux1_x86_64.whl (27.4 MB)\n",
            "\u001b[K     |████████████████████████████████| 27.4 MB 1.4 MB/s \n",
            "\u001b[?25h  Downloading scipy-1.6.1-cp37-cp37m-manylinux1_x86_64.whl (27.4 MB)\n",
            "\u001b[K     |████████████████████████████████| 27.4 MB 61.6 MB/s \n",
            "\u001b[?25h  Downloading scipy-1.6.0-cp37-cp37m-manylinux1_x86_64.whl (27.4 MB)\n",
            "\u001b[K     |████████████████████████████████| 27.4 MB 1.2 MB/s \n",
            "\u001b[?25h  Downloading scipy-1.5.4-cp37-cp37m-manylinux1_x86_64.whl (25.9 MB)\n",
            "\u001b[K     |████████████████████████████████| 25.9 MB 1.3 MB/s \n",
            "\u001b[?25hBuilding wheels for collected packages: datawig\n",
            "  Building wheel for datawig (setup.py) ... \u001b[?25l\u001b[?25hdone\n",
            "  Created wheel for datawig: filename=datawig-0.2.0-py3-none-any.whl size=72680 sha256=6070e3343899b630c7c8adc959a5c0f18f4d167ba25265e02d23f2166380f60e\n",
            "  Stored in directory: /root/.cache/pip/wheels/23/44/aa/12cf6e868f0d71e3c4e57796330094461ade4cb3f1a3acd6c4\n",
            "Successfully built datawig\n",
            "Installing collected packages: numpy, scipy, scikit-learn, graphviz, typing, pandas, mxnet, datawig\n",
            "  Attempting uninstall: numpy\n",
            "    Found existing installation: numpy 1.21.6\n",
            "    Uninstalling numpy-1.21.6:\n",
            "      Successfully uninstalled numpy-1.21.6\n",
            "  Attempting uninstall: scipy\n",
            "    Found existing installation: scipy 1.7.3\n",
            "    Uninstalling scipy-1.7.3:\n",
            "      Successfully uninstalled scipy-1.7.3\n",
            "  Attempting uninstall: scikit-learn\n",
            "    Found existing installation: scikit-learn 1.0.2\n",
            "    Uninstalling scikit-learn-1.0.2:\n",
            "      Successfully uninstalled scikit-learn-1.0.2\n",
            "  Attempting uninstall: graphviz\n",
            "    Found existing installation: graphviz 0.10.1\n",
            "    Uninstalling graphviz-0.10.1:\n",
            "      Successfully uninstalled graphviz-0.10.1\n",
            "  Attempting uninstall: pandas\n",
            "    Found existing installation: pandas 1.3.5\n",
            "    Uninstalling pandas-1.3.5:\n",
            "      Successfully uninstalled pandas-1.3.5\n",
            "\u001b[31mERROR: pip's dependency resolver does not currently take into account all the packages that are installed. This behaviour is the source of the following dependency conflicts.\n",
            "yellowbrick 1.5 requires numpy>=1.16.0, but you have numpy 1.14.6 which is incompatible.\n",
            "yellowbrick 1.5 requires scikit-learn>=1.0.0, but you have scikit-learn 0.22.1 which is incompatible.\n",
            "xarray 0.20.2 requires numpy>=1.18, but you have numpy 1.14.6 which is incompatible.\n",
            "xarray 0.20.2 requires pandas>=1.1, but you have pandas 0.25.3 which is incompatible.\n",
            "xarray-einstats 0.2.2 requires numpy>=1.21, but you have numpy 1.14.6 which is incompatible.\n",
            "tifffile 2021.11.2 requires numpy>=1.15.1, but you have numpy 1.14.6 which is incompatible.\n",
            "thinc 8.1.5 requires numpy>=1.15.0, but you have numpy 1.14.6 which is incompatible.\n",
            "tensorflow 2.9.2 requires numpy>=1.20, but you have numpy 1.14.6 which is incompatible.\n",
            "tables 3.7.0 requires numpy>=1.19.0, but you have numpy 1.14.6 which is incompatible.\n",
            "statsmodels 0.12.2 requires numpy>=1.15, but you have numpy 1.14.6 which is incompatible.\n",
            "spacy 3.4.2 requires numpy>=1.15.0, but you have numpy 1.14.6 which is incompatible.\n",
            "seaborn 0.11.2 requires numpy>=1.15, but you have numpy 1.14.6 which is incompatible.\n",
            "scikit-image 0.18.3 requires numpy>=1.16.5, but you have numpy 1.14.6 which is incompatible.\n",
            "resampy 0.4.2 requires numpy>=1.17, but you have numpy 1.14.6 which is incompatible.\n",
            "pywavelets 1.3.0 requires numpy>=1.17.3, but you have numpy 1.14.6 which is incompatible.\n",
            "pymc 4.1.4 requires numpy>=1.15.0, but you have numpy 1.14.6 which is incompatible.\n",
            "pyerfa 2.0.0.1 requires numpy>=1.17, but you have numpy 1.14.6 which is incompatible.\n",
            "pyarrow 6.0.1 requires numpy>=1.16.6, but you have numpy 1.14.6 which is incompatible.\n",
            "prophet 1.1.1 requires numpy>=1.15.4, but you have numpy 1.14.6 which is incompatible.\n",
            "prophet 1.1.1 requires pandas>=1.0.4, but you have pandas 0.25.3 which is incompatible.\n",
            "plotnine 0.8.0 requires numpy>=1.19.0, but you have numpy 1.14.6 which is incompatible.\n",
            "plotnine 0.8.0 requires pandas>=1.1.0, but you have pandas 0.25.3 which is incompatible.\n",
            "numba 0.56.4 requires numpy<1.24,>=1.18, but you have numpy 1.14.6 which is incompatible.\n",
            "mizani 0.7.3 requires pandas>=1.1.0, but you have pandas 0.25.3 which is incompatible.\n",
            "librosa 0.8.1 requires numpy>=1.15.0, but you have numpy 1.14.6 which is incompatible.\n",
            "kapre 0.3.7 requires numpy>=1.18.5, but you have numpy 1.14.6 which is incompatible.\n",
            "jaxlib 0.3.22+cuda11.cudnn805 requires numpy>=1.20, but you have numpy 1.14.6 which is incompatible.\n",
            "jax 0.3.23 requires numpy>=1.20, but you have numpy 1.14.6 which is incompatible.\n",
            "imgaug 0.4.0 requires numpy>=1.15, but you have numpy 1.14.6 which is incompatible.\n",
            "imbalanced-learn 0.8.1 requires scikit-learn>=0.24, but you have scikit-learn 0.22.1 which is incompatible.\n",
            "httpstan 4.6.1 requires numpy<2.0,>=1.16, but you have numpy 1.14.6 which is incompatible.\n",
            "gym 0.25.2 requires numpy>=1.18.0, but you have numpy 1.14.6 which is incompatible.\n",
            "google-colab 1.0.0 requires pandas>=1.1.0, but you have pandas 0.25.3 which is incompatible.\n",
            "cvxpy 1.2.1 requires numpy>=1.15, but you have numpy 1.14.6 which is incompatible.\n",
            "cupy-cuda11x 11.0.0 requires numpy<1.26,>=1.20, but you have numpy 1.14.6 which is incompatible.\n",
            "cmdstanpy 1.0.8 requires numpy>=1.21, but you have numpy 1.14.6 which is incompatible.\n",
            "blis 0.7.9 requires numpy>=1.15.0, but you have numpy 1.14.6 which is incompatible.\n",
            "astropy 4.3.1 requires numpy>=1.17, but you have numpy 1.14.6 which is incompatible.\n",
            "aesara 2.7.9 requires numpy>=1.17.0, but you have numpy 1.14.6 which is incompatible.\n",
            "aeppl 0.0.33 requires numpy>=1.18.1, but you have numpy 1.14.6 which is incompatible.\u001b[0m\n",
            "Successfully installed datawig-0.2.0 graphviz-0.8.4 mxnet-1.4.0 numpy-1.14.6 pandas-0.25.3 scikit-learn-0.22.1 scipy-1.5.4 typing-3.6.6\n"
          ]
        },
        {
          "output_type": "display_data",
          "data": {
            "application/vnd.colab-display-data+json": {
              "pip_warning": {
                "packages": [
                  "numpy",
                  "typing"
                ]
              }
            }
          },
          "metadata": {}
        }
      ]
    },
    {
      "cell_type": "code",
      "source": [
        "import datawig \n",
        "import pandas as pd\n",
        "from sklearn.model_selection import train_test_split"
      ],
      "metadata": {
        "id": "wN63zEi39D0o",
        "execution": {
          "iopub.status.busy": "2022-11-10T02:55:32.800328Z",
          "iopub.execute_input": "2022-11-10T02:55:32.801244Z",
          "iopub.status.idle": "2022-11-10T02:55:35.029508Z",
          "shell.execute_reply.started": "2022-11-10T02:55:32.801203Z",
          "shell.execute_reply": "2022-11-10T02:55:35.028419Z"
        },
        "trusted": true
      },
      "execution_count": null,
      "outputs": []
    },
    {
      "cell_type": "code",
      "source": [
        "df=pd.read_csv('/content/extracted_downsampled_icu_delirium_mimic.csv')\n",
        "df.columns"
      ],
      "metadata": {
        "colab": {
          "base_uri": "https://localhost:8080/"
        },
        "id": "gUCeaxJa9ZPo",
        "outputId": "6e63448a-31d6-45e4-f9f4-f8fcd958146a",
        "execution": {
          "iopub.status.busy": "2022-11-10T02:55:53.566666Z",
          "iopub.execute_input": "2022-11-10T02:55:53.567042Z",
          "iopub.status.idle": "2022-11-10T02:55:54.867287Z",
          "shell.execute_reply.started": "2022-11-10T02:55:53.567010Z",
          "shell.execute_reply": "2022-11-10T02:55:54.866001Z"
        },
        "trusted": true
      },
      "execution_count": null,
      "outputs": [
        {
          "output_type": "execute_result",
          "data": {
            "text/plain": [
              "Index(['ALT', 'AST', 'Abdominal Girth (cm)', 'Access Pressure',\n",
              "       'Admission Weight (Kg)', 'Albumin', 'Alkaline Phosphate', 'Anion gap',\n",
              "       'Apnea Interval', 'Apnea Time Interval',\n",
              "       ...\n",
              "       'ADMISSION_LOCATION', 'DISCHARGE_LOCATION', 'INSURANCE', 'LANGUAGE',\n",
              "       'RELIGION', 'MARITAL_STATUS', 'ETHNICITY', 'GENDER', 'AGE',\n",
              "       'Delirium_'],\n",
              "      dtype='object', length=319)"
            ]
          },
          "metadata": {},
          "execution_count": 2
        }
      ]
    },
    {
      "cell_type": "code",
      "source": [
        "cols=list(df)\n",
        "for col in cols:\n",
        "  if df[col].isnull().sum()/df.shape[0]>0.73:\n",
        "    df.drop(col,axis=1,inplace=True)"
      ],
      "metadata": {
        "id": "6jA3XT2H9vau",
        "execution": {
          "iopub.status.busy": "2022-11-10T02:57:19.014669Z",
          "iopub.execute_input": "2022-11-10T02:57:19.015055Z",
          "iopub.status.idle": "2022-11-10T02:57:24.196182Z",
          "shell.execute_reply.started": "2022-11-10T02:57:19.015022Z",
          "shell.execute_reply": "2022-11-10T02:57:24.194921Z"
        },
        "trusted": true
      },
      "execution_count": null,
      "outputs": []
    },
    {
      "cell_type": "code",
      "source": [
        "df.to_csv('delirium_missing_73.csv')"
      ],
      "metadata": {
        "id": "adPLPRIljdoj"
      },
      "execution_count": null,
      "outputs": []
    },
    {
      "cell_type": "code",
      "source": [
        "df_p=df[df['Delirium_']==1]\n",
        "df_n=df[df['Delirium_']==0]\n",
        "print(len(df_n))\n",
        "print(len(df_p))"
      ],
      "metadata": {
        "execution": {
          "iopub.status.busy": "2022-11-10T03:13:34.746453Z",
          "iopub.execute_input": "2022-11-10T03:13:34.746833Z",
          "iopub.status.idle": "2022-11-10T03:13:34.770619Z",
          "shell.execute_reply.started": "2022-11-10T03:13:34.746799Z",
          "shell.execute_reply": "2022-11-10T03:13:34.769559Z"
        },
        "trusted": true,
        "colab": {
          "base_uri": "https://localhost:8080/"
        },
        "id": "bdVgQMMVihyH",
        "outputId": "cf05e282-1d6f-456f-9fc9-45b7787f7278"
      },
      "execution_count": null,
      "outputs": [
        {
          "output_type": "stream",
          "name": "stdout",
          "text": [
            "3428\n",
            "1714\n"
          ]
        }
      ]
    },
    {
      "cell_type": "code",
      "source": [
        "train,test=train_test_split(df,stratify=df['Delirium_'],test_size=0.2,shuffle=True,random_state=11)"
      ],
      "metadata": {
        "id": "RRrsxx4G-F4S",
        "execution": {
          "iopub.status.busy": "2022-11-10T03:15:19.031017Z",
          "iopub.execute_input": "2022-11-10T03:15:19.031392Z",
          "iopub.status.idle": "2022-11-10T03:15:19.050074Z",
          "shell.execute_reply.started": "2022-11-10T03:15:19.031362Z",
          "shell.execute_reply": "2022-11-10T03:15:19.048937Z"
        },
        "trusted": true
      },
      "execution_count": null,
      "outputs": []
    },
    {
      "cell_type": "code",
      "source": [
        "len(train.columns)"
      ],
      "metadata": {
        "execution": {
          "iopub.status.busy": "2022-11-10T03:15:41.055793Z",
          "iopub.execute_input": "2022-11-10T03:15:41.056253Z",
          "iopub.status.idle": "2022-11-10T03:15:41.063949Z",
          "shell.execute_reply.started": "2022-11-10T03:15:41.056211Z",
          "shell.execute_reply": "2022-11-10T03:15:41.062827Z"
        },
        "trusted": true,
        "colab": {
          "base_uri": "https://localhost:8080/"
        },
        "id": "hB0q3UKzihyJ",
        "outputId": "2d50500a-6fe4-44ef-c2ca-30ac7cc9fb9d"
      },
      "execution_count": null,
      "outputs": [
        {
          "output_type": "execute_result",
          "data": {
            "text/plain": [
              "88"
            ]
          },
          "metadata": {},
          "execution_count": 8
        }
      ]
    },
    {
      "cell_type": "code",
      "source": [
        "#handling missing values\n",
        "def mergeDFs(df,df_imputed,imputed_col):\n",
        "  l=imputed_col+'_imputed_proba'\n",
        "  if l not in list(df_imputed):\n",
        "    df_imputed2=df_imputed.drop(imputed_col,axis=1)\n",
        "  else:\n",
        "    df_imputed2=df_imputed.drop([imputed_col,l],axis=1)\n",
        "  df=df[df[imputed_col].isnull()==False]\n",
        "  df_imputed2=df_imputed2.rename(columns = {imputed_col+'_imputed':imputed_col})\n",
        "  return pd.concat([df,df_imputed2],sort=False)\n",
        "\n",
        "def impute(df_train,df_test):\n",
        "    cols=list(df_train)\n",
        "    i=1\n",
        "    for col in cols:\n",
        "        print(i)\n",
        "        missing = df_train[df_train[col].isnull()]\n",
        "        missing_test=df_test[df_test[col].isnull()]\n",
        "        if missing.shape[0]>0 or missing_test.shape[0]>0:\n",
        "            in_cols=cols\n",
        "            in_cols.remove(col)\n",
        "            imputer = datawig.SimpleImputer(\n",
        "            input_columns=in_cols,\n",
        "            output_column=col\n",
        "            )\n",
        "            imputer.fit(train_df = df_train)\n",
        "            imputed = imputer.predict(missing)\n",
        "            imputed_test = imputer.predict(missing_test)\n",
        "            df_train=mergeDFs(df_train,imputed,col)\n",
        "            df_test=mergeDFs(df_test,imputed_test,col)\n",
        "        i+=1\n",
        "    for col in cols:\n",
        "        mvals=df_train[col].isnull().sum()\n",
        "        mvals_test=df_test[col].isnull().sum()\n",
        "        if mvals>0 or mvals_test>0:\n",
        "            df_train, df_test=impute(df_train,df_test)\n",
        "    return df_train, df_test"
      ],
      "metadata": {
        "id": "srJkMPYq9Yh0",
        "execution": {
          "iopub.status.busy": "2022-11-10T03:15:45.558714Z",
          "iopub.execute_input": "2022-11-10T03:15:45.559105Z",
          "iopub.status.idle": "2022-11-10T03:15:45.570502Z",
          "shell.execute_reply.started": "2022-11-10T03:15:45.559071Z",
          "shell.execute_reply": "2022-11-10T03:15:45.569382Z"
        },
        "trusted": true
      },
      "execution_count": null,
      "outputs": []
    },
    {
      "cell_type": "code",
      "source": [
        "train_im,test_im=impute(train,test)"
      ],
      "metadata": {
        "id": "KkRnD1Xs-TBV",
        "execution": {
          "iopub.status.busy": "2022-11-10T03:15:50.988332Z",
          "iopub.execute_input": "2022-11-10T03:15:50.988698Z"
        },
        "trusted": true,
        "colab": {
          "base_uri": "https://localhost:8080/"
        },
        "outputId": "f8ef2254-3359-4103-ae73-045507e6b503"
      },
      "execution_count": null,
      "outputs": [
        {
          "output_type": "stream",
          "name": "stdout",
          "text": [
            "1\n"
          ]
        },
        {
          "output_type": "stream",
          "name": "stderr",
          "text": [
            "INFO:numexpr.utils:NumExpr defaulting to 2 threads.\n",
            "2022-11-10 15:48:24,752 [INFO]  NumExpr defaulting to 2 threads.\n",
            "INFO:root:\n",
            "========== start: fit model\n",
            "2022-11-10 15:48:26,547 [INFO]  \n",
            "========== start: fit model\n",
            "WARNING:root:Already bound, ignoring bind()\n",
            "2022-11-10 15:48:26,555 [WARNING]  Already bound, ignoring bind()\n",
            "INFO:root:Epoch[0] Batch [0-116]\tSpeed: 983.38 samples/sec\tcross-entropy=13.324761\tALT-accuracy=8.025641\n",
            "2022-11-10 15:48:28,470 [INFO]  Epoch[0] Batch [0-116]\tSpeed: 983.38 samples/sec\tcross-entropy=13.324761\tALT-accuracy=8.025641\n",
            "INFO:root:Epoch[0] Train-cross-entropy=10.529714\n",
            "2022-11-10 15:48:30,330 [INFO]  Epoch[0] Train-cross-entropy=10.529714\n",
            "INFO:root:Epoch[0] Train-ALT-accuracy=8.155172\n",
            "2022-11-10 15:48:30,339 [INFO]  Epoch[0] Train-ALT-accuracy=8.155172\n",
            "INFO:root:Epoch[0] Time cost=3.783\n",
            "2022-11-10 15:48:30,347 [INFO]  Epoch[0] Time cost=3.783\n",
            "INFO:root:Saved checkpoint to \"alt/model-0000.params\"\n",
            "2022-11-10 15:48:30,358 [INFO]  Saved checkpoint to \"alt/model-0000.params\"\n",
            "INFO:root:Epoch[0] Validation-cross-entropy=154.716114\n",
            "2022-11-10 15:48:30,552 [INFO]  Epoch[0] Validation-cross-entropy=154.716114\n",
            "INFO:root:Epoch[0] Validation-ALT-accuracy=0.000000\n",
            "2022-11-10 15:48:30,558 [INFO]  Epoch[0] Validation-ALT-accuracy=0.000000\n",
            "INFO:root:Epoch[1] Batch [0-116]\tSpeed: 1001.90 samples/sec\tcross-entropy=8.151384\tALT-accuracy=8.025641\n",
            "2022-11-10 15:48:32,435 [INFO]  Epoch[1] Batch [0-116]\tSpeed: 1001.90 samples/sec\tcross-entropy=8.151384\tALT-accuracy=8.025641\n",
            "INFO:root:Epoch[1] Train-cross-entropy=7.076425\n",
            "2022-11-10 15:48:34,290 [INFO]  Epoch[1] Train-cross-entropy=7.076425\n",
            "INFO:root:Epoch[1] Train-ALT-accuracy=8.155172\n",
            "2022-11-10 15:48:34,298 [INFO]  Epoch[1] Train-ALT-accuracy=8.155172\n",
            "INFO:root:Epoch[1] Time cost=3.743\n",
            "2022-11-10 15:48:34,307 [INFO]  Epoch[1] Time cost=3.743\n",
            "INFO:root:Saved checkpoint to \"alt/model-0001.params\"\n",
            "2022-11-10 15:48:34,316 [INFO]  Saved checkpoint to \"alt/model-0001.params\"\n",
            "INFO:root:Epoch[1] Validation-cross-entropy=127.982172\n",
            "2022-11-10 15:48:34,506 [INFO]  Epoch[1] Validation-cross-entropy=127.982172\n",
            "INFO:root:Epoch[1] Validation-ALT-accuracy=0.000000\n",
            "2022-11-10 15:48:34,514 [INFO]  Epoch[1] Validation-ALT-accuracy=0.000000\n",
            "INFO:root:Epoch[2] Batch [0-116]\tSpeed: 994.03 samples/sec\tcross-entropy=8.281364\tALT-accuracy=8.025641\n",
            "2022-11-10 15:48:36,405 [INFO]  Epoch[2] Batch [0-116]\tSpeed: 994.03 samples/sec\tcross-entropy=8.281364\tALT-accuracy=8.025641\n",
            "INFO:root:Epoch[2] Train-cross-entropy=6.669042\n",
            "2022-11-10 15:48:38,220 [INFO]  Epoch[2] Train-cross-entropy=6.669042\n",
            "INFO:root:Epoch[2] Train-ALT-accuracy=8.155172\n",
            "2022-11-10 15:48:38,227 [INFO]  Epoch[2] Train-ALT-accuracy=8.155172\n",
            "INFO:root:Epoch[2] Time cost=3.715\n",
            "2022-11-10 15:48:38,234 [INFO]  Epoch[2] Time cost=3.715\n",
            "INFO:root:Saved checkpoint to \"alt/model-0002.params\"\n",
            "2022-11-10 15:48:38,242 [INFO]  Saved checkpoint to \"alt/model-0002.params\"\n",
            "INFO:root:Epoch[2] Validation-cross-entropy=120.247110\n",
            "2022-11-10 15:48:38,439 [INFO]  Epoch[2] Validation-cross-entropy=120.247110\n",
            "INFO:root:Epoch[2] Validation-ALT-accuracy=0.000000\n",
            "2022-11-10 15:48:38,449 [INFO]  Epoch[2] Validation-ALT-accuracy=0.000000\n",
            "INFO:root:Epoch[3] Batch [0-116]\tSpeed: 988.02 samples/sec\tcross-entropy=7.014388\tALT-accuracy=8.025641\n",
            "2022-11-10 15:48:40,352 [INFO]  Epoch[3] Batch [0-116]\tSpeed: 988.02 samples/sec\tcross-entropy=7.014388\tALT-accuracy=8.025641\n",
            "INFO:root:Epoch[3] Train-cross-entropy=6.012354\n",
            "2022-11-10 15:48:42,206 [INFO]  Epoch[3] Train-cross-entropy=6.012354\n",
            "INFO:root:Epoch[3] Train-ALT-accuracy=8.155172\n",
            "2022-11-10 15:48:42,213 [INFO]  Epoch[3] Train-ALT-accuracy=8.155172\n",
            "INFO:root:Epoch[3] Time cost=3.763\n",
            "2022-11-10 15:48:42,219 [INFO]  Epoch[3] Time cost=3.763\n",
            "INFO:root:Saved checkpoint to \"alt/model-0003.params\"\n",
            "2022-11-10 15:48:42,231 [INFO]  Saved checkpoint to \"alt/model-0003.params\"\n",
            "INFO:root:Epoch[3] Validation-cross-entropy=112.975505\n",
            "2022-11-10 15:48:42,430 [INFO]  Epoch[3] Validation-cross-entropy=112.975505\n",
            "INFO:root:Epoch[3] Validation-ALT-accuracy=0.000000\n",
            "2022-11-10 15:48:42,437 [INFO]  Epoch[3] Validation-ALT-accuracy=0.000000\n",
            "INFO:root:Epoch[4] Batch [0-116]\tSpeed: 1003.90 samples/sec\tcross-entropy=6.372028\tALT-accuracy=8.025641\n",
            "2022-11-10 15:48:44,311 [INFO]  Epoch[4] Batch [0-116]\tSpeed: 1003.90 samples/sec\tcross-entropy=6.372028\tALT-accuracy=8.025641\n",
            "INFO:root:Epoch[4] Train-cross-entropy=5.843286\n",
            "2022-11-10 15:48:46,177 [INFO]  Epoch[4] Train-cross-entropy=5.843286\n",
            "INFO:root:Epoch[4] Train-ALT-accuracy=8.155172\n",
            "2022-11-10 15:48:46,187 [INFO]  Epoch[4] Train-ALT-accuracy=8.155172\n",
            "INFO:root:Epoch[4] Time cost=3.749\n",
            "2022-11-10 15:48:46,192 [INFO]  Epoch[4] Time cost=3.749\n",
            "INFO:root:Saved checkpoint to \"alt/model-0004.params\"\n",
            "2022-11-10 15:48:46,202 [INFO]  Saved checkpoint to \"alt/model-0004.params\"\n",
            "INFO:root:Epoch[4] Validation-cross-entropy=110.958716\n",
            "2022-11-10 15:48:46,394 [INFO]  Epoch[4] Validation-cross-entropy=110.958716\n",
            "INFO:root:Epoch[4] Validation-ALT-accuracy=0.000000\n",
            "2022-11-10 15:48:46,398 [INFO]  Epoch[4] Validation-ALT-accuracy=0.000000\n",
            "INFO:root:Epoch[5] Batch [0-116]\tSpeed: 998.60 samples/sec\tcross-entropy=4.691047\tALT-accuracy=8.025641\n",
            "2022-11-10 15:48:48,280 [INFO]  Epoch[5] Batch [0-116]\tSpeed: 998.60 samples/sec\tcross-entropy=4.691047\tALT-accuracy=8.025641\n",
            "INFO:root:Epoch[5] Train-cross-entropy=5.487482\n",
            "2022-11-10 15:48:50,097 [INFO]  Epoch[5] Train-cross-entropy=5.487482\n",
            "INFO:root:Epoch[5] Train-ALT-accuracy=8.155172\n",
            "2022-11-10 15:48:50,104 [INFO]  Epoch[5] Train-ALT-accuracy=8.155172\n",
            "INFO:root:Epoch[5] Time cost=3.709\n",
            "2022-11-10 15:48:50,110 [INFO]  Epoch[5] Time cost=3.709\n",
            "INFO:root:Saved checkpoint to \"alt/model-0005.params\"\n",
            "2022-11-10 15:48:50,121 [INFO]  Saved checkpoint to \"alt/model-0005.params\"\n",
            "INFO:root:Epoch[5] Validation-cross-entropy=104.610794\n",
            "2022-11-10 15:48:50,310 [INFO]  Epoch[5] Validation-cross-entropy=104.610794\n",
            "INFO:root:Epoch[5] Validation-ALT-accuracy=0.000000\n",
            "2022-11-10 15:48:50,317 [INFO]  Epoch[5] Validation-ALT-accuracy=0.000000\n",
            "INFO:root:Epoch[6] Batch [0-116]\tSpeed: 993.02 samples/sec\tcross-entropy=4.061525\tALT-accuracy=8.025641\n",
            "2022-11-10 15:48:52,210 [INFO]  Epoch[6] Batch [0-116]\tSpeed: 993.02 samples/sec\tcross-entropy=4.061525\tALT-accuracy=8.025641\n",
            "INFO:root:Epoch[6] Train-cross-entropy=4.761641\n",
            "2022-11-10 15:48:54,053 [INFO]  Epoch[6] Train-cross-entropy=4.761641\n",
            "INFO:root:Epoch[6] Train-ALT-accuracy=8.155172\n",
            "2022-11-10 15:48:54,056 [INFO]  Epoch[6] Train-ALT-accuracy=8.155172\n",
            "INFO:root:Epoch[6] Time cost=3.736\n",
            "2022-11-10 15:48:54,060 [INFO]  Epoch[6] Time cost=3.736\n",
            "INFO:root:Saved checkpoint to \"alt/model-0006.params\"\n",
            "2022-11-10 15:48:54,066 [INFO]  Saved checkpoint to \"alt/model-0006.params\"\n",
            "INFO:root:Epoch[6] Validation-cross-entropy=108.434997\n",
            "2022-11-10 15:48:54,255 [INFO]  Epoch[6] Validation-cross-entropy=108.434997\n",
            "INFO:root:Epoch[6] Validation-ALT-accuracy=0.000000\n",
            "2022-11-10 15:48:54,261 [INFO]  Epoch[6] Validation-ALT-accuracy=0.000000\n",
            "INFO:root:Epoch[7] Batch [0-116]\tSpeed: 988.97 samples/sec\tcross-entropy=3.557094\tALT-accuracy=8.025641\n",
            "2022-11-10 15:48:56,162 [INFO]  Epoch[7] Batch [0-116]\tSpeed: 988.97 samples/sec\tcross-entropy=3.557094\tALT-accuracy=8.025641\n",
            "INFO:root:Epoch[7] Train-cross-entropy=3.859065\n",
            "2022-11-10 15:48:58,016 [INFO]  Epoch[7] Train-cross-entropy=3.859065\n",
            "INFO:root:Epoch[7] Train-ALT-accuracy=8.155172\n",
            "2022-11-10 15:48:58,023 [INFO]  Epoch[7] Train-ALT-accuracy=8.155172\n",
            "INFO:root:Epoch[7] Time cost=3.766\n",
            "2022-11-10 15:48:58,031 [INFO]  Epoch[7] Time cost=3.766\n",
            "INFO:root:Saved checkpoint to \"alt/model-0007.params\"\n",
            "2022-11-10 15:48:58,041 [INFO]  Saved checkpoint to \"alt/model-0007.params\"\n",
            "INFO:root:Epoch[7] Validation-cross-entropy=104.592076\n",
            "2022-11-10 15:48:58,235 [INFO]  Epoch[7] Validation-cross-entropy=104.592076\n",
            "INFO:root:Epoch[7] Validation-ALT-accuracy=0.000000\n",
            "2022-11-10 15:48:58,243 [INFO]  Epoch[7] Validation-ALT-accuracy=0.000000\n",
            "INFO:root:Epoch[8] Batch [0-116]\tSpeed: 993.03 samples/sec\tcross-entropy=4.190381\tALT-accuracy=8.025641\n",
            "2022-11-10 15:49:00,140 [INFO]  Epoch[8] Batch [0-116]\tSpeed: 993.03 samples/sec\tcross-entropy=4.190381\tALT-accuracy=8.025641\n",
            "INFO:root:Epoch[8] Train-cross-entropy=3.937075\n",
            "2022-11-10 15:49:02,190 [INFO]  Epoch[8] Train-cross-entropy=3.937075\n",
            "INFO:root:Epoch[8] Train-ALT-accuracy=8.155172\n",
            "2022-11-10 15:49:02,197 [INFO]  Epoch[8] Train-ALT-accuracy=8.155172\n",
            "INFO:root:Epoch[8] Time cost=3.954\n",
            "2022-11-10 15:49:02,206 [INFO]  Epoch[8] Time cost=3.954\n",
            "INFO:root:Saved checkpoint to \"alt/model-0008.params\"\n",
            "2022-11-10 15:49:02,216 [INFO]  Saved checkpoint to \"alt/model-0008.params\"\n",
            "INFO:root:Epoch[8] Validation-cross-entropy=111.505041\n",
            "2022-11-10 15:49:02,590 [INFO]  Epoch[8] Validation-cross-entropy=111.505041\n",
            "INFO:root:Epoch[8] Validation-ALT-accuracy=0.000000\n",
            "2022-11-10 15:49:02,599 [INFO]  Epoch[8] Validation-ALT-accuracy=0.000000\n",
            "INFO:root:Epoch[9] Batch [0-116]\tSpeed: 926.29 samples/sec\tcross-entropy=3.127068\tALT-accuracy=8.025641\n",
            "2022-11-10 15:49:04,626 [INFO]  Epoch[9] Batch [0-116]\tSpeed: 926.29 samples/sec\tcross-entropy=3.127068\tALT-accuracy=8.025641\n",
            "INFO:root:Epoch[9] Train-cross-entropy=3.237133\n",
            "2022-11-10 15:49:06,493 [INFO]  Epoch[9] Train-cross-entropy=3.237133\n",
            "INFO:root:Epoch[9] Train-ALT-accuracy=8.155172\n",
            "2022-11-10 15:49:06,503 [INFO]  Epoch[9] Train-ALT-accuracy=8.155172\n",
            "INFO:root:Epoch[9] Time cost=3.907\n",
            "2022-11-10 15:49:06,511 [INFO]  Epoch[9] Time cost=3.907\n",
            "INFO:root:Saved checkpoint to \"alt/model-0009.params\"\n",
            "2022-11-10 15:49:06,520 [INFO]  Saved checkpoint to \"alt/model-0009.params\"\n",
            "INFO:root:Epoch[9] Validation-cross-entropy=106.408443\n",
            "2022-11-10 15:49:06,713 [INFO]  Epoch[9] Validation-cross-entropy=106.408443\n",
            "INFO:root:Epoch[9] Validation-ALT-accuracy=0.000000\n",
            "2022-11-10 15:49:06,719 [INFO]  Epoch[9] Validation-ALT-accuracy=0.000000\n",
            "INFO:root:Epoch[10] Batch [0-116]\tSpeed: 996.18 samples/sec\tcross-entropy=2.840264\tALT-accuracy=8.025641\n",
            "2022-11-10 15:49:08,611 [INFO]  Epoch[10] Batch [0-116]\tSpeed: 996.18 samples/sec\tcross-entropy=2.840264\tALT-accuracy=8.025641\n",
            "INFO:root:Epoch[10] Train-cross-entropy=3.112048\n",
            "2022-11-10 15:49:10,510 [INFO]  Epoch[10] Train-cross-entropy=3.112048\n",
            "INFO:root:Epoch[10] Train-ALT-accuracy=8.155172\n",
            "2022-11-10 15:49:10,518 [INFO]  Epoch[10] Train-ALT-accuracy=8.155172\n",
            "INFO:root:Epoch[10] Time cost=3.799\n",
            "2022-11-10 15:49:10,522 [INFO]  Epoch[10] Time cost=3.799\n",
            "INFO:root:Saved checkpoint to \"alt/model-0010.params\"\n",
            "2022-11-10 15:49:10,529 [INFO]  Saved checkpoint to \"alt/model-0010.params\"\n",
            "INFO:root:Epoch[10] Validation-cross-entropy=106.911037\n",
            "2022-11-10 15:49:10,724 [INFO]  Epoch[10] Validation-cross-entropy=106.911037\n",
            "INFO:root:Epoch[10] Validation-ALT-accuracy=0.000000\n",
            "2022-11-10 15:49:10,727 [INFO]  Epoch[10] Validation-ALT-accuracy=0.000000\n",
            "INFO:root:Epoch[11] Batch [0-116]\tSpeed: 979.93 samples/sec\tcross-entropy=2.803150\tALT-accuracy=8.025641\n",
            "2022-11-10 15:49:12,648 [INFO]  Epoch[11] Batch [0-116]\tSpeed: 979.93 samples/sec\tcross-entropy=2.803150\tALT-accuracy=8.025641\n",
            "INFO:root:Epoch[11] Train-cross-entropy=3.261019\n",
            "2022-11-10 15:49:14,534 [INFO]  Epoch[11] Train-cross-entropy=3.261019\n",
            "INFO:root:Epoch[11] Train-ALT-accuracy=8.155172\n",
            "2022-11-10 15:49:14,541 [INFO]  Epoch[11] Train-ALT-accuracy=8.155172\n",
            "INFO:root:Epoch[11] Time cost=3.817\n",
            "2022-11-10 15:49:14,546 [INFO]  Epoch[11] Time cost=3.817\n",
            "INFO:root:Saved checkpoint to \"alt/model-0011.params\"\n",
            "2022-11-10 15:49:14,552 [INFO]  Saved checkpoint to \"alt/model-0011.params\"\n",
            "INFO:root:Epoch[11] Validation-cross-entropy=101.815676\n",
            "2022-11-10 15:49:14,745 [INFO]  Epoch[11] Validation-cross-entropy=101.815676\n",
            "INFO:root:Epoch[11] Validation-ALT-accuracy=0.000000\n",
            "2022-11-10 15:49:14,753 [INFO]  Epoch[11] Validation-ALT-accuracy=0.000000\n",
            "INFO:root:Epoch[12] Batch [0-116]\tSpeed: 988.66 samples/sec\tcross-entropy=3.082268\tALT-accuracy=8.025641\n",
            "2022-11-10 15:49:16,654 [INFO]  Epoch[12] Batch [0-116]\tSpeed: 988.66 samples/sec\tcross-entropy=3.082268\tALT-accuracy=8.025641\n",
            "INFO:root:Epoch[12] Train-cross-entropy=3.668458\n",
            "2022-11-10 15:49:18,522 [INFO]  Epoch[12] Train-cross-entropy=3.668458\n",
            "INFO:root:Epoch[12] Train-ALT-accuracy=8.155172\n",
            "2022-11-10 15:49:18,533 [INFO]  Epoch[12] Train-ALT-accuracy=8.155172\n",
            "INFO:root:Epoch[12] Time cost=3.787\n",
            "2022-11-10 15:49:18,543 [INFO]  Epoch[12] Time cost=3.787\n",
            "INFO:root:Saved checkpoint to \"alt/model-0012.params\"\n",
            "2022-11-10 15:49:18,552 [INFO]  Saved checkpoint to \"alt/model-0012.params\"\n",
            "INFO:root:Epoch[12] Validation-cross-entropy=96.569497\n",
            "2022-11-10 15:49:18,740 [INFO]  Epoch[12] Validation-cross-entropy=96.569497\n",
            "INFO:root:Epoch[12] Validation-ALT-accuracy=0.000000\n",
            "2022-11-10 15:49:18,749 [INFO]  Epoch[12] Validation-ALT-accuracy=0.000000\n",
            "INFO:root:Epoch[13] Batch [0-116]\tSpeed: 1003.96 samples/sec\tcross-entropy=2.918103\tALT-accuracy=8.025641\n",
            "2022-11-10 15:49:20,619 [INFO]  Epoch[13] Batch [0-116]\tSpeed: 1003.96 samples/sec\tcross-entropy=2.918103\tALT-accuracy=8.025641\n",
            "INFO:root:Epoch[13] Train-cross-entropy=3.432249\n",
            "2022-11-10 15:49:22,494 [INFO]  Epoch[13] Train-cross-entropy=3.432249\n",
            "INFO:root:Epoch[13] Train-ALT-accuracy=8.155172\n",
            "2022-11-10 15:49:22,503 [INFO]  Epoch[13] Train-ALT-accuracy=8.155172\n",
            "INFO:root:Epoch[13] Time cost=3.753\n",
            "2022-11-10 15:49:22,506 [INFO]  Epoch[13] Time cost=3.753\n",
            "INFO:root:Saved checkpoint to \"alt/model-0013.params\"\n",
            "2022-11-10 15:49:22,515 [INFO]  Saved checkpoint to \"alt/model-0013.params\"\n",
            "INFO:root:Epoch[13] Validation-cross-entropy=94.466865\n",
            "2022-11-10 15:49:22,708 [INFO]  Epoch[13] Validation-cross-entropy=94.466865\n",
            "INFO:root:Epoch[13] Validation-ALT-accuracy=0.000000\n",
            "2022-11-10 15:49:22,712 [INFO]  Epoch[13] Validation-ALT-accuracy=0.000000\n",
            "INFO:root:Epoch[14] Batch [0-116]\tSpeed: 1020.22 samples/sec\tcross-entropy=2.723188\tALT-accuracy=8.025641\n",
            "2022-11-10 15:49:24,555 [INFO]  Epoch[14] Batch [0-116]\tSpeed: 1020.22 samples/sec\tcross-entropy=2.723188\tALT-accuracy=8.025641\n",
            "INFO:root:Epoch[14] Train-cross-entropy=3.565699\n",
            "2022-11-10 15:49:26,351 [INFO]  Epoch[14] Train-cross-entropy=3.565699\n",
            "INFO:root:Epoch[14] Train-ALT-accuracy=8.155172\n",
            "2022-11-10 15:49:26,361 [INFO]  Epoch[14] Train-ALT-accuracy=8.155172\n",
            "INFO:root:Epoch[14] Time cost=3.654\n",
            "2022-11-10 15:49:26,369 [INFO]  Epoch[14] Time cost=3.654\n",
            "INFO:root:Saved checkpoint to \"alt/model-0014.params\"\n",
            "2022-11-10 15:49:26,381 [INFO]  Saved checkpoint to \"alt/model-0014.params\"\n",
            "INFO:root:Epoch[14] Validation-cross-entropy=94.017571\n",
            "2022-11-10 15:49:26,569 [INFO]  Epoch[14] Validation-cross-entropy=94.017571\n",
            "INFO:root:Epoch[14] Validation-ALT-accuracy=0.000000\n",
            "2022-11-10 15:49:26,578 [INFO]  Epoch[14] Validation-ALT-accuracy=0.000000\n",
            "INFO:root:Epoch[15] Batch [0-116]\tSpeed: 994.35 samples/sec\tcross-entropy=2.595421\tALT-accuracy=8.025641\n",
            "2022-11-10 15:49:28,470 [INFO]  Epoch[15] Batch [0-116]\tSpeed: 994.35 samples/sec\tcross-entropy=2.595421\tALT-accuracy=8.025641\n",
            "INFO:root:Epoch[15] Train-cross-entropy=2.925510\n",
            "2022-11-10 15:49:30,286 [INFO]  Epoch[15] Train-cross-entropy=2.925510\n",
            "INFO:root:Epoch[15] Train-ALT-accuracy=8.155172\n",
            "2022-11-10 15:49:30,293 [INFO]  Epoch[15] Train-ALT-accuracy=8.155172\n",
            "INFO:root:Epoch[15] Time cost=3.716\n",
            "2022-11-10 15:49:30,300 [INFO]  Epoch[15] Time cost=3.716\n",
            "INFO:root:Saved checkpoint to \"alt/model-0015.params\"\n",
            "2022-11-10 15:49:30,307 [INFO]  Saved checkpoint to \"alt/model-0015.params\"\n",
            "INFO:root:Epoch[15] Validation-cross-entropy=97.217760\n",
            "2022-11-10 15:49:30,485 [INFO]  Epoch[15] Validation-cross-entropy=97.217760\n",
            "INFO:root:Epoch[15] Validation-ALT-accuracy=0.000000\n",
            "2022-11-10 15:49:30,490 [INFO]  Epoch[15] Validation-ALT-accuracy=0.000000\n",
            "INFO:root:Epoch[16] Batch [0-116]\tSpeed: 1022.06 samples/sec\tcross-entropy=2.361910\tALT-accuracy=8.025641\n",
            "2022-11-10 15:49:32,330 [INFO]  Epoch[16] Batch [0-116]\tSpeed: 1022.06 samples/sec\tcross-entropy=2.361910\tALT-accuracy=8.025641\n",
            "INFO:root:Epoch[16] Train-cross-entropy=2.804609\n",
            "2022-11-10 15:49:34,153 [INFO]  Epoch[16] Train-cross-entropy=2.804609\n",
            "INFO:root:Epoch[16] Train-ALT-accuracy=8.155172\n",
            "2022-11-10 15:49:34,160 [INFO]  Epoch[16] Train-ALT-accuracy=8.155172\n",
            "INFO:root:Epoch[16] Time cost=3.672\n",
            "2022-11-10 15:49:34,167 [INFO]  Epoch[16] Time cost=3.672\n",
            "INFO:root:Saved checkpoint to \"alt/model-0016.params\"\n",
            "2022-11-10 15:49:34,178 [INFO]  Saved checkpoint to \"alt/model-0016.params\"\n",
            "INFO:root:Epoch[16] Validation-cross-entropy=98.616097\n",
            "2022-11-10 15:49:34,373 [INFO]  Epoch[16] Validation-cross-entropy=98.616097\n",
            "INFO:root:Epoch[16] Validation-ALT-accuracy=0.000000\n",
            "2022-11-10 15:49:34,379 [INFO]  Epoch[16] Validation-ALT-accuracy=0.000000\n",
            "INFO:root:Epoch[17] Batch [0-116]\tSpeed: 1012.57 samples/sec\tcross-entropy=2.264282\tALT-accuracy=8.025641\n",
            "2022-11-10 15:49:36,235 [INFO]  Epoch[17] Batch [0-116]\tSpeed: 1012.57 samples/sec\tcross-entropy=2.264282\tALT-accuracy=8.025641\n",
            "INFO:root:Epoch[17] Train-cross-entropy=2.551659\n",
            "2022-11-10 15:49:38,062 [INFO]  Epoch[17] Train-cross-entropy=2.551659\n",
            "INFO:root:Epoch[17] Train-ALT-accuracy=8.155172\n",
            "2022-11-10 15:49:38,071 [INFO]  Epoch[17] Train-ALT-accuracy=8.155172\n",
            "INFO:root:Epoch[17] Time cost=3.692\n",
            "2022-11-10 15:49:38,077 [INFO]  Epoch[17] Time cost=3.692\n",
            "INFO:root:Saved checkpoint to \"alt/model-0017.params\"\n",
            "2022-11-10 15:49:38,085 [INFO]  Saved checkpoint to \"alt/model-0017.params\"\n",
            "INFO:root:Epoch[17] Validation-cross-entropy=93.967416\n",
            "2022-11-10 15:49:38,265 [INFO]  Epoch[17] Validation-cross-entropy=93.967416\n",
            "INFO:root:Epoch[17] Validation-ALT-accuracy=0.000000\n",
            "2022-11-10 15:49:38,271 [INFO]  Epoch[17] Validation-ALT-accuracy=0.000000\n",
            "INFO:root:Epoch[18] Batch [0-116]\tSpeed: 1021.70 samples/sec\tcross-entropy=2.045626\tALT-accuracy=8.025641\n",
            "2022-11-10 15:49:40,110 [INFO]  Epoch[18] Batch [0-116]\tSpeed: 1021.70 samples/sec\tcross-entropy=2.045626\tALT-accuracy=8.025641\n",
            "INFO:root:Epoch[18] Train-cross-entropy=2.377344\n",
            "2022-11-10 15:49:43,638 [INFO]  Epoch[18] Train-cross-entropy=2.377344\n",
            "INFO:root:Epoch[18] Train-ALT-accuracy=8.155172\n",
            "2022-11-10 15:49:43,643 [INFO]  Epoch[18] Train-ALT-accuracy=8.155172\n",
            "INFO:root:Epoch[18] Time cost=5.371\n",
            "2022-11-10 15:49:43,645 [INFO]  Epoch[18] Time cost=5.371\n",
            "INFO:root:Saved checkpoint to \"alt/model-0018.params\"\n",
            "2022-11-10 15:49:43,651 [INFO]  Saved checkpoint to \"alt/model-0018.params\"\n",
            "INFO:root:Epoch[18] Validation-cross-entropy=93.733848\n",
            "2022-11-10 15:49:43,910 [INFO]  Epoch[18] Validation-cross-entropy=93.733848\n",
            "INFO:root:Epoch[18] Validation-ALT-accuracy=0.000000\n",
            "2022-11-10 15:49:43,914 [INFO]  Epoch[18] Validation-ALT-accuracy=0.000000\n",
            "INFO:root:Epoch[19] Batch [0-116]\tSpeed: 727.59 samples/sec\tcross-entropy=2.302232\tALT-accuracy=8.025641\n",
            "2022-11-10 15:49:46,495 [INFO]  Epoch[19] Batch [0-116]\tSpeed: 727.59 samples/sec\tcross-entropy=2.302232\tALT-accuracy=8.025641\n",
            "INFO:root:Epoch[19] Train-cross-entropy=2.543924\n",
            "2022-11-10 15:49:48,319 [INFO]  Epoch[19] Train-cross-entropy=2.543924\n",
            "INFO:root:Epoch[19] Train-ALT-accuracy=8.155172\n",
            "2022-11-10 15:49:48,326 [INFO]  Epoch[19] Train-ALT-accuracy=8.155172\n",
            "INFO:root:Epoch[19] Time cost=4.414\n",
            "2022-11-10 15:49:48,330 [INFO]  Epoch[19] Time cost=4.414\n",
            "INFO:root:Saved checkpoint to \"alt/model-0019.params\"\n",
            "2022-11-10 15:49:48,344 [INFO]  Saved checkpoint to \"alt/model-0019.params\"\n",
            "INFO:root:Epoch[19] Validation-cross-entropy=95.865810\n",
            "2022-11-10 15:49:48,527 [INFO]  Epoch[19] Validation-cross-entropy=95.865810\n",
            "INFO:root:Epoch[19] Validation-ALT-accuracy=0.000000\n",
            "2022-11-10 15:49:48,532 [INFO]  Epoch[19] Validation-ALT-accuracy=0.000000\n",
            "INFO:root:Epoch[20] Batch [0-116]\tSpeed: 1010.80 samples/sec\tcross-entropy=2.123844\tALT-accuracy=8.025641\n",
            "2022-11-10 15:49:50,394 [INFO]  Epoch[20] Batch [0-116]\tSpeed: 1010.80 samples/sec\tcross-entropy=2.123844\tALT-accuracy=8.025641\n",
            "INFO:root:Epoch[20] Train-cross-entropy=2.283549\n",
            "2022-11-10 15:49:52,211 [INFO]  Epoch[20] Train-cross-entropy=2.283549\n",
            "INFO:root:Epoch[20] Train-ALT-accuracy=8.155172\n",
            "2022-11-10 15:49:52,222 [INFO]  Epoch[20] Train-ALT-accuracy=8.155172\n",
            "INFO:root:Epoch[20] Time cost=3.692\n",
            "2022-11-10 15:49:52,232 [INFO]  Epoch[20] Time cost=3.692\n",
            "INFO:root:Saved checkpoint to \"alt/model-0020.params\"\n",
            "2022-11-10 15:49:52,242 [INFO]  Saved checkpoint to \"alt/model-0020.params\"\n",
            "INFO:root:Epoch[20] Validation-cross-entropy=89.126986\n",
            "2022-11-10 15:49:52,425 [INFO]  Epoch[20] Validation-cross-entropy=89.126986\n",
            "INFO:root:Epoch[20] Validation-ALT-accuracy=0.000000\n",
            "2022-11-10 15:49:52,434 [INFO]  Epoch[20] Validation-ALT-accuracy=0.000000\n",
            "INFO:root:Epoch[21] Batch [0-116]\tSpeed: 1030.13 samples/sec\tcross-entropy=2.023161\tALT-accuracy=8.025641\n",
            "2022-11-10 15:49:54,259 [INFO]  Epoch[21] Batch [0-116]\tSpeed: 1030.13 samples/sec\tcross-entropy=2.023161\tALT-accuracy=8.025641\n",
            "INFO:root:Epoch[21] Train-cross-entropy=2.512872\n",
            "2022-11-10 15:49:56,066 [INFO]  Epoch[21] Train-cross-entropy=2.512872\n",
            "INFO:root:Epoch[21] Train-ALT-accuracy=8.155172\n",
            "2022-11-10 15:49:56,071 [INFO]  Epoch[21] Train-ALT-accuracy=8.155172\n",
            "INFO:root:Epoch[21] Time cost=3.637\n",
            "2022-11-10 15:49:56,076 [INFO]  Epoch[21] Time cost=3.637\n",
            "INFO:root:Saved checkpoint to \"alt/model-0021.params\"\n",
            "2022-11-10 15:49:56,081 [INFO]  Saved checkpoint to \"alt/model-0021.params\"\n",
            "INFO:root:Epoch[21] Validation-cross-entropy=96.548495\n",
            "2022-11-10 15:49:56,268 [INFO]  Epoch[21] Validation-cross-entropy=96.548495\n",
            "INFO:root:Epoch[21] Validation-ALT-accuracy=0.000000\n",
            "2022-11-10 15:49:56,273 [INFO]  Epoch[21] Validation-ALT-accuracy=0.000000\n",
            "INFO:root:Epoch[22] Batch [0-116]\tSpeed: 1037.08 samples/sec\tcross-entropy=2.231338\tALT-accuracy=8.025641\n",
            "2022-11-10 15:49:58,087 [INFO]  Epoch[22] Batch [0-116]\tSpeed: 1037.08 samples/sec\tcross-entropy=2.231338\tALT-accuracy=8.025641\n",
            "INFO:root:Epoch[22] Train-cross-entropy=2.724996\n",
            "2022-11-10 15:49:59,889 [INFO]  Epoch[22] Train-cross-entropy=2.724996\n",
            "INFO:root:Epoch[22] Train-ALT-accuracy=8.155172\n",
            "2022-11-10 15:49:59,894 [INFO]  Epoch[22] Train-ALT-accuracy=8.155172\n",
            "INFO:root:Epoch[22] Time cost=3.620\n",
            "2022-11-10 15:49:59,898 [INFO]  Epoch[22] Time cost=3.620\n",
            "INFO:root:Saved checkpoint to \"alt/model-0022.params\"\n",
            "2022-11-10 15:49:59,903 [INFO]  Saved checkpoint to \"alt/model-0022.params\"\n",
            "INFO:root:Epoch[22] Validation-cross-entropy=83.043380\n",
            "2022-11-10 15:50:00,096 [INFO]  Epoch[22] Validation-cross-entropy=83.043380\n",
            "INFO:root:Epoch[22] Validation-ALT-accuracy=0.000000\n",
            "2022-11-10 15:50:00,103 [INFO]  Epoch[22] Validation-ALT-accuracy=0.000000\n",
            "INFO:root:Epoch[23] Batch [0-116]\tSpeed: 1032.00 samples/sec\tcross-entropy=2.613976\tALT-accuracy=8.025641\n",
            "2022-11-10 15:50:01,928 [INFO]  Epoch[23] Batch [0-116]\tSpeed: 1032.00 samples/sec\tcross-entropy=2.613976\tALT-accuracy=8.025641\n",
            "INFO:root:Epoch[23] Train-cross-entropy=3.012249\n",
            "2022-11-10 15:50:03,739 [INFO]  Epoch[23] Train-cross-entropy=3.012249\n",
            "INFO:root:Epoch[23] Train-ALT-accuracy=8.155172\n",
            "2022-11-10 15:50:03,748 [INFO]  Epoch[23] Train-ALT-accuracy=8.155172\n",
            "INFO:root:Epoch[23] Time cost=3.639\n",
            "2022-11-10 15:50:03,752 [INFO]  Epoch[23] Time cost=3.639\n",
            "INFO:root:Saved checkpoint to \"alt/model-0023.params\"\n",
            "2022-11-10 15:50:03,758 [INFO]  Saved checkpoint to \"alt/model-0023.params\"\n",
            "INFO:root:Epoch[23] Validation-cross-entropy=89.317418\n",
            "2022-11-10 15:50:03,951 [INFO]  Epoch[23] Validation-cross-entropy=89.317418\n",
            "INFO:root:Epoch[23] Validation-ALT-accuracy=0.000000\n",
            "2022-11-10 15:50:03,959 [INFO]  Epoch[23] Validation-ALT-accuracy=0.000000\n",
            "INFO:root:Epoch[24] Batch [0-116]\tSpeed: 1024.51 samples/sec\tcross-entropy=2.031937\tALT-accuracy=8.025641\n",
            "2022-11-10 15:50:05,797 [INFO]  Epoch[24] Batch [0-116]\tSpeed: 1024.51 samples/sec\tcross-entropy=2.031937\tALT-accuracy=8.025641\n",
            "INFO:root:Epoch[24] Train-cross-entropy=2.724060\n",
            "2022-11-10 15:50:07,616 [INFO]  Epoch[24] Train-cross-entropy=2.724060\n",
            "INFO:root:Epoch[24] Train-ALT-accuracy=8.155172\n",
            "2022-11-10 15:50:07,625 [INFO]  Epoch[24] Train-ALT-accuracy=8.155172\n",
            "INFO:root:Epoch[24] Time cost=3.663\n",
            "2022-11-10 15:50:07,629 [INFO]  Epoch[24] Time cost=3.663\n",
            "INFO:root:Saved checkpoint to \"alt/model-0024.params\"\n",
            "2022-11-10 15:50:07,635 [INFO]  Saved checkpoint to \"alt/model-0024.params\"\n",
            "INFO:root:Epoch[24] Validation-cross-entropy=89.912494\n",
            "2022-11-10 15:50:07,825 [INFO]  Epoch[24] Validation-cross-entropy=89.912494\n",
            "INFO:root:Epoch[24] Validation-ALT-accuracy=0.000000\n",
            "2022-11-10 15:50:07,833 [INFO]  Epoch[24] Validation-ALT-accuracy=0.000000\n",
            "INFO:root:Epoch[25] Batch [0-116]\tSpeed: 1021.50 samples/sec\tcross-entropy=2.097140\tALT-accuracy=8.025641\n",
            "2022-11-10 15:50:09,675 [INFO]  Epoch[25] Batch [0-116]\tSpeed: 1021.50 samples/sec\tcross-entropy=2.097140\tALT-accuracy=8.025641\n",
            "INFO:root:Epoch[25] Train-cross-entropy=2.612804\n",
            "2022-11-10 15:50:11,479 [INFO]  Epoch[25] Train-cross-entropy=2.612804\n",
            "INFO:root:Epoch[25] Train-ALT-accuracy=8.155172\n",
            "2022-11-10 15:50:11,482 [INFO]  Epoch[25] Train-ALT-accuracy=8.155172\n",
            "INFO:root:Epoch[25] Time cost=3.644\n",
            "2022-11-10 15:50:11,485 [INFO]  Epoch[25] Time cost=3.644\n",
            "INFO:root:Saved checkpoint to \"alt/model-0025.params\"\n",
            "2022-11-10 15:50:11,491 [INFO]  Saved checkpoint to \"alt/model-0025.params\"\n",
            "INFO:root:Epoch[25] Validation-cross-entropy=92.442951\n",
            "2022-11-10 15:50:11,689 [INFO]  Epoch[25] Validation-cross-entropy=92.442951\n",
            "INFO:root:Epoch[25] Validation-ALT-accuracy=0.000000\n",
            "2022-11-10 15:50:11,697 [INFO]  Epoch[25] Validation-ALT-accuracy=0.000000\n",
            "INFO:root:Epoch[26] Batch [0-116]\tSpeed: 1006.16 samples/sec\tcross-entropy=1.803821\tALT-accuracy=8.025641\n",
            "2022-11-10 15:50:13,568 [INFO]  Epoch[26] Batch [0-116]\tSpeed: 1006.16 samples/sec\tcross-entropy=1.803821\tALT-accuracy=8.025641\n",
            "INFO:root:Epoch[26] Train-cross-entropy=2.365402\n",
            "2022-11-10 15:50:15,381 [INFO]  Epoch[26] Train-cross-entropy=2.365402\n",
            "INFO:root:Epoch[26] Train-ALT-accuracy=8.155172\n",
            "2022-11-10 15:50:15,388 [INFO]  Epoch[26] Train-ALT-accuracy=8.155172\n",
            "INFO:root:Epoch[26] Time cost=3.690\n",
            "2022-11-10 15:50:15,395 [INFO]  Epoch[26] Time cost=3.690\n",
            "INFO:root:Saved checkpoint to \"alt/model-0026.params\"\n",
            "2022-11-10 15:50:15,400 [INFO]  Saved checkpoint to \"alt/model-0026.params\"\n",
            "INFO:root:Epoch[26] Validation-cross-entropy=86.696494\n",
            "2022-11-10 15:50:15,585 [INFO]  Epoch[26] Validation-cross-entropy=86.696494\n",
            "INFO:root:Epoch[26] Validation-ALT-accuracy=0.000000\n",
            "2022-11-10 15:50:15,591 [INFO]  Epoch[26] Validation-ALT-accuracy=0.000000\n",
            "INFO:root:Epoch[27] Batch [0-116]\tSpeed: 1017.25 samples/sec\tcross-entropy=1.773698\tALT-accuracy=8.025641\n",
            "2022-11-10 15:50:17,440 [INFO]  Epoch[27] Batch [0-116]\tSpeed: 1017.25 samples/sec\tcross-entropy=1.773698\tALT-accuracy=8.025641\n",
            "INFO:root:Epoch[27] Train-cross-entropy=2.305972\n",
            "2022-11-10 15:50:19,247 [INFO]  Epoch[27] Train-cross-entropy=2.305972\n",
            "INFO:root:Epoch[27] Train-ALT-accuracy=8.155172\n",
            "2022-11-10 15:50:19,252 [INFO]  Epoch[27] Train-ALT-accuracy=8.155172\n",
            "INFO:root:Epoch[27] Time cost=3.657\n",
            "2022-11-10 15:50:19,256 [INFO]  Epoch[27] Time cost=3.657\n",
            "INFO:root:Saved checkpoint to \"alt/model-0027.params\"\n",
            "2022-11-10 15:50:19,269 [INFO]  Saved checkpoint to \"alt/model-0027.params\"\n",
            "INFO:root:No improvement detected for 5 epochs compared to 83.04338024212764 last error obtained: 90.50178334346184, stopping here\n",
            "2022-11-10 15:50:19,461 [INFO]  No improvement detected for 5 epochs compared to 83.04338024212764 last error obtained: 90.50178334346184, stopping here\n",
            "INFO:root:\n",
            "========== done (112.92012906074524 s) fit model\n",
            "2022-11-10 15:50:19,466 [INFO]  \n",
            "========== done (112.92012906074524 s) fit model\n",
            "/usr/local/lib/python3.7/dist-packages/datawig/calibration.py:92: RuntimeWarning: invalid value encountered in log\n",
            "  return np.log(probas)\n",
            "/usr/local/lib/python3.7/dist-packages/datawig/calibration.py:59: RuntimeWarning: invalid value encountered in greater_equal\n",
            "  bin_mask = (top_probas >= bin_lower) & (top_probas < bin_upper)\n",
            "/usr/local/lib/python3.7/dist-packages/datawig/calibration.py:59: RuntimeWarning: invalid value encountered in less\n",
            "  bin_mask = (top_probas >= bin_lower) & (top_probas < bin_upper)\n"
          ]
        },
        {
          "output_type": "stream",
          "name": "stdout",
          "text": [
            "2\n",
            "3\n",
            "4\n"
          ]
        },
        {
          "output_type": "stream",
          "name": "stderr",
          "text": [
            "/usr/local/lib/python3.7/dist-packages/datawig/calibration.py:92: RuntimeWarning: invalid value encountered in log\n",
            "  return np.log(probas)\n",
            "/usr/local/lib/python3.7/dist-packages/datawig/calibration.py:59: RuntimeWarning: invalid value encountered in greater_equal\n",
            "  bin_mask = (top_probas >= bin_lower) & (top_probas < bin_upper)\n",
            "/usr/local/lib/python3.7/dist-packages/datawig/calibration.py:59: RuntimeWarning: invalid value encountered in less\n",
            "  bin_mask = (top_probas >= bin_lower) & (top_probas < bin_upper)\n"
          ]
        },
        {
          "output_type": "stream",
          "name": "stdout",
          "text": [
            "5\n",
            "6\n",
            "7\n",
            "8\n",
            "9\n"
          ]
        },
        {
          "output_type": "stream",
          "name": "stderr",
          "text": [
            "/usr/local/lib/python3.7/dist-packages/datawig/calibration.py:92: RuntimeWarning: invalid value encountered in log\n",
            "  return np.log(probas)\n",
            "/usr/local/lib/python3.7/dist-packages/datawig/calibration.py:59: RuntimeWarning: invalid value encountered in greater_equal\n",
            "  bin_mask = (top_probas >= bin_lower) & (top_probas < bin_upper)\n",
            "/usr/local/lib/python3.7/dist-packages/datawig/calibration.py:59: RuntimeWarning: invalid value encountered in less\n",
            "  bin_mask = (top_probas >= bin_lower) & (top_probas < bin_upper)\n"
          ]
        },
        {
          "output_type": "stream",
          "name": "stdout",
          "text": [
            "10\n"
          ]
        },
        {
          "output_type": "stream",
          "name": "stderr",
          "text": [
            "/usr/local/lib/python3.7/dist-packages/datawig/calibration.py:92: RuntimeWarning: invalid value encountered in log\n",
            "  return np.log(probas)\n",
            "/usr/local/lib/python3.7/dist-packages/datawig/calibration.py:59: RuntimeWarning: invalid value encountered in greater_equal\n",
            "  bin_mask = (top_probas >= bin_lower) & (top_probas < bin_upper)\n",
            "/usr/local/lib/python3.7/dist-packages/datawig/calibration.py:59: RuntimeWarning: invalid value encountered in less\n",
            "  bin_mask = (top_probas >= bin_lower) & (top_probas < bin_upper)\n"
          ]
        },
        {
          "output_type": "stream",
          "name": "stdout",
          "text": [
            "11\n"
          ]
        },
        {
          "output_type": "stream",
          "name": "stderr",
          "text": [
            "/usr/local/lib/python3.7/dist-packages/datawig/calibration.py:92: RuntimeWarning: invalid value encountered in log\n",
            "  return np.log(probas)\n",
            "/usr/local/lib/python3.7/dist-packages/datawig/calibration.py:59: RuntimeWarning: invalid value encountered in greater_equal\n",
            "  bin_mask = (top_probas >= bin_lower) & (top_probas < bin_upper)\n",
            "/usr/local/lib/python3.7/dist-packages/datawig/calibration.py:59: RuntimeWarning: invalid value encountered in less\n",
            "  bin_mask = (top_probas >= bin_lower) & (top_probas < bin_upper)\n"
          ]
        },
        {
          "output_type": "stream",
          "name": "stdout",
          "text": [
            "12\n",
            "13\n",
            "14\n",
            "15\n",
            "16\n",
            "17\n"
          ]
        },
        {
          "output_type": "stream",
          "name": "stderr",
          "text": [
            "/usr/local/lib/python3.7/dist-packages/datawig/calibration.py:92: RuntimeWarning: invalid value encountered in log\n",
            "  return np.log(probas)\n",
            "/usr/local/lib/python3.7/dist-packages/datawig/calibration.py:59: RuntimeWarning: invalid value encountered in greater_equal\n",
            "  bin_mask = (top_probas >= bin_lower) & (top_probas < bin_upper)\n",
            "/usr/local/lib/python3.7/dist-packages/datawig/calibration.py:59: RuntimeWarning: invalid value encountered in less\n",
            "  bin_mask = (top_probas >= bin_lower) & (top_probas < bin_upper)\n"
          ]
        },
        {
          "output_type": "stream",
          "name": "stdout",
          "text": [
            "18\n",
            "19\n",
            "20\n",
            "21\n",
            "22\n",
            "23\n",
            "24\n"
          ]
        },
        {
          "output_type": "stream",
          "name": "stderr",
          "text": [
            "/usr/local/lib/python3.7/dist-packages/datawig/calibration.py:92: RuntimeWarning: invalid value encountered in log\n",
            "  return np.log(probas)\n",
            "/usr/local/lib/python3.7/dist-packages/datawig/calibration.py:59: RuntimeWarning: invalid value encountered in greater_equal\n",
            "  bin_mask = (top_probas >= bin_lower) & (top_probas < bin_upper)\n",
            "/usr/local/lib/python3.7/dist-packages/datawig/calibration.py:59: RuntimeWarning: invalid value encountered in less\n",
            "  bin_mask = (top_probas >= bin_lower) & (top_probas < bin_upper)\n"
          ]
        },
        {
          "output_type": "stream",
          "name": "stdout",
          "text": [
            "25\n",
            "26\n"
          ]
        },
        {
          "output_type": "stream",
          "name": "stderr",
          "text": [
            "/usr/local/lib/python3.7/dist-packages/datawig/calibration.py:92: RuntimeWarning: invalid value encountered in log\n",
            "  return np.log(probas)\n",
            "/usr/local/lib/python3.7/dist-packages/datawig/calibration.py:59: RuntimeWarning: invalid value encountered in greater_equal\n",
            "  bin_mask = (top_probas >= bin_lower) & (top_probas < bin_upper)\n",
            "/usr/local/lib/python3.7/dist-packages/datawig/calibration.py:59: RuntimeWarning: invalid value encountered in less\n",
            "  bin_mask = (top_probas >= bin_lower) & (top_probas < bin_upper)\n"
          ]
        },
        {
          "output_type": "stream",
          "name": "stdout",
          "text": [
            "27\n",
            "28\n",
            "29\n",
            "30\n",
            "31\n"
          ]
        },
        {
          "output_type": "stream",
          "name": "stderr",
          "text": [
            "/usr/local/lib/python3.7/dist-packages/datawig/calibration.py:92: RuntimeWarning: invalid value encountered in log\n",
            "  return np.log(probas)\n",
            "/usr/local/lib/python3.7/dist-packages/datawig/calibration.py:59: RuntimeWarning: invalid value encountered in greater_equal\n",
            "  bin_mask = (top_probas >= bin_lower) & (top_probas < bin_upper)\n",
            "/usr/local/lib/python3.7/dist-packages/datawig/calibration.py:59: RuntimeWarning: invalid value encountered in less\n",
            "  bin_mask = (top_probas >= bin_lower) & (top_probas < bin_upper)\n"
          ]
        },
        {
          "output_type": "stream",
          "name": "stdout",
          "text": [
            "32\n",
            "33\n",
            "34\n",
            "35\n"
          ]
        },
        {
          "output_type": "stream",
          "name": "stderr",
          "text": [
            "/usr/local/lib/python3.7/dist-packages/datawig/calibration.py:92: RuntimeWarning: invalid value encountered in log\n",
            "  return np.log(probas)\n",
            "/usr/local/lib/python3.7/dist-packages/datawig/calibration.py:59: RuntimeWarning: invalid value encountered in greater_equal\n",
            "  bin_mask = (top_probas >= bin_lower) & (top_probas < bin_upper)\n",
            "/usr/local/lib/python3.7/dist-packages/datawig/calibration.py:59: RuntimeWarning: invalid value encountered in less\n",
            "  bin_mask = (top_probas >= bin_lower) & (top_probas < bin_upper)\n"
          ]
        },
        {
          "output_type": "stream",
          "name": "stdout",
          "text": [
            "36\n"
          ]
        },
        {
          "output_type": "stream",
          "name": "stderr",
          "text": [
            "/usr/local/lib/python3.7/dist-packages/datawig/calibration.py:92: RuntimeWarning: invalid value encountered in log\n",
            "  return np.log(probas)\n",
            "/usr/local/lib/python3.7/dist-packages/datawig/calibration.py:59: RuntimeWarning: invalid value encountered in greater_equal\n",
            "  bin_mask = (top_probas >= bin_lower) & (top_probas < bin_upper)\n",
            "/usr/local/lib/python3.7/dist-packages/datawig/calibration.py:59: RuntimeWarning: invalid value encountered in less\n",
            "  bin_mask = (top_probas >= bin_lower) & (top_probas < bin_upper)\n"
          ]
        },
        {
          "output_type": "stream",
          "name": "stdout",
          "text": [
            "37\n",
            "38\n",
            "39\n",
            "40\n",
            "41\n",
            "42\n",
            "43\n",
            "44\n"
          ]
        },
        {
          "output_type": "stream",
          "name": "stderr",
          "text": [
            "/usr/local/lib/python3.7/dist-packages/pandas/core/frame.py:3509: SettingWithCopyWarning: \n",
            "A value is trying to be set on a copy of a slice from a DataFrame.\n",
            "Try using .loc[row_indexer,col_indexer] = value instead\n",
            "\n",
            "See the caveats in the documentation: http://pandas.pydata.org/pandas-docs/stable/user_guide/indexing.html#returning-a-view-versus-a-copy\n",
            "  self[k1] = value[k2]\n",
            "/usr/local/lib/python3.7/dist-packages/datawig/calibration.py:92: RuntimeWarning: divide by zero encountered in log\n",
            "  return np.log(probas)\n",
            "/usr/local/lib/python3.7/dist-packages/sklearn/metrics/_classification.py:1272: UndefinedMetricWarning: Precision is ill-defined and being set to 0.0 in labels with no predicted samples. Use `zero_division` parameter to control this behavior.\n",
            "  _warn_prf(average, modifier, msg_start, len(result))\n",
            "/usr/local/lib/python3.7/dist-packages/sklearn/metrics/_classification.py:1272: UndefinedMetricWarning: Recall is ill-defined and being set to 0.0 in labels with no true samples. Use `zero_division` parameter to control this behavior.\n",
            "  _warn_prf(average, modifier, msg_start, len(result))\n",
            "/usr/local/lib/python3.7/dist-packages/datawig/calibration.py:92: RuntimeWarning: divide by zero encountered in log\n",
            "  return np.log(probas)\n"
          ]
        },
        {
          "output_type": "stream",
          "name": "stdout",
          "text": [
            "45\n"
          ]
        },
        {
          "output_type": "stream",
          "name": "stderr",
          "text": [
            "/usr/local/lib/python3.7/dist-packages/pandas/core/frame.py:3509: SettingWithCopyWarning: \n",
            "A value is trying to be set on a copy of a slice from a DataFrame.\n",
            "Try using .loc[row_indexer,col_indexer] = value instead\n",
            "\n",
            "See the caveats in the documentation: http://pandas.pydata.org/pandas-docs/stable/user_guide/indexing.html#returning-a-view-versus-a-copy\n",
            "  self[k1] = value[k2]\n",
            "/usr/local/lib/python3.7/dist-packages/sklearn/metrics/_classification.py:1272: UndefinedMetricWarning: Precision is ill-defined and being set to 0.0 in labels with no predicted samples. Use `zero_division` parameter to control this behavior.\n",
            "  _warn_prf(average, modifier, msg_start, len(result))\n",
            "/usr/local/lib/python3.7/dist-packages/datawig/calibration.py:92: RuntimeWarning: divide by zero encountered in log\n",
            "  return np.log(probas)\n"
          ]
        },
        {
          "output_type": "stream",
          "name": "stdout",
          "text": [
            "46\n",
            "47\n",
            "48\n",
            "1\n",
            "2\n"
          ]
        },
        {
          "output_type": "stream",
          "name": "stderr",
          "text": [
            "/usr/local/lib/python3.7/dist-packages/datawig/calibration.py:92: RuntimeWarning: invalid value encountered in log\n",
            "  return np.log(probas)\n",
            "/usr/local/lib/python3.7/dist-packages/datawig/calibration.py:59: RuntimeWarning: invalid value encountered in greater_equal\n",
            "  bin_mask = (top_probas >= bin_lower) & (top_probas < bin_upper)\n",
            "/usr/local/lib/python3.7/dist-packages/datawig/calibration.py:59: RuntimeWarning: invalid value encountered in less\n",
            "  bin_mask = (top_probas >= bin_lower) & (top_probas < bin_upper)\n"
          ]
        },
        {
          "output_type": "stream",
          "name": "stdout",
          "text": [
            "3\n"
          ]
        },
        {
          "output_type": "stream",
          "name": "stderr",
          "text": [
            "/usr/local/lib/python3.7/dist-packages/datawig/calibration.py:92: RuntimeWarning: invalid value encountered in log\n",
            "  return np.log(probas)\n",
            "/usr/local/lib/python3.7/dist-packages/datawig/calibration.py:59: RuntimeWarning: invalid value encountered in greater_equal\n",
            "  bin_mask = (top_probas >= bin_lower) & (top_probas < bin_upper)\n",
            "/usr/local/lib/python3.7/dist-packages/datawig/calibration.py:59: RuntimeWarning: invalid value encountered in less\n",
            "  bin_mask = (top_probas >= bin_lower) & (top_probas < bin_upper)\n"
          ]
        },
        {
          "output_type": "stream",
          "name": "stdout",
          "text": [
            "4\n",
            "5\n",
            "6\n",
            "7\n"
          ]
        },
        {
          "output_type": "stream",
          "name": "stderr",
          "text": [
            "/usr/local/lib/python3.7/dist-packages/datawig/calibration.py:92: RuntimeWarning: invalid value encountered in log\n",
            "  return np.log(probas)\n",
            "/usr/local/lib/python3.7/dist-packages/datawig/calibration.py:59: RuntimeWarning: invalid value encountered in greater_equal\n",
            "  bin_mask = (top_probas >= bin_lower) & (top_probas < bin_upper)\n",
            "/usr/local/lib/python3.7/dist-packages/datawig/calibration.py:59: RuntimeWarning: invalid value encountered in less\n",
            "  bin_mask = (top_probas >= bin_lower) & (top_probas < bin_upper)\n"
          ]
        },
        {
          "output_type": "stream",
          "name": "stdout",
          "text": [
            "8\n",
            "9\n",
            "10\n",
            "11\n"
          ]
        },
        {
          "output_type": "stream",
          "name": "stderr",
          "text": [
            "/usr/local/lib/python3.7/dist-packages/datawig/calibration.py:92: RuntimeWarning: invalid value encountered in log\n",
            "  return np.log(probas)\n",
            "/usr/local/lib/python3.7/dist-packages/datawig/calibration.py:59: RuntimeWarning: invalid value encountered in greater_equal\n",
            "  bin_mask = (top_probas >= bin_lower) & (top_probas < bin_upper)\n",
            "/usr/local/lib/python3.7/dist-packages/datawig/calibration.py:59: RuntimeWarning: invalid value encountered in less\n",
            "  bin_mask = (top_probas >= bin_lower) & (top_probas < bin_upper)\n"
          ]
        },
        {
          "output_type": "stream",
          "name": "stdout",
          "text": [
            "12\n",
            "13\n",
            "14\n",
            "15\n"
          ]
        },
        {
          "output_type": "stream",
          "name": "stderr",
          "text": [
            "/usr/local/lib/python3.7/dist-packages/datawig/calibration.py:92: RuntimeWarning: invalid value encountered in log\n",
            "  return np.log(probas)\n",
            "/usr/local/lib/python3.7/dist-packages/datawig/calibration.py:59: RuntimeWarning: invalid value encountered in greater_equal\n",
            "  bin_mask = (top_probas >= bin_lower) & (top_probas < bin_upper)\n",
            "/usr/local/lib/python3.7/dist-packages/datawig/calibration.py:59: RuntimeWarning: invalid value encountered in less\n",
            "  bin_mask = (top_probas >= bin_lower) & (top_probas < bin_upper)\n"
          ]
        },
        {
          "output_type": "stream",
          "name": "stdout",
          "text": [
            "16\n",
            "17\n"
          ]
        },
        {
          "output_type": "stream",
          "name": "stderr",
          "text": [
            "/usr/local/lib/python3.7/dist-packages/datawig/calibration.py:92: RuntimeWarning: invalid value encountered in log\n",
            "  return np.log(probas)\n",
            "/usr/local/lib/python3.7/dist-packages/datawig/calibration.py:59: RuntimeWarning: invalid value encountered in greater_equal\n",
            "  bin_mask = (top_probas >= bin_lower) & (top_probas < bin_upper)\n",
            "/usr/local/lib/python3.7/dist-packages/datawig/calibration.py:59: RuntimeWarning: invalid value encountered in less\n",
            "  bin_mask = (top_probas >= bin_lower) & (top_probas < bin_upper)\n"
          ]
        },
        {
          "output_type": "stream",
          "name": "stdout",
          "text": [
            "18\n"
          ]
        },
        {
          "output_type": "stream",
          "name": "stderr",
          "text": [
            "/usr/local/lib/python3.7/dist-packages/datawig/calibration.py:92: RuntimeWarning: invalid value encountered in log\n",
            "  return np.log(probas)\n",
            "/usr/local/lib/python3.7/dist-packages/datawig/calibration.py:59: RuntimeWarning: invalid value encountered in greater_equal\n",
            "  bin_mask = (top_probas >= bin_lower) & (top_probas < bin_upper)\n",
            "/usr/local/lib/python3.7/dist-packages/datawig/calibration.py:59: RuntimeWarning: invalid value encountered in less\n",
            "  bin_mask = (top_probas >= bin_lower) & (top_probas < bin_upper)\n"
          ]
        },
        {
          "output_type": "stream",
          "name": "stdout",
          "text": [
            "19\n"
          ]
        },
        {
          "output_type": "stream",
          "name": "stderr",
          "text": [
            "/usr/local/lib/python3.7/dist-packages/datawig/calibration.py:92: RuntimeWarning: invalid value encountered in log\n",
            "  return np.log(probas)\n",
            "/usr/local/lib/python3.7/dist-packages/datawig/calibration.py:59: RuntimeWarning: invalid value encountered in greater_equal\n",
            "  bin_mask = (top_probas >= bin_lower) & (top_probas < bin_upper)\n",
            "/usr/local/lib/python3.7/dist-packages/datawig/calibration.py:59: RuntimeWarning: invalid value encountered in less\n",
            "  bin_mask = (top_probas >= bin_lower) & (top_probas < bin_upper)\n"
          ]
        },
        {
          "output_type": "stream",
          "name": "stdout",
          "text": [
            "20\n",
            "21\n"
          ]
        },
        {
          "output_type": "stream",
          "name": "stderr",
          "text": [
            "/usr/local/lib/python3.7/dist-packages/datawig/calibration.py:92: RuntimeWarning: invalid value encountered in log\n",
            "  return np.log(probas)\n",
            "/usr/local/lib/python3.7/dist-packages/datawig/calibration.py:59: RuntimeWarning: invalid value encountered in greater_equal\n",
            "  bin_mask = (top_probas >= bin_lower) & (top_probas < bin_upper)\n",
            "/usr/local/lib/python3.7/dist-packages/datawig/calibration.py:59: RuntimeWarning: invalid value encountered in less\n",
            "  bin_mask = (top_probas >= bin_lower) & (top_probas < bin_upper)\n"
          ]
        },
        {
          "output_type": "stream",
          "name": "stdout",
          "text": [
            "22\n",
            "23\n"
          ]
        },
        {
          "output_type": "stream",
          "name": "stderr",
          "text": [
            "/usr/local/lib/python3.7/dist-packages/datawig/calibration.py:92: RuntimeWarning: invalid value encountered in log\n",
            "  return np.log(probas)\n",
            "/usr/local/lib/python3.7/dist-packages/datawig/calibration.py:59: RuntimeWarning: invalid value encountered in greater_equal\n",
            "  bin_mask = (top_probas >= bin_lower) & (top_probas < bin_upper)\n",
            "/usr/local/lib/python3.7/dist-packages/datawig/calibration.py:59: RuntimeWarning: invalid value encountered in less\n",
            "  bin_mask = (top_probas >= bin_lower) & (top_probas < bin_upper)\n"
          ]
        },
        {
          "output_type": "stream",
          "name": "stdout",
          "text": [
            "24\n",
            "25\n",
            "26\n",
            "27\n"
          ]
        },
        {
          "output_type": "stream",
          "name": "stderr",
          "text": [
            "/usr/local/lib/python3.7/dist-packages/datawig/calibration.py:92: RuntimeWarning: invalid value encountered in log\n",
            "  return np.log(probas)\n",
            "/usr/local/lib/python3.7/dist-packages/datawig/calibration.py:59: RuntimeWarning: invalid value encountered in greater_equal\n",
            "  bin_mask = (top_probas >= bin_lower) & (top_probas < bin_upper)\n",
            "/usr/local/lib/python3.7/dist-packages/datawig/calibration.py:59: RuntimeWarning: invalid value encountered in less\n",
            "  bin_mask = (top_probas >= bin_lower) & (top_probas < bin_upper)\n"
          ]
        },
        {
          "output_type": "stream",
          "name": "stdout",
          "text": [
            "28\n"
          ]
        },
        {
          "output_type": "stream",
          "name": "stderr",
          "text": [
            "/usr/local/lib/python3.7/dist-packages/datawig/calibration.py:92: RuntimeWarning: invalid value encountered in log\n",
            "  return np.log(probas)\n",
            "/usr/local/lib/python3.7/dist-packages/datawig/calibration.py:59: RuntimeWarning: invalid value encountered in greater_equal\n",
            "  bin_mask = (top_probas >= bin_lower) & (top_probas < bin_upper)\n",
            "/usr/local/lib/python3.7/dist-packages/datawig/calibration.py:59: RuntimeWarning: invalid value encountered in less\n",
            "  bin_mask = (top_probas >= bin_lower) & (top_probas < bin_upper)\n"
          ]
        },
        {
          "output_type": "stream",
          "name": "stdout",
          "text": [
            "29\n"
          ]
        },
        {
          "output_type": "stream",
          "name": "stderr",
          "text": [
            "/usr/local/lib/python3.7/dist-packages/datawig/calibration.py:92: RuntimeWarning: invalid value encountered in log\n",
            "  return np.log(probas)\n",
            "/usr/local/lib/python3.7/dist-packages/datawig/calibration.py:59: RuntimeWarning: invalid value encountered in greater_equal\n",
            "  bin_mask = (top_probas >= bin_lower) & (top_probas < bin_upper)\n",
            "/usr/local/lib/python3.7/dist-packages/datawig/calibration.py:59: RuntimeWarning: invalid value encountered in less\n",
            "  bin_mask = (top_probas >= bin_lower) & (top_probas < bin_upper)\n"
          ]
        },
        {
          "output_type": "stream",
          "name": "stdout",
          "text": [
            "30\n"
          ]
        },
        {
          "output_type": "stream",
          "name": "stderr",
          "text": [
            "/usr/local/lib/python3.7/dist-packages/datawig/calibration.py:92: RuntimeWarning: invalid value encountered in log\n",
            "  return np.log(probas)\n",
            "/usr/local/lib/python3.7/dist-packages/datawig/calibration.py:59: RuntimeWarning: invalid value encountered in greater_equal\n",
            "  bin_mask = (top_probas >= bin_lower) & (top_probas < bin_upper)\n",
            "/usr/local/lib/python3.7/dist-packages/datawig/calibration.py:59: RuntimeWarning: invalid value encountered in less\n",
            "  bin_mask = (top_probas >= bin_lower) & (top_probas < bin_upper)\n"
          ]
        },
        {
          "output_type": "stream",
          "name": "stdout",
          "text": [
            "31\n",
            "32\n",
            "33\n",
            "34\n"
          ]
        },
        {
          "output_type": "stream",
          "name": "stderr",
          "text": [
            "/usr/local/lib/python3.7/dist-packages/datawig/calibration.py:92: RuntimeWarning: invalid value encountered in log\n",
            "  return np.log(probas)\n",
            "/usr/local/lib/python3.7/dist-packages/datawig/calibration.py:59: RuntimeWarning: invalid value encountered in greater_equal\n",
            "  bin_mask = (top_probas >= bin_lower) & (top_probas < bin_upper)\n",
            "/usr/local/lib/python3.7/dist-packages/datawig/calibration.py:59: RuntimeWarning: invalid value encountered in less\n",
            "  bin_mask = (top_probas >= bin_lower) & (top_probas < bin_upper)\n"
          ]
        },
        {
          "output_type": "stream",
          "name": "stdout",
          "text": [
            "35\n",
            "36\n"
          ]
        },
        {
          "output_type": "stream",
          "name": "stderr",
          "text": [
            "/usr/local/lib/python3.7/dist-packages/datawig/calibration.py:92: RuntimeWarning: invalid value encountered in log\n",
            "  return np.log(probas)\n",
            "/usr/local/lib/python3.7/dist-packages/datawig/calibration.py:59: RuntimeWarning: invalid value encountered in greater_equal\n",
            "  bin_mask = (top_probas >= bin_lower) & (top_probas < bin_upper)\n",
            "/usr/local/lib/python3.7/dist-packages/datawig/calibration.py:59: RuntimeWarning: invalid value encountered in less\n",
            "  bin_mask = (top_probas >= bin_lower) & (top_probas < bin_upper)\n"
          ]
        },
        {
          "output_type": "stream",
          "name": "stdout",
          "text": [
            "37\n"
          ]
        },
        {
          "output_type": "stream",
          "name": "stderr",
          "text": [
            "/usr/local/lib/python3.7/dist-packages/datawig/calibration.py:92: RuntimeWarning: invalid value encountered in log\n",
            "  return np.log(probas)\n",
            "/usr/local/lib/python3.7/dist-packages/datawig/calibration.py:59: RuntimeWarning: invalid value encountered in greater_equal\n",
            "  bin_mask = (top_probas >= bin_lower) & (top_probas < bin_upper)\n",
            "/usr/local/lib/python3.7/dist-packages/datawig/calibration.py:59: RuntimeWarning: invalid value encountered in less\n",
            "  bin_mask = (top_probas >= bin_lower) & (top_probas < bin_upper)\n"
          ]
        },
        {
          "output_type": "stream",
          "name": "stdout",
          "text": [
            "38\n"
          ]
        },
        {
          "output_type": "stream",
          "name": "stderr",
          "text": [
            "/usr/local/lib/python3.7/dist-packages/datawig/calibration.py:92: RuntimeWarning: invalid value encountered in log\n",
            "  return np.log(probas)\n",
            "/usr/local/lib/python3.7/dist-packages/datawig/calibration.py:59: RuntimeWarning: invalid value encountered in greater_equal\n",
            "  bin_mask = (top_probas >= bin_lower) & (top_probas < bin_upper)\n",
            "/usr/local/lib/python3.7/dist-packages/datawig/calibration.py:59: RuntimeWarning: invalid value encountered in less\n",
            "  bin_mask = (top_probas >= bin_lower) & (top_probas < bin_upper)\n"
          ]
        },
        {
          "output_type": "stream",
          "name": "stdout",
          "text": [
            "39\n"
          ]
        },
        {
          "output_type": "stream",
          "name": "stderr",
          "text": [
            "/usr/local/lib/python3.7/dist-packages/datawig/calibration.py:92: RuntimeWarning: invalid value encountered in log\n",
            "  return np.log(probas)\n",
            "/usr/local/lib/python3.7/dist-packages/datawig/calibration.py:59: RuntimeWarning: invalid value encountered in greater_equal\n",
            "  bin_mask = (top_probas >= bin_lower) & (top_probas < bin_upper)\n",
            "/usr/local/lib/python3.7/dist-packages/datawig/calibration.py:59: RuntimeWarning: invalid value encountered in less\n",
            "  bin_mask = (top_probas >= bin_lower) & (top_probas < bin_upper)\n"
          ]
        },
        {
          "output_type": "stream",
          "name": "stdout",
          "text": [
            "40\n",
            "41\n",
            "42\n",
            "43\n",
            "44\n",
            "45\n"
          ]
        },
        {
          "output_type": "stream",
          "name": "stderr",
          "text": [
            "/usr/local/lib/python3.7/dist-packages/pandas/core/frame.py:3509: SettingWithCopyWarning: \n",
            "A value is trying to be set on a copy of a slice from a DataFrame.\n",
            "Try using .loc[row_indexer,col_indexer] = value instead\n",
            "\n",
            "See the caveats in the documentation: http://pandas.pydata.org/pandas-docs/stable/user_guide/indexing.html#returning-a-view-versus-a-copy\n",
            "  self[k1] = value[k2]\n",
            "/usr/local/lib/python3.7/dist-packages/sklearn/metrics/_classification.py:1272: UndefinedMetricWarning: Precision is ill-defined and being set to 0.0 in labels with no predicted samples. Use `zero_division` parameter to control this behavior.\n",
            "  _warn_prf(average, modifier, msg_start, len(result))\n"
          ]
        },
        {
          "output_type": "stream",
          "name": "stdout",
          "text": [
            "46\n",
            "47\n",
            "48\n",
            "49\n"
          ]
        }
      ]
    },
    {
      "cell_type": "code",
      "source": [
        "train_im.columns"
      ],
      "metadata": {
        "colab": {
          "base_uri": "https://localhost:8080/"
        },
        "id": "ql3gJmb6YTBH",
        "outputId": "9d78c865-daae-4dd8-f95f-a0110c22a68e"
      },
      "execution_count": null,
      "outputs": [
        {
          "output_type": "execute_result",
          "data": {
            "text/plain": [
              "Index(['ALT', 'AST', 'Admission Weight (Kg)', 'Albumin', 'Alkaline Phosphate',\n",
              "       'Anion gap', 'Apnea Interval', 'Arterial Base Excess',\n",
              "       'Arterial Blood Pressure Alarm - High',\n",
              "       'Arterial Blood Pressure Alarm - Low', 'Arterial Blood Pressure mean',\n",
              "       'Arterial CO2 Pressure', 'BUN', 'Braden Score', 'CK (CPK)',\n",
              "       'Calcium non-ionized', 'Central Venous Pressure', 'Chloride (serum)',\n",
              "       'Creatinine', 'Daily Weight', 'Differential-Basos', 'Differential-Eos',\n",
              "       'Differential-Lymphs', 'Differential-Monos', 'Differential-Neuts',\n",
              "       'Eye Opening', 'Fingerstick Glucose', 'Fspn High', 'GCS Total',\n",
              "       'HCO3 (serum)', 'Heart Rate', 'Hematocrit (whole blood - calc)',\n",
              "       'Hemoglobin', 'INR', 'Inspiratory Time', 'Inspired O2 Fraction',\n",
              "       'Ionized Calcium', 'LDH', 'Lactic Acid', 'Magnesium',\n",
              "       'Mean Airway Pressure', 'Minute Volume', 'Motor Response', 'NBP Mean',\n",
              "       'Non Invasive Blood Pressure mean', 'O2 Flow',\n",
              "       'O2 saturation pulseoxymetry', 'PEEP', 'PH (Arterial)', 'PH (dipstick)',\n",
              "       'PTT', 'Peak Insp. Pressure', 'Phosphorous', 'Plateau Pressure',\n",
              "       'Platelet Count', 'Potassium (whole blood)', 'Prothrombin time',\n",
              "       'Respiratory Rate', 'Sodium (serum)', 'Specific Gravity (urine)',\n",
              "       'TCO2 (calc) Arterial', 'Temperature C', 'Tidal Volume (observed)',\n",
              "       'Total Bilirubin', 'Troponin-T', 'Verbal Response', 'Vti High', 'WBC',\n",
              "       'calprevflg', 'Urine Out Foley', '.9% Normal Saline', 'D5W',\n",
              "       'Gastric Meds', 'Insulin', 'KCL', 'Magnesium Sulfate', 'Po Intake',\n",
              "       'Propofol', 'LOS', 'ADMISSION_TYPE', 'ADMISSION_LOCATION',\n",
              "       'DISCHARGE_LOCATION', 'INSURANCE', 'LANGUAGE', 'RELIGION',\n",
              "       'MARITAL_STATUS', 'ETHNICITY', 'GENDER', 'AGE', 'Delirium'],\n",
              "      dtype='object')"
            ]
          },
          "metadata": {},
          "execution_count": 17
        }
      ]
    },
    {
      "cell_type": "code",
      "source": [
        "train_im.to_csv('delirium_mimic_icu_train_imputed.csv')\n",
        "test_im.to_csv('delirium_mimic_icu_test_imputed.csv')"
      ],
      "metadata": {
        "id": "UgRCJ0Ugf_fg"
      },
      "execution_count": null,
      "outputs": []
    },
    {
      "cell_type": "code",
      "source": [
        "from google.colab import files\n",
        "files.download('delirium_mimic_icu_train_imputed.csv')\n",
        "files.download('delirium_mimic_icu_test_imputed.csv')"
      ],
      "metadata": {
        "id": "MprT6CH1-huE",
        "colab": {
          "base_uri": "https://localhost:8080/",
          "height": 17
        },
        "outputId": "4463654f-81c3-4faf-9e89-b2f942e26da5"
      },
      "execution_count": null,
      "outputs": [
        {
          "output_type": "display_data",
          "data": {
            "text/plain": [
              "<IPython.core.display.Javascript object>"
            ],
            "application/javascript": [
              "\n",
              "    async function download(id, filename, size) {\n",
              "      if (!google.colab.kernel.accessAllowed) {\n",
              "        return;\n",
              "      }\n",
              "      const div = document.createElement('div');\n",
              "      const label = document.createElement('label');\n",
              "      label.textContent = `Downloading \"${filename}\": `;\n",
              "      div.appendChild(label);\n",
              "      const progress = document.createElement('progress');\n",
              "      progress.max = size;\n",
              "      div.appendChild(progress);\n",
              "      document.body.appendChild(div);\n",
              "\n",
              "      const buffers = [];\n",
              "      let downloaded = 0;\n",
              "\n",
              "      const channel = await google.colab.kernel.comms.open(id);\n",
              "      // Send a message to notify the kernel that we're ready.\n",
              "      channel.send({})\n",
              "\n",
              "      for await (const message of channel.messages) {\n",
              "        // Send a message to notify the kernel that we're ready.\n",
              "        channel.send({})\n",
              "        if (message.buffers) {\n",
              "          for (const buffer of message.buffers) {\n",
              "            buffers.push(buffer);\n",
              "            downloaded += buffer.byteLength;\n",
              "            progress.value = downloaded;\n",
              "          }\n",
              "        }\n",
              "      }\n",
              "      const blob = new Blob(buffers, {type: 'application/binary'});\n",
              "      const a = document.createElement('a');\n",
              "      a.href = window.URL.createObjectURL(blob);\n",
              "      a.download = filename;\n",
              "      div.appendChild(a);\n",
              "      a.click();\n",
              "      div.remove();\n",
              "    }\n",
              "  "
            ]
          },
          "metadata": {}
        },
        {
          "output_type": "display_data",
          "data": {
            "text/plain": [
              "<IPython.core.display.Javascript object>"
            ],
            "application/javascript": [
              "download(\"download_57e4e741-3ecb-4b52-b422-1a47d017b8c2\", \"delirium_mimic_icu_train_imputed.csv\", 4657734)"
            ]
          },
          "metadata": {}
        },
        {
          "output_type": "display_data",
          "data": {
            "text/plain": [
              "<IPython.core.display.Javascript object>"
            ],
            "application/javascript": [
              "\n",
              "    async function download(id, filename, size) {\n",
              "      if (!google.colab.kernel.accessAllowed) {\n",
              "        return;\n",
              "      }\n",
              "      const div = document.createElement('div');\n",
              "      const label = document.createElement('label');\n",
              "      label.textContent = `Downloading \"${filename}\": `;\n",
              "      div.appendChild(label);\n",
              "      const progress = document.createElement('progress');\n",
              "      progress.max = size;\n",
              "      div.appendChild(progress);\n",
              "      document.body.appendChild(div);\n",
              "\n",
              "      const buffers = [];\n",
              "      let downloaded = 0;\n",
              "\n",
              "      const channel = await google.colab.kernel.comms.open(id);\n",
              "      // Send a message to notify the kernel that we're ready.\n",
              "      channel.send({})\n",
              "\n",
              "      for await (const message of channel.messages) {\n",
              "        // Send a message to notify the kernel that we're ready.\n",
              "        channel.send({})\n",
              "        if (message.buffers) {\n",
              "          for (const buffer of message.buffers) {\n",
              "            buffers.push(buffer);\n",
              "            downloaded += buffer.byteLength;\n",
              "            progress.value = downloaded;\n",
              "          }\n",
              "        }\n",
              "      }\n",
              "      const blob = new Blob(buffers, {type: 'application/binary'});\n",
              "      const a = document.createElement('a');\n",
              "      a.href = window.URL.createObjectURL(blob);\n",
              "      a.download = filename;\n",
              "      div.appendChild(a);\n",
              "      a.click();\n",
              "      div.remove();\n",
              "    }\n",
              "  "
            ]
          },
          "metadata": {}
        },
        {
          "output_type": "display_data",
          "data": {
            "text/plain": [
              "<IPython.core.display.Javascript object>"
            ],
            "application/javascript": [
              "download(\"download_6b353983-6125-42de-bdc0-4660259d220b\", \"delirium_mimic_icu_test_imputed.csv\", 1160222)"
            ]
          },
          "metadata": {}
        }
      ]
    }
  ]
}