{
  "nbformat": 4,
  "nbformat_minor": 0,
  "metadata": {
    "colab": {
      "name": "Traditional_ML_Models_MIMIC_III_Extracted_Dataset (1).ipynb",
      "provenance": []
    },
    "kernelspec": {
      "name": "python3",
      "display_name": "Python 3"
    },
    "language_info": {
      "name": "python"
    }
  },
  "cells": [
    {
      "cell_type": "code",
      "execution_count": null,
      "metadata": {
        "id": "N4BGBCiLqAlM"
      },
      "outputs": [],
      "source": [
        "import pandas as pd\n",
        "import numpy as np"
      ]
    },
    {
      "cell_type": "code",
      "source": [
        "!pip install smote-variants"
      ],
      "metadata": {
        "id": "tZaiIP92sYuM"
      },
      "execution_count": null,
      "outputs": []
    },
    {
      "cell_type": "code",
      "source": [
        "from sklearn.model_selection import RandomizedSearchCV, GridSearchCV, train_test_split\n",
        "import smote_variants as sv"
      ],
      "metadata": {
        "id": "Ovr-r_wDsWZL"
      },
      "execution_count": null,
      "outputs": []
    },
    {
      "cell_type": "code",
      "source": [
        "def err_metric(CM): \n",
        "    TN, FP, FN, TP = CM.ravel()\n",
        "    precision =(TP)/(TP+FP)\n",
        "    accuracy_model  =(TP+TN)/(TP+TN+FP+FN)\n",
        "    recall_score  =(TP)/(TP+FN)\n",
        "    specificity_value =(TN)/(TN + FP)\n",
        "      \n",
        "    False_positive_rate =(FP)/(FP+TN)\n",
        "    False_negative_rate =(FN)/(FN+TP)\n",
        "    f1_score =2*(( precision * recall_score)/( precision + recall_score))\n",
        "    print(\"Precision value of the model: \",precision)\n",
        "    print(\"Accuracy of the model: \",accuracy_model)\n",
        "    print(\"Recall of the model: \",recall_score)\n",
        "    print(\"Specificity of the model: \",specificity_value)\n",
        "    print(\"F1 Score of the model: \",f1_score)\n",
        "    return [accuracy_model,f1_score]"
      ],
      "metadata": {
        "id": "rbosPK5Iscxt"
      },
      "execution_count": null,
      "outputs": []
    },
    {
      "cell_type": "code",
      "source": [
        "dd_30_ces=pd.read_csv('/content/delirium_dataset_catboost_encoded_and_scaled_30.csv')\n",
        "dd_30_ohees=pd.read_csv('/content/delirium_dataset_ohe_encoded_and_scaled_30.csv')\n",
        "dd_95_ohees=pd.read_csv('/content/delirium_dataset_ohe_encoded_and_scaled_less100dropped.csv')\n",
        "dd_95_ces=pd.read_csv('/content/delirium_dataset_catboost_encoded_and_scaled_less100dropped.csv')\n",
        "#dd_55_ohees=pd.read_csv('/content/delirium_dataset_OHE_encoded_and_scaled_55.csv')\n",
        "#dd_55_ces=pd.read_csv('/content/delirium_dataset_catboost_encoded_and_scaled_55.csv')"
      ],
      "metadata": {
        "id": "6L6kumAgqdxS"
      },
      "execution_count": null,
      "outputs": []
    },
    {
      "cell_type": "code",
      "source": [
        "dd_30_ohees.shape"
      ],
      "metadata": {
        "colab": {
          "base_uri": "https://localhost:8080/"
        },
        "id": "1Dq0fYarIB6o",
        "outputId": "741d938d-30f1-4434-a1ea-db8d221db127"
      },
      "execution_count": null,
      "outputs": [
        {
          "output_type": "execute_result",
          "data": {
            "text/plain": [
              "(8646, 116)"
            ]
          },
          "metadata": {},
          "execution_count": 9
        }
      ]
    },
    {
      "cell_type": "code",
      "source": [
        "dd_30_ces.shape"
      ],
      "metadata": {
        "colab": {
          "base_uri": "https://localhost:8080/"
        },
        "id": "Ks_LG7q_H_8r",
        "outputId": "3a50c925-0bc0-4134-e53c-116c8958f918"
      },
      "execution_count": null,
      "outputs": [
        {
          "output_type": "execute_result",
          "data": {
            "text/plain": [
              "(8646, 28)"
            ]
          },
          "metadata": {},
          "execution_count": 8
        }
      ]
    },
    {
      "cell_type": "code",
      "source": [
        "dd_95_ohees.shape"
      ],
      "metadata": {
        "colab": {
          "base_uri": "https://localhost:8080/"
        },
        "id": "K5GRdh4GH8zH",
        "outputId": "9e2d9822-bb0c-47ef-8864-01e9b3364a01"
      },
      "execution_count": null,
      "outputs": [
        {
          "output_type": "execute_result",
          "data": {
            "text/plain": [
              "(8646, 158)"
            ]
          },
          "metadata": {},
          "execution_count": 7
        }
      ]
    },
    {
      "cell_type": "code",
      "source": [
        "dd_95_ces.shape"
      ],
      "metadata": {
        "colab": {
          "base_uri": "https://localhost:8080/"
        },
        "id": "_8l5QmMKuoI8",
        "outputId": "ffb75a93-3641-420c-9cfb-a91047f30868"
      },
      "execution_count": null,
      "outputs": [
        {
          "output_type": "execute_result",
          "data": {
            "text/plain": [
              "(8646, 77)"
            ]
          },
          "metadata": {},
          "execution_count": 6
        }
      ]
    },
    {
      "cell_type": "code",
      "source": [
        "dd_95_ohees.drop('Unnamed: 0',axis=1,inplace=True)\n",
        "dd_55_ces.drop('Unnamed: 0',axis=1,inplace=True)\n",
        "dd_30_ces.drop('Unnamed: 0',axis=1,inplace=True)\n",
        "dd_95_ces.drop('Unnamed: 0',axis=1,inplace=True)\n",
        "dd_30_ohees.drop('Unnamed: 0',axis=1,inplace=True)\n",
        "dd_55_ohees.drop('Unnamed: 0',axis=1,inplace=True)\n"
      ],
      "metadata": {
        "id": "M2gzwXEluxPn"
      },
      "execution_count": null,
      "outputs": []
    },
    {
      "cell_type": "markdown",
      "source": [
        "# Random Forest"
      ],
      "metadata": {
        "id": "-wvMOohIr0Wx"
      }
    },
    {
      "cell_type": "code",
      "source": [
        "rf=[]"
      ],
      "metadata": {
        "id": "dK5MRaNYY28V"
      },
      "execution_count": null,
      "outputs": []
    },
    {
      "cell_type": "code",
      "source": [
        "y = dd_30_ces[\"Delirium\"].values\n",
        "X=dd_30_ces.drop([\"Delirium\"], axis=1)\n",
        "xtrain, xtest, ytrain, ytest = train_test_split(X, y, test_size=0.30, random_state=0)\n",
        "from sklearn.ensemble import RandomForestClassifier\n",
        "from sklearn import metrics\n",
        "\n",
        "rfmodel = RandomForestClassifier()\n",
        "rfmodel.fit(xtrain,ytrain)\n",
        "print('model')\n",
        "print(rfmodel)\n",
        "\n",
        "ypredrf = rfmodel.predict(xtest)\n",
        "print('confusion matrix')\n",
        "CM=metrics.confusion_matrix(ytest, ypredrf)\n",
        "print(CM)\n",
        "print('classification report')\n",
        "print(metrics.classification_report(ytest, ypredrf))\n",
        "print('Accuracy : %f' % (metrics.accuracy_score(ytest, ypredrf)))\n",
        "auc=metrics.roc_auc_score(ytest, ypredrf)\n",
        "print('Area under the curve : %f' % (auc))\n",
        "\n",
        "rf1=err_metric(CM)\n",
        "rf1.append(auc)\n",
        "rf.append(rf1)"
      ],
      "metadata": {
        "colab": {
          "base_uri": "https://localhost:8080/"
        },
        "id": "bInVmW7IsH8C",
        "outputId": "1b1e9ab3-cec4-4630-d1b8-ea27f3fd648f"
      },
      "execution_count": null,
      "outputs": [
        {
          "output_type": "stream",
          "name": "stdout",
          "text": [
            "model\n",
            "RandomForestClassifier()\n",
            "confusion matrix\n",
            "[[2302    3]\n",
            " [ 276   13]]\n",
            "classification report\n",
            "              precision    recall  f1-score   support\n",
            "\n",
            "         0.0       0.89      1.00      0.94      2305\n",
            "         1.0       0.81      0.04      0.09       289\n",
            "\n",
            "    accuracy                           0.89      2594\n",
            "   macro avg       0.85      0.52      0.51      2594\n",
            "weighted avg       0.88      0.89      0.85      2594\n",
            "\n",
            "Accuracy : 0.892444\n",
            "Area under the curve : 0.521841\n",
            "Precision value of the model:  0.8125\n",
            "Accuracy of the model:  0.892444101773323\n",
            "Recall of the model:  0.04498269896193772\n",
            "Specificity of the model:  0.9986984815618222\n",
            "F1 Score of the model:  0.08524590163934427\n"
          ]
        }
      ]
    },
    {
      "cell_type": "code",
      "source": [
        "y = dd_30_ohees[\"Delirium\"].values\n",
        "X=dd_30_ohees.drop([\"Delirium\"], axis=1)\n",
        "xtrain, xtest, ytrain, ytest = train_test_split(X, y, test_size=0.30, random_state=0)\n",
        "from sklearn.ensemble import RandomForestClassifier\n",
        "from sklearn import metrics\n",
        "\n",
        "rfmodel = RandomForestClassifier()\n",
        "rfmodel.fit(xtrain,ytrain)\n",
        "print('model')\n",
        "print(rfmodel)\n",
        "\n",
        "ypredrf = rfmodel.predict(xtest)\n",
        "print('confusion matrix')\n",
        "CM=metrics.confusion_matrix(ytest, ypredrf)\n",
        "print(CM)\n",
        "print('classification report')\n",
        "print(metrics.classification_report(ytest, ypredrf))\n",
        "print('Accuracy : %f' % (metrics.accuracy_score(ytest, ypredrf)))\n",
        "auc=metrics.roc_auc_score(ytest, ypredrf)\n",
        "print('Area under the curve : %f' % (auc))\n",
        "\n",
        "rf1=err_metric(CM)\n",
        "rf1.append(auc)\n",
        "rf.append(rf1)"
      ],
      "metadata": {
        "colab": {
          "base_uri": "https://localhost:8080/"
        },
        "id": "lCv2vYaxssKX",
        "outputId": "18151ab6-c27d-4b3d-98c4-f7cee0a25e8a"
      },
      "execution_count": null,
      "outputs": [
        {
          "output_type": "stream",
          "name": "stdout",
          "text": [
            "model\n",
            "RandomForestClassifier()\n",
            "confusion matrix\n",
            "[[2305    0]\n",
            " [ 280    9]]\n",
            "classification report\n",
            "              precision    recall  f1-score   support\n",
            "\n",
            "         0.0       0.89      1.00      0.94      2305\n",
            "         1.0       1.00      0.03      0.06       289\n",
            "\n",
            "    accuracy                           0.89      2594\n",
            "   macro avg       0.95      0.52      0.50      2594\n",
            "weighted avg       0.90      0.89      0.84      2594\n",
            "\n",
            "Accuracy : 0.892059\n",
            "Area under the curve : 0.515571\n",
            "Precision value of the model:  1.0\n",
            "Accuracy of the model:  0.8920585967617579\n",
            "Recall of the model:  0.031141868512110725\n",
            "Specificity of the model:  1.0\n",
            "F1 Score of the model:  0.060402684563758385\n"
          ]
        }
      ]
    },
    {
      "cell_type": "code",
      "source": [
        "y = dd_95_ohees[\"Delirium\"].values\n",
        "X=dd_95_ohees.drop([\"Delirium\"], axis=1)\n",
        "xtrain, xtest, ytrain, ytest = train_test_split(X, y, test_size=0.30, random_state=0)\n",
        "from sklearn.ensemble import RandomForestClassifier\n",
        "from sklearn import metrics\n",
        "\n",
        "rfmodel = RandomForestClassifier()\n",
        "rfmodel.fit(xtrain,ytrain)\n",
        "print('model')\n",
        "print(rfmodel)\n",
        "\n",
        "ypredrf = rfmodel.predict(xtest)\n",
        "print('confusion matrix')\n",
        "CM=metrics.confusion_matrix(ytest, ypredrf)\n",
        "print(CM)\n",
        "print('classification report')\n",
        "print(metrics.classification_report(ytest, ypredrf))\n",
        "print('Accuracy : %f' % (metrics.accuracy_score(ytest, ypredrf)))\n",
        "auc=metrics.roc_auc_score(ytest, ypredrf)\n",
        "print('Area under the curve : %f' % (auc))\n",
        "\n",
        "rf1=err_metric(CM)\n",
        "rf1.append(auc)\n",
        "rf.append(rf1)"
      ],
      "metadata": {
        "colab": {
          "base_uri": "https://localhost:8080/"
        },
        "id": "kPspIu6gssBp",
        "outputId": "1f489e29-c264-4995-8be6-d424f4e6add1"
      },
      "execution_count": null,
      "outputs": [
        {
          "output_type": "stream",
          "name": "stdout",
          "text": [
            "model\n",
            "RandomForestClassifier()\n",
            "confusion matrix\n",
            "[[2295    0]\n",
            " [ 296    3]]\n",
            "classification report\n",
            "              precision    recall  f1-score   support\n",
            "\n",
            "         0.0       0.89      1.00      0.94      2295\n",
            "         1.0       1.00      0.01      0.02       299\n",
            "\n",
            "    accuracy                           0.89      2594\n",
            "   macro avg       0.94      0.51      0.48      2594\n",
            "weighted avg       0.90      0.89      0.83      2594\n",
            "\n",
            "Accuracy : 0.885891\n",
            "Area under the curve : 0.505017\n",
            "Precision value of the model:  1.0\n",
            "Accuracy of the model:  0.8858905165767155\n",
            "Recall of the model:  0.010033444816053512\n",
            "Specificity of the model:  1.0\n",
            "F1 Score of the model:  0.019867549668874173\n"
          ]
        }
      ]
    },
    {
      "cell_type": "code",
      "source": [
        "y = dd_95_ces[\"Delirium\"].values\n",
        "X=dd_95_ces.drop([\"Delirium\"], axis=1)\n",
        "xtrain, xtest, ytrain, ytest = train_test_split(X, y, test_size=0.30, random_state=0)\n",
        "from sklearn.ensemble import RandomForestClassifier\n",
        "from sklearn import metrics\n",
        "\n",
        "rfmodel = RandomForestClassifier()\n",
        "rfmodel.fit(xtrain,ytrain)\n",
        "print('model')\n",
        "print(rfmodel)\n",
        "\n",
        "ypredrf = rfmodel.predict(xtest)\n",
        "print('confusion matrix')\n",
        "CM=metrics.confusion_matrix(ytest, ypredrf)\n",
        "print(CM)\n",
        "print('classification report')\n",
        "print(metrics.classification_report(ytest, ypredrf))\n",
        "print('Accuracy : %f' % (metrics.accuracy_score(ytest, ypredrf)))\n",
        "auc=metrics.roc_auc_score(ytest, ypredrf)\n",
        "print('Area under the curve : %f' % (auc))\n",
        "\n",
        "rf1=err_metric(CM)\n",
        "rf1.append(auc)\n",
        "rf.append(rf1)"
      ],
      "metadata": {
        "colab": {
          "base_uri": "https://localhost:8080/"
        },
        "id": "_1bcrSkVsr2u",
        "outputId": "be968ef8-91c4-4efa-b48b-5917ae9fb62c"
      },
      "execution_count": null,
      "outputs": [
        {
          "output_type": "stream",
          "name": "stdout",
          "text": [
            "model\n",
            "RandomForestClassifier()\n",
            "confusion matrix\n",
            "[[2295    0]\n",
            " [ 293    6]]\n",
            "classification report\n",
            "              precision    recall  f1-score   support\n",
            "\n",
            "         0.0       0.89      1.00      0.94      2295\n",
            "         1.0       1.00      0.02      0.04       299\n",
            "\n",
            "    accuracy                           0.89      2594\n",
            "   macro avg       0.94      0.51      0.49      2594\n",
            "weighted avg       0.90      0.89      0.84      2594\n",
            "\n",
            "Accuracy : 0.887047\n",
            "Area under the curve : 0.510033\n",
            "Precision value of the model:  1.0\n",
            "Accuracy of the model:  0.887047031611411\n",
            "Recall of the model:  0.020066889632107024\n",
            "Specificity of the model:  1.0\n",
            "F1 Score of the model:  0.03934426229508197\n"
          ]
        }
      ]
    },
    {
      "cell_type": "code",
      "source": [
        "\n",
        "##HIGHEST PERFORMANCE\n",
        "y = dd_55_ces[\"Delirium\"].values\n",
        "X=dd_55_ces.drop([\"Delirium\"], axis=1)\n",
        "xtrain, xtest, ytrain, ytest = train_test_split(X, y, test_size=0.30, random_state=0)\n",
        "from sklearn.ensemble import RandomForestClassifier\n",
        "from sklearn import metrics\n",
        "\n",
        "rfmodel = RandomForestClassifier()\n",
        "rfmodel.fit(xtrain,ytrain)\n",
        "print('model')\n",
        "print(rfmodel)\n",
        "\n",
        "ypredrf = rfmodel.predict(xtest)\n",
        "print('confusion matrix')\n",
        "CM=metrics.confusion_matrix(ytest, ypredrf)\n",
        "print(CM)\n",
        "print('classification report')\n",
        "print(metrics.classification_report(ytest, ypredrf))\n",
        "print('Accuracy : %f' % (metrics.accuracy_score(ytest, ypredrf)))\n",
        "auc=metrics.roc_auc_score(ytest, ypredrf)\n",
        "print('Area under the curve : %f' % (auc))\n",
        "\n",
        "rf1=err_metric(CM)\n",
        "rf1.append(auc)\n",
        "rf.append(rf1)"
      ],
      "metadata": {
        "colab": {
          "base_uri": "https://localhost:8080/"
        },
        "id": "b0fpV0--tYTH",
        "outputId": "05a4fbc5-8c69-4724-ebd7-268604d18b36"
      },
      "execution_count": null,
      "outputs": [
        {
          "output_type": "stream",
          "name": "stdout",
          "text": [
            "model\n",
            "RandomForestClassifier()\n",
            "confusion matrix\n",
            "[[2303    0]\n",
            " [ 280   11]]\n",
            "classification report\n",
            "              precision    recall  f1-score   support\n",
            "\n",
            "         0.0       0.89      1.00      0.94      2303\n",
            "         1.0       1.00      0.04      0.07       291\n",
            "\n",
            "    accuracy                           0.89      2594\n",
            "   macro avg       0.95      0.52      0.51      2594\n",
            "weighted avg       0.90      0.89      0.85      2594\n",
            "\n",
            "Accuracy : 0.892059\n",
            "Area under the curve : 0.518900\n",
            "Precision value of the model:  1.0\n",
            "Accuracy of the model:  0.8920585967617579\n",
            "Recall of the model:  0.037800687285223365\n",
            "Specificity of the model:  1.0\n",
            "F1 Score of the model:  0.07284768211920528\n"
          ]
        }
      ]
    },
    {
      "cell_type": "code",
      "source": [
        "y = dd_55_ohees[\"Delirium\"].values\n",
        "X=dd_55_ohees.drop([\"Delirium\"], axis=1)\n",
        "xtrain, xtest, ytrain, ytest = train_test_split(X, y, test_size=0.30, random_state=0)\n",
        "from sklearn.ensemble import RandomForestClassifier\n",
        "from sklearn import metrics\n",
        "\n",
        "rfmodel = RandomForestClassifier()\n",
        "rfmodel.fit(xtrain,ytrain)\n",
        "print('model')\n",
        "print(rfmodel)\n",
        "\n",
        "ypredrf = rfmodel.predict(xtest)\n",
        "print('confusion matrix')\n",
        "CM=metrics.confusion_matrix(ytest, ypredrf)\n",
        "print(CM)\n",
        "print('classification report')\n",
        "print(metrics.classification_report(ytest, ypredrf))\n",
        "print('Accuracy : %f' % (metrics.accuracy_score(ytest, ypredrf)))\n",
        "auc=metrics.roc_auc_score(ytest, ypredrf)\n",
        "print('Area under the curve : %f' % (auc))\n",
        "\n",
        "rf1=err_metric(CM)\n",
        "rf1.append(auc)\n",
        "rf.append(rf1)"
      ],
      "metadata": {
        "colab": {
          "base_uri": "https://localhost:8080/"
        },
        "id": "MpQ93qX8tiJi",
        "outputId": "625df157-2a7c-488d-f6c8-dc4214b23365"
      },
      "execution_count": null,
      "outputs": [
        {
          "output_type": "stream",
          "name": "stdout",
          "text": [
            "model\n",
            "RandomForestClassifier()\n",
            "confusion matrix\n",
            "[[2303    0]\n",
            " [ 282    9]]\n",
            "classification report\n",
            "              precision    recall  f1-score   support\n",
            "\n",
            "         0.0       0.89      1.00      0.94      2303\n",
            "         1.0       1.00      0.03      0.06       291\n",
            "\n",
            "    accuracy                           0.89      2594\n",
            "   macro avg       0.95      0.52      0.50      2594\n",
            "weighted avg       0.90      0.89      0.84      2594\n",
            "\n",
            "Accuracy : 0.891288\n",
            "Area under the curve : 0.515464\n",
            "Precision value of the model:  1.0\n",
            "Accuracy of the model:  0.8912875867386276\n",
            "Recall of the model:  0.030927835051546393\n",
            "Specificity of the model:  1.0\n",
            "F1 Score of the model:  0.06000000000000001\n"
          ]
        }
      ]
    },
    {
      "cell_type": "code",
      "source": [
        "rf"
      ],
      "metadata": {
        "colab": {
          "base_uri": "https://localhost:8080/"
        },
        "id": "K7294cvgZIus",
        "outputId": "51923f91-7828-48f1-dab6-017d056e2726"
      },
      "execution_count": null,
      "outputs": [
        {
          "output_type": "execute_result",
          "data": {
            "text/plain": [
              "[[0.8912875867386276, 0.06000000000000001, 0.5154639175257731],\n",
              " [0.8920585967617579, 0.07284768211920528, 0.5189003436426117],\n",
              " [0.887047031611411, 0.03934426229508197, 0.5100334448160535],\n",
              " [0.8858905165767155, 0.019867549668874173, 0.5050167224080268],\n",
              " [0.8920585967617579, 0.060402684563758385, 0.5155709342560554],\n",
              " [0.892444101773323, 0.08524590163934427, 0.52184059026188]]"
            ]
          },
          "metadata": {},
          "execution_count": 34
        }
      ]
    },
    {
      "cell_type": "code",
      "source": [
        "rf2=[]"
      ],
      "metadata": {
        "id": "2-lLyRAlZfxJ"
      },
      "execution_count": null,
      "outputs": []
    },
    {
      "cell_type": "code",
      "source": [
        "ovs='MCT'\n",
        "y = dd_55_ces[\"Delirium\"].values\n",
        "X=dd_55_ces.drop([\"Delirium\"], axis=1)\n",
        "oversampler= sv.MulticlassOversampling(oversampler=ovs,\n",
        "                                        oversampler_params={'random_state': 5})\n",
        "X_samp, y_samp= oversampler.sample(X, y)\n",
        "xtrain, xtest, ytrain, ytest = train_test_split(X_samp, y_samp, test_size=0.30, random_state=0)\n",
        "from sklearn.ensemble import RandomForestClassifier\n",
        "from sklearn import metrics\n",
        "\n",
        "rfmodel = RandomForestClassifier()\n",
        "rfmodel.fit(xtrain,ytrain)\n",
        "print('model')\n",
        "print(rfmodel)\n",
        "\n",
        "ypredrf = rfmodel.predict(xtest)\n",
        "print('confusion matrix')\n",
        "CM=metrics.confusion_matrix(ytest, ypredrf)\n",
        "print(CM)\n",
        "print('classification report')\n",
        "print(metrics.classification_report(ytest, ypredrf))\n",
        "print('Accuracy : %f' % (metrics.accuracy_score(ytest, ypredrf)))\n",
        "auc=metrics.roc_auc_score(ytest, ypredrf)\n",
        "print('Area under the curve : %f' % (auc))\n",
        "\n",
        "rf1=err_metric(CM)\n",
        "rf1.append(auc)\n",
        "rf2.append(rf1)"
      ],
      "metadata": {
        "colab": {
          "base_uri": "https://localhost:8080/"
        },
        "id": "Xwu4EAhsryH2",
        "outputId": "7fbd68b4-75aa-42b0-8a0f-62a8f088d328"
      },
      "execution_count": null,
      "outputs": [
        {
          "output_type": "stream",
          "name": "stderr",
          "text": [
            "2022-08-24 10:30:10,667:INFO:MulticlassOversampling: Running multiclass oversampling with strategy eq_1_vs_many_successive\n",
            "INFO:smote_variants:MulticlassOversampling: Running multiclass oversampling with strategy eq_1_vs_many_successive\n",
            "2022-08-24 10:30:10,674:INFO:MulticlassOversampling: Sampling minority class with label: 1.0\n",
            "INFO:smote_variants:MulticlassOversampling: Sampling minority class with label: 1.0\n",
            "2022-08-24 10:30:10,681:INFO:MCT: Running sampling via ('MCT', \"{'proportion': 1.0, 'n_neighbors': 5, 'nn_params': {}, 'n_jobs': 1, 'ss_params': {'n_dim': 1, 'simplex_sampling': 'random', 'within_simplex_sampling': 'random', 'gaussian_component': {}}, 'random_state': 5, 'class_name': 'MCT'}\")\n",
            "INFO:smote_variants:MCT: Running sampling via ('MCT', \"{'proportion': 1.0, 'n_neighbors': 5, 'nn_params': {}, 'n_jobs': 1, 'ss_params': {'n_dim': 1, 'simplex_sampling': 'random', 'within_simplex_sampling': 'random', 'gaussian_component': {}}, 'random_state': 5, 'class_name': 'MCT'}\")\n",
            "2022-08-24 10:30:10,687:INFO:NearestNeighborsWithMetricTensor: NN fitting with metric minkowski\n",
            "INFO:smote_variants:NearestNeighborsWithMetricTensor: NN fitting with metric minkowski\n",
            "2022-08-24 10:30:10,693:INFO:NearestNeighborsWithMetricTensor: kneighbors query minkowski\n",
            "INFO:smote_variants:NearestNeighborsWithMetricTensor: kneighbors query minkowski\n",
            "2022-08-24 10:30:10,750:INFO:MCT: simplex sampling with n_dim 1\n",
            "INFO:smote_variants:MCT: simplex sampling with n_dim 1\n"
          ]
        },
        {
          "output_type": "stream",
          "name": "stdout",
          "text": [
            "model\n",
            "RandomForestClassifier()\n",
            "confusion matrix\n",
            "[[2280    9]\n",
            " [  11 2324]]\n",
            "classification report\n",
            "              precision    recall  f1-score   support\n",
            "\n",
            "         0.0       1.00      1.00      1.00      2289\n",
            "         1.0       1.00      1.00      1.00      2335\n",
            "\n",
            "    accuracy                           1.00      4624\n",
            "   macro avg       1.00      1.00      1.00      4624\n",
            "weighted avg       1.00      1.00      1.00      4624\n",
            "\n",
            "Accuracy : 0.995675\n",
            "Area under the curve : 0.995679\n",
            "Precision value of the model:  0.9961423060437206\n",
            "Accuracy of the model:  0.995674740484429\n",
            "Recall of the model:  0.995289079229122\n",
            "Specificity of the model:  0.9960681520314548\n",
            "F1 Score of the model:  0.9957155098543273\n"
          ]
        }
      ]
    },
    {
      "cell_type": "code",
      "source": [
        "ovs='MCT'\n",
        "y = dd_95_ces[\"Delirium\"].values\n",
        "X=dd_95_ces.drop([\"Delirium\"], axis=1)\n",
        "oversampler= sv.MulticlassOversampling(oversampler=ovs,\n",
        "                                        oversampler_params={'random_state': 5})\n",
        "X_samp, y_samp= oversampler.sample(X, y)\n",
        "xtrain, xtest, ytrain, ytest = train_test_split(X_samp, y_samp, test_size=0.30, random_state=0)\n",
        "from sklearn.ensemble import RandomForestClassifier\n",
        "from sklearn import metrics\n",
        "rfmodel = RandomForestClassifier()\n",
        "rfmodel.fit(xtrain,ytrain)\n",
        "print('model')\n",
        "print(rfmodel)\n",
        "\n",
        "ypredrf = rfmodel.predict(xtest)\n",
        "print('confusion matrix')\n",
        "CM=metrics.confusion_matrix(ytest, ypredrf)\n",
        "print(CM)\n",
        "print('classification report')\n",
        "print(metrics.classification_report(ytest, ypredrf))\n",
        "print('Accuracy : %f' % (metrics.accuracy_score(ytest, ypredrf)))\n",
        "auc=metrics.roc_auc_score(ytest, ypredrf)\n",
        "print('Area under the curve : %f' % (auc))\n",
        "\n",
        "rf1=err_metric(CM)\n",
        "rf1.append(auc)\n",
        "rf2.append(rf1)"
      ],
      "metadata": {
        "colab": {
          "base_uri": "https://localhost:8080/"
        },
        "id": "CWpkJXAQuOj6",
        "outputId": "39492c97-974e-4e04-e403-0e1c3c6d76a2"
      },
      "execution_count": null,
      "outputs": [
        {
          "output_type": "stream",
          "name": "stderr",
          "text": [
            "2022-08-24 10:30:15,187:INFO:MulticlassOversampling: Running multiclass oversampling with strategy eq_1_vs_many_successive\n",
            "INFO:smote_variants:MulticlassOversampling: Running multiclass oversampling with strategy eq_1_vs_many_successive\n",
            "2022-08-24 10:30:15,206:INFO:MulticlassOversampling: Sampling minority class with label: 1.0\n",
            "INFO:smote_variants:MulticlassOversampling: Sampling minority class with label: 1.0\n",
            "2022-08-24 10:30:15,218:INFO:MCT: Running sampling via ('MCT', \"{'proportion': 1.0, 'n_neighbors': 5, 'nn_params': {}, 'n_jobs': 1, 'ss_params': {'n_dim': 1, 'simplex_sampling': 'random', 'within_simplex_sampling': 'random', 'gaussian_component': {}}, 'random_state': 5, 'class_name': 'MCT'}\")\n",
            "INFO:smote_variants:MCT: Running sampling via ('MCT', \"{'proportion': 1.0, 'n_neighbors': 5, 'nn_params': {}, 'n_jobs': 1, 'ss_params': {'n_dim': 1, 'simplex_sampling': 'random', 'within_simplex_sampling': 'random', 'gaussian_component': {}}, 'random_state': 5, 'class_name': 'MCT'}\")\n",
            "2022-08-24 10:30:15,225:INFO:NearestNeighborsWithMetricTensor: NN fitting with metric minkowski\n",
            "INFO:smote_variants:NearestNeighborsWithMetricTensor: NN fitting with metric minkowski\n",
            "2022-08-24 10:30:15,229:INFO:NearestNeighborsWithMetricTensor: kneighbors query minkowski\n",
            "INFO:smote_variants:NearestNeighborsWithMetricTensor: kneighbors query minkowski\n",
            "2022-08-24 10:30:15,275:INFO:MCT: simplex sampling with n_dim 1\n",
            "INFO:smote_variants:MCT: simplex sampling with n_dim 1\n"
          ]
        },
        {
          "output_type": "stream",
          "name": "stdout",
          "text": [
            "model\n",
            "RandomForestClassifier()\n",
            "confusion matrix\n",
            "[[2277    3]\n",
            " [   4 2340]]\n",
            "classification report\n",
            "              precision    recall  f1-score   support\n",
            "\n",
            "         0.0       1.00      1.00      1.00      2280\n",
            "         1.0       1.00      1.00      1.00      2344\n",
            "\n",
            "    accuracy                           1.00      4624\n",
            "   macro avg       1.00      1.00      1.00      4624\n",
            "weighted avg       1.00      1.00      1.00      4624\n",
            "\n",
            "Accuracy : 0.998486\n",
            "Area under the curve : 0.998489\n",
            "Precision value of the model:  0.998719590268886\n",
            "Accuracy of the model:  0.9984861591695502\n",
            "Recall of the model:  0.9982935153583617\n",
            "Specificity of the model:  0.9986842105263158\n",
            "F1 Score of the model:  0.9985065073607852\n"
          ]
        }
      ]
    },
    {
      "cell_type": "code",
      "source": [
        "ovs='MCT'\n",
        "y = dd_30_ces[\"Delirium\"].values\n",
        "X=dd_30_ces.drop([\"Delirium\"], axis=1)\n",
        "oversampler= sv.MulticlassOversampling(oversampler=ovs,\n",
        "                                        oversampler_params={'random_state': 5})\n",
        "X_samp, y_samp= oversampler.sample(X, y)\n",
        "xtrain, xtest, ytrain, ytest = train_test_split(X_samp, y_samp, test_size=0.30, random_state=0)\n",
        "from sklearn.ensemble import RandomForestClassifier\n",
        "from sklearn import metrics\n",
        "\n",
        "rfmodel = RandomForestClassifier()\n",
        "rfmodel.fit(xtrain,ytrain)\n",
        "print('model')\n",
        "print(rfmodel)\n",
        "\n",
        "ypredrf = rfmodel.predict(xtest)\n",
        "print('confusion matrix')\n",
        "CM=metrics.confusion_matrix(ytest, ypredrf)\n",
        "print(CM)\n",
        "print('classification report')\n",
        "print(metrics.classification_report(ytest, ypredrf))\n",
        "print('Accuracy : %f' % (metrics.accuracy_score(ytest, ypredrf)))\n",
        "auc=metrics.roc_auc_score(ytest, ypredrf)\n",
        "print('Area under the curve : %f' % (auc))\n",
        "\n",
        "rf1=err_metric(CM)\n",
        "rf1.append(auc)\n",
        "rf2.append(rf1)"
      ],
      "metadata": {
        "colab": {
          "base_uri": "https://localhost:8080/"
        },
        "id": "z8lnEqA9uWzs",
        "outputId": "6a00d2d3-20e5-4f24-d544-1cddde8b68a1"
      },
      "execution_count": null,
      "outputs": [
        {
          "output_type": "stream",
          "name": "stderr",
          "text": [
            "2022-08-24 10:30:22,117:INFO:MulticlassOversampling: Running multiclass oversampling with strategy eq_1_vs_many_successive\n",
            "INFO:smote_variants:MulticlassOversampling: Running multiclass oversampling with strategy eq_1_vs_many_successive\n",
            "2022-08-24 10:30:22,125:INFO:MulticlassOversampling: Sampling minority class with label: 1.0\n",
            "INFO:smote_variants:MulticlassOversampling: Sampling minority class with label: 1.0\n",
            "2022-08-24 10:30:22,133:INFO:MCT: Running sampling via ('MCT', \"{'proportion': 1.0, 'n_neighbors': 5, 'nn_params': {}, 'n_jobs': 1, 'ss_params': {'n_dim': 1, 'simplex_sampling': 'random', 'within_simplex_sampling': 'random', 'gaussian_component': {}}, 'random_state': 5, 'class_name': 'MCT'}\")\n",
            "INFO:smote_variants:MCT: Running sampling via ('MCT', \"{'proportion': 1.0, 'n_neighbors': 5, 'nn_params': {}, 'n_jobs': 1, 'ss_params': {'n_dim': 1, 'simplex_sampling': 'random', 'within_simplex_sampling': 'random', 'gaussian_component': {}}, 'random_state': 5, 'class_name': 'MCT'}\")\n",
            "2022-08-24 10:30:22,141:INFO:NearestNeighborsWithMetricTensor: NN fitting with metric minkowski\n",
            "INFO:smote_variants:NearestNeighborsWithMetricTensor: NN fitting with metric minkowski\n",
            "2022-08-24 10:30:22,145:INFO:NearestNeighborsWithMetricTensor: kneighbors query minkowski\n",
            "INFO:smote_variants:NearestNeighborsWithMetricTensor: kneighbors query minkowski\n",
            "2022-08-24 10:30:22,184:INFO:MCT: simplex sampling with n_dim 1\n",
            "INFO:smote_variants:MCT: simplex sampling with n_dim 1\n"
          ]
        },
        {
          "output_type": "stream",
          "name": "stdout",
          "text": [
            "model\n",
            "RandomForestClassifier()\n",
            "confusion matrix\n",
            "[[2278    6]\n",
            " [   6 2334]]\n",
            "classification report\n",
            "              precision    recall  f1-score   support\n",
            "\n",
            "         0.0       1.00      1.00      1.00      2284\n",
            "         1.0       1.00      1.00      1.00      2340\n",
            "\n",
            "    accuracy                           1.00      4624\n",
            "   macro avg       1.00      1.00      1.00      4624\n",
            "weighted avg       1.00      1.00      1.00      4624\n",
            "\n",
            "Accuracy : 0.997405\n",
            "Area under the curve : 0.997404\n",
            "Precision value of the model:  0.9974358974358974\n",
            "Accuracy of the model:  0.9974048442906575\n",
            "Recall of the model:  0.9974358974358974\n",
            "Specificity of the model:  0.9973730297723292\n",
            "F1 Score of the model:  0.9974358974358974\n"
          ]
        }
      ]
    },
    {
      "cell_type": "code",
      "source": [
        "rf2"
      ],
      "metadata": {
        "colab": {
          "base_uri": "https://localhost:8080/"
        },
        "id": "7gXJ84X3Z1sf",
        "outputId": "48387c70-126d-486e-a73d-3c2942095478"
      },
      "execution_count": null,
      "outputs": [
        {
          "output_type": "execute_result",
          "data": {
            "text/plain": [
              "[[0.995674740484429, 0.9957155098543273, 0.9956786156302885],\n",
              " [0.9984861591695502, 0.9985065073607852, 0.9984888629423389],\n",
              " [0.9974048442906575, 0.9974358974358974, 0.9974044636041134]]"
            ]
          },
          "metadata": {},
          "execution_count": 40
        }
      ]
    },
    {
      "cell_type": "markdown",
      "source": [
        "# GAM"
      ],
      "metadata": {
        "id": "xWb_s35dr32i"
      }
    },
    {
      "cell_type": "code",
      "source": [
        "pip install pygam"
      ],
      "metadata": {
        "colab": {
          "base_uri": "https://localhost:8080/"
        },
        "id": "_A4NcpaVr5by",
        "outputId": "e0a0683f-51e9-4b11-9f9f-cfc3257f6096"
      },
      "execution_count": null,
      "outputs": [
        {
          "output_type": "stream",
          "name": "stdout",
          "text": [
            "Looking in indexes: https://pypi.org/simple, https://us-python.pkg.dev/colab-wheels/public/simple/\n",
            "Collecting pygam\n",
            "  Downloading pygam-0.8.0-py2.py3-none-any.whl (1.8 MB)\n",
            "\u001b[K     |████████████████████████████████| 1.8 MB 15.3 MB/s \n",
            "\u001b[?25hRequirement already satisfied: progressbar2 in /usr/local/lib/python3.7/dist-packages (from pygam) (3.38.0)\n",
            "Requirement already satisfied: scipy in /usr/local/lib/python3.7/dist-packages (from pygam) (1.7.3)\n",
            "Requirement already satisfied: numpy in /usr/local/lib/python3.7/dist-packages (from pygam) (1.21.6)\n",
            "Requirement already satisfied: future in /usr/local/lib/python3.7/dist-packages (from pygam) (0.16.0)\n",
            "Requirement already satisfied: python-utils>=2.3.0 in /usr/local/lib/python3.7/dist-packages (from progressbar2->pygam) (3.3.3)\n",
            "Requirement already satisfied: six in /usr/local/lib/python3.7/dist-packages (from progressbar2->pygam) (1.15.0)\n",
            "Installing collected packages: pygam\n",
            "Successfully installed pygam-0.8.0\n"
          ]
        }
      ]
    },
    {
      "cell_type": "code",
      "source": [
        "from pygam import LogisticGAM\n",
        "y = dd_30_ces[\"Delirium\"].values\n",
        "X=dd_30_ces.drop([\"Delirium\"], axis=1)\n",
        "xtrain, xtest, ytrain, ytest = train_test_split(X, y, test_size=0.30, random_state=0)\n",
        "gam = LogisticGAM().fit(xtrain, ytrain)\n",
        "gamprd=gam.predict(xtest)\n",
        "\n",
        "print('confusion matrix')\n",
        "CM=metrics.confusion_matrix(ytest, gamprd)\n",
        "print()\n",
        "print('classification report')\n",
        "print(metrics.classification_report(ytest, gamprd))\n",
        "print('Accuracy : %f' % (metrics.accuracy_score(ytest, gamprd)))\n",
        "print('Area under the curve : %f' % (metrics.roc_auc_score(ytest, gamprd)))\n",
        "\n",
        "err_metric(CM)\n",
        "print('\\n')\n",
        "print('\\n')"
      ],
      "metadata": {
        "colab": {
          "base_uri": "https://localhost:8080/"
        },
        "id": "9q8_VVMyyrh9",
        "outputId": "2bddc5c1-93cd-48ba-9333-548867bd6e3a"
      },
      "execution_count": null,
      "outputs": [
        {
          "output_type": "stream",
          "name": "stdout",
          "text": [
            "confusion matrix\n",
            "\n",
            "classification report\n",
            "              precision    recall  f1-score   support\n",
            "\n",
            "         0.0       0.89      1.00      0.94      2305\n",
            "         1.0       0.68      0.05      0.10       289\n",
            "\n",
            "    accuracy                           0.89      2594\n",
            "   macro avg       0.79      0.52      0.52      2594\n",
            "weighted avg       0.87      0.89      0.85      2594\n",
            "\n",
            "Accuracy : 0.891673\n",
            "Area under the curve : 0.524433\n",
            "Precision value of the model:  0.6818181818181818\n",
            "Accuracy of the model:  0.8916730917501927\n",
            "Recall of the model:  0.05190311418685121\n",
            "Specificity of the model:  0.9969631236442517\n",
            "F1 Score of the model:  0.09646302250803858\n",
            "\n",
            "\n",
            "\n",
            "\n"
          ]
        }
      ]
    },
    {
      "cell_type": "code",
      "source": [
        "from pygam import LogisticGAM\n",
        "y = dd_30_ohees[\"Delirium\"].values\n",
        "X=dd_30_ohees.drop([\"Delirium\"], axis=1)\n",
        "xtrain, xtest, ytrain, ytest = train_test_split(X, y, test_size=0.30, random_state=0)\n",
        "\n",
        "gam = LogisticGAM().fit(xtrain, ytrain)\n",
        "gamprd=gam.predict(xtest)\n",
        "\n",
        "print('confusion matrix')\n",
        "CM=metrics.confusion_matrix(ytest, gamprd)\n",
        "print()\n",
        "print('classification report')\n",
        "print(metrics.classification_report(ytest, gamprd))\n",
        "print('Accuracy : %f' % (metrics.accuracy_score(ytest, gamprd)))\n",
        "print('Area under the curve : %f' % (metrics.roc_auc_score(ytest, gamprd)))\n",
        "\n",
        "err_metric(CM)\n",
        "print('\\n')\n",
        "print('\\n')"
      ],
      "metadata": {
        "colab": {
          "base_uri": "https://localhost:8080/"
        },
        "id": "PWKKTKmm1893",
        "outputId": "fe25b4b0-c950-43b2-ed29-5331b5e541a6"
      },
      "execution_count": null,
      "outputs": [
        {
          "output_type": "stream",
          "name": "stdout",
          "text": [
            "confusion matrix\n",
            "[[2291   14]\n",
            " [ 277   12]]\n",
            "classification report\n",
            "              precision    recall  f1-score   support\n",
            "\n",
            "         0.0       0.89      0.99      0.94      2305\n",
            "         1.0       0.46      0.04      0.08       289\n",
            "\n",
            "    accuracy                           0.89      2594\n",
            "   macro avg       0.68      0.52      0.51      2594\n",
            "weighted avg       0.84      0.89      0.84      2594\n",
            "\n",
            "Accuracy : 0.887818\n",
            "Area under the curve : 0.517724\n"
          ]
        }
      ]
    },
    {
      "cell_type": "code",
      "source": [
        "from pygam import LogisticGAM\n",
        "y = dd_95_ces[\"Delirium\"].values\n",
        "X=dd_95_ces.drop([\"Delirium\"], axis=1)\n",
        "xtrain, xtest, ytrain, ytest = train_test_split(X, y, test_size=0.30, random_state=0)\n",
        "\n",
        "gam = LogisticGAM().fit(xtrain, ytrain)\n",
        "gamprd=gam.predict(xtest)\n",
        "\n",
        "print('confusion matrix')\n",
        "CM=metrics.confusion_matrix(ytest, gamprd)\n",
        "print()\n",
        "print('classification report')\n",
        "print(metrics.classification_report(ytest, gamprd))\n",
        "print('Accuracy : %f' % (metrics.accuracy_score(ytest, gamprd)))\n",
        "print('Area under the curve : %f' % (metrics.roc_auc_score(ytest, gamprd)))\n",
        "\n",
        "err_metric(CM)\n",
        "print('\\n')\n",
        "print('\\n')"
      ],
      "metadata": {
        "colab": {
          "base_uri": "https://localhost:8080/"
        },
        "id": "fIHyIDQLyyuO",
        "outputId": "0522ba19-9651-427b-a89b-60195f7d483a"
      },
      "execution_count": null,
      "outputs": [
        {
          "output_type": "stream",
          "name": "stderr",
          "text": [
            "/usr/local/lib/python3.7/dist-packages/pygam/pygam.py:592: RuntimeWarning: overflow encountered in square\n",
            "  self.distribution.V(mu=mu) *\n",
            "/usr/local/lib/python3.7/dist-packages/pygam/links.py:149: RuntimeWarning: divide by zero encountered in true_divide\n",
            "  return dist.levels/(mu*(dist.levels - mu))\n",
            "/usr/local/lib/python3.7/dist-packages/pygam/pygam.py:592: RuntimeWarning: invalid value encountered in multiply\n",
            "  self.distribution.V(mu=mu) *\n",
            "/usr/local/lib/python3.7/dist-packages/pygam/links.py:149: RuntimeWarning: overflow encountered in true_divide\n",
            "  return dist.levels/(mu*(dist.levels - mu))\n",
            "/usr/local/lib/python3.7/dist-packages/pygam/links.py:133: RuntimeWarning: overflow encountered in exp\n",
            "  elp = np.exp(lp)\n",
            "/usr/local/lib/python3.7/dist-packages/pygam/links.py:134: RuntimeWarning: invalid value encountered in true_divide\n",
            "  return dist.levels * elp / (elp + 1)\n"
          ]
        },
        {
          "output_type": "stream",
          "name": "stdout",
          "text": [
            "confusion matrix\n",
            "[[2264   31]\n",
            " [ 290    9]]\n",
            "classification report\n",
            "              precision    recall  f1-score   support\n",
            "\n",
            "         0.0       0.89      0.99      0.93      2295\n",
            "         1.0       0.23      0.03      0.05       299\n",
            "\n",
            "    accuracy                           0.88      2594\n",
            "   macro avg       0.56      0.51      0.49      2594\n",
            "weighted avg       0.81      0.88      0.83      2594\n",
            "\n",
            "Accuracy : 0.876253\n",
            "Area under the curve : 0.508296\n"
          ]
        }
      ]
    },
    {
      "cell_type": "code",
      "source": [
        "from pygam import LogisticGAM\n",
        "y = dd_95_ohees[\"Delirium\"].values\n",
        "X=dd_95_ohees.drop([\"Delirium\"], axis=1)\n",
        "xtrain, xtest, ytrain, ytest = train_test_split(X, y, test_size=0.30, random_state=0)\n",
        "\n",
        "gam = LogisticGAM().fit(xtrain, ytrain)\n",
        "gamprd=gam.predict(xtest)\n",
        "\n",
        "print('confusion matrix')\n",
        "CM=metrics.confusion_matrix(ytest, gamprd)\n",
        "print()\n",
        "print('classification report')\n",
        "print(metrics.classification_report(ytest, gamprd))\n",
        "print('Accuracy : %f' % (metrics.accuracy_score(ytest, gamprd)))\n",
        "print('Area under the curve : %f' % (metrics.roc_auc_score(ytest, gamprd)))\n",
        "\n",
        "err_metric(CM)\n",
        "print('\\n')\n",
        "print('\\n')"
      ],
      "metadata": {
        "colab": {
          "base_uri": "https://localhost:8080/"
        },
        "id": "FTnU2wJq2ARZ",
        "outputId": "e99c0918-b010-4522-a504-753e995ef849"
      },
      "execution_count": null,
      "outputs": [
        {
          "output_type": "stream",
          "name": "stderr",
          "text": [
            "/usr/local/lib/python3.7/dist-packages/pygam/pygam.py:592: RuntimeWarning: overflow encountered in square\n",
            "  self.distribution.V(mu=mu) *\n",
            "/usr/local/lib/python3.7/dist-packages/pygam/links.py:149: RuntimeWarning: divide by zero encountered in true_divide\n",
            "  return dist.levels/(mu*(dist.levels - mu))\n",
            "/usr/local/lib/python3.7/dist-packages/pygam/pygam.py:592: RuntimeWarning: invalid value encountered in multiply\n",
            "  self.distribution.V(mu=mu) *\n",
            "/usr/local/lib/python3.7/dist-packages/pygam/links.py:149: RuntimeWarning: overflow encountered in true_divide\n",
            "  return dist.levels/(mu*(dist.levels - mu))\n",
            "/usr/local/lib/python3.7/dist-packages/pygam/links.py:133: RuntimeWarning: overflow encountered in exp\n",
            "  elp = np.exp(lp)\n",
            "/usr/local/lib/python3.7/dist-packages/pygam/links.py:134: RuntimeWarning: invalid value encountered in true_divide\n",
            "  return dist.levels * elp / (elp + 1)\n"
          ]
        },
        {
          "output_type": "stream",
          "name": "stdout",
          "text": [
            "confusion matrix\n",
            "[[2264   31]\n",
            " [ 290    9]]\n",
            "classification report\n",
            "              precision    recall  f1-score   support\n",
            "\n",
            "         0.0       0.89      0.99      0.93      2295\n",
            "         1.0       0.23      0.03      0.05       299\n",
            "\n",
            "    accuracy                           0.88      2594\n",
            "   macro avg       0.56      0.51      0.49      2594\n",
            "weighted avg       0.81      0.88      0.83      2594\n",
            "\n",
            "Accuracy : 0.876253\n",
            "Area under the curve : 0.508296\n"
          ]
        }
      ]
    },
    {
      "cell_type": "code",
      "source": [
        "from pygam import LogisticGAM\n",
        "y = dd_55_ohees[\"Delirium\"].values\n",
        "X=dd_55_ohees.drop([\"Delirium\"], axis=1)\n",
        "xtrain, xtest, ytrain, ytest = train_test_split(X, y, test_size=0.30, random_state=0)\n",
        "\n",
        "gam = LogisticGAM().fit(xtrain, ytrain)\n",
        "gamprd=gam.predict(xtest)\n",
        "\n",
        "print('confusion matrix')\n",
        "CM=metrics.confusion_matrix(ytest, gamprd)\n",
        "print()\n",
        "print('classification report')\n",
        "print(metrics.classification_report(ytest, gamprd))\n",
        "print('Accuracy : %f' % (metrics.accuracy_score(ytest, gamprd)))\n",
        "print('Area under the curve : %f' % (metrics.roc_auc_score(ytest, gamprd)))\n",
        "\n",
        "err_metric(CM)\n",
        "print('\\n')\n",
        "print('\\n')"
      ],
      "metadata": {
        "colab": {
          "base_uri": "https://localhost:8080/"
        },
        "id": "c7_J3B0y1157",
        "outputId": "a4034132-701c-406e-8d15-724f929f3af8"
      },
      "execution_count": null,
      "outputs": [
        {
          "output_type": "stream",
          "name": "stderr",
          "text": [
            "/usr/local/lib/python3.7/dist-packages/pygam/links.py:149: RuntimeWarning: divide by zero encountered in true_divide\n",
            "  return dist.levels/(mu*(dist.levels - mu))\n",
            "/usr/local/lib/python3.7/dist-packages/pygam/pygam.py:592: RuntimeWarning: invalid value encountered in multiply\n",
            "  self.distribution.V(mu=mu) *\n",
            "/usr/local/lib/python3.7/dist-packages/pygam/pygam.py:592: RuntimeWarning: overflow encountered in square\n",
            "  self.distribution.V(mu=mu) *\n"
          ]
        },
        {
          "output_type": "stream",
          "name": "stdout",
          "text": [
            "did not converge\n",
            "confusion matrix\n",
            "[[2277   26]\n",
            " [ 264   27]]\n",
            "classification report\n",
            "              precision    recall  f1-score   support\n",
            "\n",
            "         0.0       0.90      0.99      0.94      2303\n",
            "         1.0       0.51      0.09      0.16       291\n",
            "\n",
            "    accuracy                           0.89      2594\n",
            "   macro avg       0.70      0.54      0.55      2594\n",
            "weighted avg       0.85      0.89      0.85      2594\n",
            "\n",
            "Accuracy : 0.888204\n",
            "Area under the curve : 0.540747\n"
          ]
        }
      ]
    },
    {
      "cell_type": "code",
      "source": [
        "#from pygam import LogisticGAM\n",
        "#y = dd_55_ces[\"Delirium\"].values\n",
        "#X=dd_55_ces.drop([\"Delirium\"], axis=1)\n",
        "#xtrain, xtest, ytrain, ytest = train_test_split(X, y, test_size=0.30, random_state=0)\n",
        "\n",
        "#gam = LogisticGAM(fit_intercept=True).fit(xtrain, ytrain)\n",
        "#gamprd=gam.predict(xtest)\n",
        "\n",
        "#print('confusion matrix')\n",
        "#print(metrics.confusion_matrix(ytest, gamprd))\n",
        "#print('classification report')\n",
        "#print(metrics.classification_report(ytest, gamprd))\n",
        "#print('Accuracy : %f' % (metrics.accuracy_score(ytest, gamprd)))\n",
        "#print('Area under the curve : %f' % (metrics.roc_auc_score(ytest, gamprd)))"
      ],
      "metadata": {
        "id": "N7M3KnjkzXsZ"
      },
      "execution_count": null,
      "outputs": []
    },
    {
      "cell_type": "code",
      "source": [
        "ovs='MCT'\n",
        "y = dd_30_ces[\"Delirium\"].values\n",
        "X=dd_30_ces.drop([\"Delirium\"], axis=1)\n",
        "oversampler= sv.MulticlassOversampling(oversampler=ovs,\n",
        "                                        oversampler_params={'random_state': 5})\n",
        "X_samp, y_samp= oversampler.sample(X, y)\n",
        "xtrain, xtest, ytrain, ytest = train_test_split(X_samp, y_samp, test_size=0.30, random_state=0)\n",
        "\n",
        "gam = LogisticGAM().fit(xtrain, ytrain)\n",
        "gamprd=gam.predict(xtest)\n",
        "\n",
        "print('confusion matrix')\n",
        "CM=metrics.confusion_matrix(ytest, gamprd)\n",
        "print(CM)\n",
        "print('classification report')\n",
        "print(metrics.classification_report(ytest, gamprd))\n",
        "print('Accuracy : %f' % (metrics.accuracy_score(ytest, gamprd)))\n",
        "print('Area under the curve : %f' % (metrics.roc_auc_score(ytest, gamprd)))\n",
        "\n",
        "err_metric(CM)\n",
        "print('\\n')\n",
        "print('\\n')"
      ],
      "metadata": {
        "colab": {
          "base_uri": "https://localhost:8080/"
        },
        "id": "aKs-U15a-r7S",
        "outputId": "aa619242-c918-4875-f1de-ad39760fb24c"
      },
      "execution_count": null,
      "outputs": [
        {
          "output_type": "stream",
          "name": "stderr",
          "text": [
            "2022-08-24 09:22:10,063:INFO:MulticlassOversampling: Running multiclass oversampling with strategy eq_1_vs_many_successive\n",
            "INFO:smote_variants:MulticlassOversampling: Running multiclass oversampling with strategy eq_1_vs_many_successive\n",
            "2022-08-24 09:22:10,080:INFO:MulticlassOversampling: Sampling minority class with label: 1.0\n",
            "INFO:smote_variants:MulticlassOversampling: Sampling minority class with label: 1.0\n",
            "2022-08-24 09:22:10,092:INFO:MCT: Running sampling via ('MCT', \"{'proportion': 1.0, 'n_neighbors': 5, 'nn_params': {}, 'n_jobs': 1, 'ss_params': {'n_dim': 1, 'simplex_sampling': 'random', 'within_simplex_sampling': 'random', 'gaussian_component': {}}, 'random_state': 5, 'class_name': 'MCT'}\")\n",
            "INFO:smote_variants:MCT: Running sampling via ('MCT', \"{'proportion': 1.0, 'n_neighbors': 5, 'nn_params': {}, 'n_jobs': 1, 'ss_params': {'n_dim': 1, 'simplex_sampling': 'random', 'within_simplex_sampling': 'random', 'gaussian_component': {}}, 'random_state': 5, 'class_name': 'MCT'}\")\n",
            "2022-08-24 09:22:10,107:INFO:NearestNeighborsWithMetricTensor: NN fitting with metric minkowski\n",
            "INFO:smote_variants:NearestNeighborsWithMetricTensor: NN fitting with metric minkowski\n",
            "2022-08-24 09:22:10,117:INFO:NearestNeighborsWithMetricTensor: kneighbors query minkowski\n",
            "INFO:smote_variants:NearestNeighborsWithMetricTensor: kneighbors query minkowski\n",
            "2022-08-24 09:22:10,220:INFO:MCT: simplex sampling with n_dim 1\n",
            "INFO:smote_variants:MCT: simplex sampling with n_dim 1\n"
          ]
        },
        {
          "output_type": "stream",
          "name": "stdout",
          "text": [
            "did not converge\n",
            "confusion matrix\n",
            "[[1572  712]\n",
            " [ 657 1683]]\n",
            "classification report\n",
            "              precision    recall  f1-score   support\n",
            "\n",
            "         0.0       0.71      0.69      0.70      2284\n",
            "         1.0       0.70      0.72      0.71      2340\n",
            "\n",
            "    accuracy                           0.70      4624\n",
            "   macro avg       0.70      0.70      0.70      4624\n",
            "weighted avg       0.70      0.70      0.70      4624\n",
            "\n",
            "Accuracy : 0.703936\n",
            "Area under the curve : 0.703748\n",
            "Precision value of the model:  0.702713987473904\n",
            "Accuracy of the model:  0.7039359861591695\n",
            "Recall of the model:  0.7192307692307692\n",
            "Specificity of the model:  0.6882661996497373\n",
            "\n",
            "\n",
            "\n",
            "\n"
          ]
        }
      ]
    },
    {
      "cell_type": "code",
      "source": [
        "ovs='MCT'\n",
        "y = dd_30_ohees[\"Delirium\"].values\n",
        "X=dd_30_ohees.drop([\"Delirium\"], axis=1)\n",
        "oversampler= sv.MulticlassOversampling(oversampler=ovs,\n",
        "                                        oversampler_params={'random_state': 5})\n",
        "X_samp, y_samp= oversampler.sample(X, y)\n",
        "xtrain, xtest, ytrain, ytest = train_test_split(X_samp, y_samp, test_size=0.30, random_state=0)\n",
        "\n",
        "gam = LogisticGAM().fit(xtrain, ytrain)\n",
        "gamprd=gam.predict(xtest)\n",
        "\n",
        "print('confusion matrix')\n",
        "CM=metrics.confusion_matrix(ytest, gamprd)\n",
        "print(CM)\n",
        "print('classification report')\n",
        "print(metrics.classification_report(ytest, gamprd))\n",
        "print('Accuracy : %f' % (metrics.accuracy_score(ytest, gamprd)))\n",
        "print('Area under the curve : %f' % (metrics.roc_auc_score(ytest, gamprd)))\n",
        "\n",
        "err_metric(CM)\n",
        "print('\\n')\n",
        "print('\\n')"
      ],
      "metadata": {
        "colab": {
          "base_uri": "https://localhost:8080/"
        },
        "id": "_WgbyYUYKOUg",
        "outputId": "b45ca0e9-7e6d-4917-bf39-227005c6173d"
      },
      "execution_count": null,
      "outputs": [
        {
          "output_type": "stream",
          "name": "stderr",
          "text": [
            "2022-08-24 09:25:53,851:INFO:MulticlassOversampling: Running multiclass oversampling with strategy eq_1_vs_many_successive\n",
            "INFO:smote_variants:MulticlassOversampling: Running multiclass oversampling with strategy eq_1_vs_many_successive\n",
            "2022-08-24 09:25:53,865:INFO:MulticlassOversampling: Sampling minority class with label: 1.0\n",
            "INFO:smote_variants:MulticlassOversampling: Sampling minority class with label: 1.0\n",
            "2022-08-24 09:25:53,882:INFO:MCT: Running sampling via ('MCT', \"{'proportion': 1.0, 'n_neighbors': 5, 'nn_params': {}, 'n_jobs': 1, 'ss_params': {'n_dim': 1, 'simplex_sampling': 'random', 'within_simplex_sampling': 'random', 'gaussian_component': {}}, 'random_state': 5, 'class_name': 'MCT'}\")\n",
            "INFO:smote_variants:MCT: Running sampling via ('MCT', \"{'proportion': 1.0, 'n_neighbors': 5, 'nn_params': {}, 'n_jobs': 1, 'ss_params': {'n_dim': 1, 'simplex_sampling': 'random', 'within_simplex_sampling': 'random', 'gaussian_component': {}}, 'random_state': 5, 'class_name': 'MCT'}\")\n",
            "2022-08-24 09:25:53,897:INFO:NearestNeighborsWithMetricTensor: NN fitting with metric minkowski\n",
            "INFO:smote_variants:NearestNeighborsWithMetricTensor: NN fitting with metric minkowski\n",
            "2022-08-24 09:25:53,903:INFO:NearestNeighborsWithMetricTensor: kneighbors query minkowski\n",
            "INFO:smote_variants:NearestNeighborsWithMetricTensor: kneighbors query minkowski\n",
            "2022-08-24 09:25:54,017:INFO:MCT: simplex sampling with n_dim 1\n",
            "INFO:smote_variants:MCT: simplex sampling with n_dim 1\n"
          ]
        },
        {
          "output_type": "stream",
          "name": "stdout",
          "text": [
            "confusion matrix\n",
            "[[1610  674]\n",
            " [ 696 1644]]\n",
            "classification report\n",
            "              precision    recall  f1-score   support\n",
            "\n",
            "         0.0       0.70      0.70      0.70      2284\n",
            "         1.0       0.71      0.70      0.71      2340\n",
            "\n",
            "    accuracy                           0.70      4624\n",
            "   macro avg       0.70      0.70      0.70      4624\n",
            "weighted avg       0.70      0.70      0.70      4624\n",
            "\n",
            "Accuracy : 0.703720\n",
            "Area under the curve : 0.703734\n",
            "Precision value of the model:  0.7092320966350302\n",
            "Accuracy of the model:  0.703719723183391\n",
            "Recall of the model:  0.7025641025641025\n",
            "Specificity of the model:  0.7049036777583187\n",
            "\n",
            "\n",
            "\n",
            "\n"
          ]
        }
      ]
    },
    {
      "cell_type": "markdown",
      "source": [
        "# CART"
      ],
      "metadata": {
        "id": "PJox3kUJyLSb"
      }
    },
    {
      "cell_type": "code",
      "source": [
        "cart=[]"
      ],
      "metadata": {
        "id": "wKJbC2B5aDnm"
      },
      "execution_count": null,
      "outputs": []
    },
    {
      "cell_type": "code",
      "source": [
        "from sklearn.tree import DecisionTreeClassifier\n",
        "clf = DecisionTreeClassifier()   \n",
        "y = dd_30_ces[\"Delirium\"].values\n",
        "X=dd_30_ces.drop([\"Delirium\"], axis=1)\n",
        "xtrain, xtest, ytrain, ytest = train_test_split(X, y, test_size=0.30, random_state=0)\n",
        "clf.fit(xtrain,ytrain)\n",
        "clfprd=clf.predict(xtest)\n",
        "\n",
        "print('confusion matrix')\n",
        "CM=metrics.confusion_matrix(ytest, clfprd)\n",
        "print(CM)\n",
        "print('classification report')\n",
        "print(metrics.classification_report(ytest, clfprd))\n",
        "print('Accuracy : %f' % (metrics.accuracy_score(ytest, clfprd)))\n",
        "auc=metrics.roc_auc_score(ytest, clfprd)\n",
        "print('Area under the curve : %f' % (auc))\n",
        "\n",
        "cart1=err_metric(CM)\n",
        "cart1.append(auc)\n",
        "cart.append(cart1)\n",
        "print('\\n')\n",
        "print('\\n')"
      ],
      "metadata": {
        "colab": {
          "base_uri": "https://localhost:8080/"
        },
        "id": "WGHyfDKN2aia",
        "outputId": "e1ca73eb-a6ca-40d7-c716-f3eadd9e5de3"
      },
      "execution_count": null,
      "outputs": [
        {
          "output_type": "stream",
          "name": "stdout",
          "text": [
            "confusion matrix\n",
            "[[2055  250]\n",
            " [ 229   60]]\n",
            "classification report\n",
            "              precision    recall  f1-score   support\n",
            "\n",
            "         0.0       0.90      0.89      0.90      2305\n",
            "         1.0       0.19      0.21      0.20       289\n",
            "\n",
            "    accuracy                           0.82      2594\n",
            "   macro avg       0.55      0.55      0.55      2594\n",
            "weighted avg       0.82      0.82      0.82      2594\n",
            "\n",
            "Accuracy : 0.815343\n",
            "Area under the curve : 0.549576\n",
            "Precision value of the model:  0.1935483870967742\n",
            "Accuracy of the model:  0.8153430994602929\n",
            "Recall of the model:  0.20761245674740483\n",
            "Specificity of the model:  0.8915401301518439\n",
            "F1 Score of the model:  0.2003338898163606\n",
            "\n",
            "\n",
            "\n",
            "\n"
          ]
        }
      ]
    },
    {
      "cell_type": "code",
      "source": [
        "from sklearn.tree import DecisionTreeClassifier\n",
        "clf = DecisionTreeClassifier()   \n",
        "y = dd_55_ces[\"Delirium\"].values\n",
        "X=dd_55_ces.drop([\"Delirium\"], axis=1)\n",
        "xtrain, xtest, ytrain, ytest = train_test_split(X, y, test_size=0.30, random_state=0)\n",
        "clf.fit(xtrain,ytrain)\n",
        "clfprd=clf.predict(xtest)\n",
        "\n",
        "print('confusion matrix')\n",
        "CM=metrics.confusion_matrix(ytest, clfprd)\n",
        "print(CM)\n",
        "print('classification report')\n",
        "print(metrics.classification_report(ytest, clfprd))\n",
        "print('Accuracy : %f' % (metrics.accuracy_score(ytest, clfprd)))\n",
        "auc=metrics.roc_auc_score(ytest, clfprd)\n",
        "print('Area under the curve : %f' % (auc))\n",
        "\n",
        "cart1=err_metric(CM)\n",
        "cart1.append(auc)\n",
        "cart.append(cart1)\n",
        "print('\\n')\n",
        "print('\\n')"
      ],
      "metadata": {
        "colab": {
          "base_uri": "https://localhost:8080/"
        },
        "id": "hf14empZr9Ny",
        "outputId": "ceab1cde-c97b-4a94-db3e-6ca147202e61"
      },
      "execution_count": null,
      "outputs": [
        {
          "output_type": "stream",
          "name": "stdout",
          "text": [
            "confusion matrix\n",
            "[[2051  252]\n",
            " [ 233   58]]\n",
            "classification report\n",
            "              precision    recall  f1-score   support\n",
            "\n",
            "         0.0       0.90      0.89      0.89      2303\n",
            "         1.0       0.19      0.20      0.19       291\n",
            "\n",
            "    accuracy                           0.81      2594\n",
            "   macro avg       0.54      0.54      0.54      2594\n",
            "weighted avg       0.82      0.81      0.82      2594\n",
            "\n",
            "Accuracy : 0.813030\n",
            "Area under the curve : 0.544945\n",
            "Precision value of the model:  0.1870967741935484\n",
            "Accuracy of the model:  0.813030069390902\n",
            "Recall of the model:  0.19931271477663232\n",
            "Specificity of the model:  0.8905775075987842\n",
            "F1 Score of the model:  0.19301164725457573\n",
            "\n",
            "\n",
            "\n",
            "\n"
          ]
        }
      ]
    },
    {
      "cell_type": "code",
      "source": [
        "from sklearn.tree import DecisionTreeClassifier\n",
        "clf = DecisionTreeClassifier()   \n",
        "y = dd_95_ces[\"Delirium\"].values\n",
        "X=dd_95_ces.drop([\"Delirium\"], axis=1)\n",
        "xtrain, xtest, ytrain, ytest = train_test_split(X, y, test_size=0.30, random_state=0)\n",
        "clf.fit(xtrain,ytrain)\n",
        "clfprd=clf.predict(xtest)\n",
        "\n",
        "print('confusion matrix')\n",
        "CM=metrics.confusion_matrix(ytest, clfprd)\n",
        "print(CM)\n",
        "print('classification report')\n",
        "print(metrics.classification_report(ytest, clfprd))\n",
        "print('Accuracy : %f' % (metrics.accuracy_score(ytest, clfprd)))\n",
        "auc=metrics.roc_auc_score(ytest, clfprd)\n",
        "print('Area under the curve : %f' % (auc))\n",
        "\n",
        "cart1=err_metric(CM)\n",
        "cart1.append(auc)\n",
        "cart.append(cart1)\n",
        "print('\\n')\n",
        "print('\\n')"
      ],
      "metadata": {
        "colab": {
          "base_uri": "https://localhost:8080/"
        },
        "id": "Ikm1GJ9r2rdT",
        "outputId": "0f278664-2c21-430b-a3f0-fcf9ad849712"
      },
      "execution_count": null,
      "outputs": [
        {
          "output_type": "stream",
          "name": "stdout",
          "text": [
            "confusion matrix\n",
            "[[2031  264]\n",
            " [ 254   45]]\n",
            "classification report\n",
            "              precision    recall  f1-score   support\n",
            "\n",
            "         0.0       0.89      0.88      0.89      2295\n",
            "         1.0       0.15      0.15      0.15       299\n",
            "\n",
            "    accuracy                           0.80      2594\n",
            "   macro avg       0.52      0.52      0.52      2594\n",
            "weighted avg       0.80      0.80      0.80      2594\n",
            "\n",
            "Accuracy : 0.800308\n",
            "Area under the curve : 0.517734\n",
            "Precision value of the model:  0.14563106796116504\n",
            "Accuracy of the model:  0.8003084040092521\n",
            "Recall of the model:  0.1505016722408027\n",
            "Specificity of the model:  0.8849673202614379\n",
            "F1 Score of the model:  0.14802631578947367\n",
            "\n",
            "\n",
            "\n",
            "\n"
          ]
        }
      ]
    },
    {
      "cell_type": "code",
      "source": [
        "from sklearn.tree import DecisionTreeClassifier\n",
        "clf = DecisionTreeClassifier()   \n",
        "y = dd_30_ohees[\"Delirium\"].values\n",
        "X=dd_30_ohees.drop([\"Delirium\"], axis=1)\n",
        "xtrain, xtest, ytrain, ytest = train_test_split(X, y, test_size=0.30, random_state=0)\n",
        "clf.fit(xtrain,ytrain)\n",
        "clfprd=clf.predict(xtest)\n",
        "\n",
        "print('confusion matrix')\n",
        "CM=metrics.confusion_matrix(ytest, clfprd)\n",
        "print(CM)\n",
        "print('classification report')\n",
        "print(metrics.classification_report(ytest, clfprd))\n",
        "print('Accuracy : %f' % (metrics.accuracy_score(ytest, clfprd)))\n",
        "auc=metrics.roc_auc_score(ytest, clfprd)\n",
        "print('Area under the curve : %f' % (auc))\n",
        "\n",
        "cart1=err_metric(CM)\n",
        "cart1.append(auc)\n",
        "cart.append(cart1)\n",
        "print('\\n')\n",
        "print('\\n')"
      ],
      "metadata": {
        "colab": {
          "base_uri": "https://localhost:8080/"
        },
        "id": "ok88RVzm2uWy",
        "outputId": "95251afb-55f2-4339-9e1a-2c6518e1756c"
      },
      "execution_count": null,
      "outputs": [
        {
          "output_type": "stream",
          "name": "stdout",
          "text": [
            "confusion matrix\n",
            "[[2066  239]\n",
            " [ 219   70]]\n",
            "classification report\n",
            "              precision    recall  f1-score   support\n",
            "\n",
            "         0.0       0.90      0.90      0.90      2305\n",
            "         1.0       0.23      0.24      0.23       289\n",
            "\n",
            "    accuracy                           0.82      2594\n",
            "   macro avg       0.57      0.57      0.57      2594\n",
            "weighted avg       0.83      0.82      0.83      2594\n",
            "\n",
            "Accuracy : 0.823439\n",
            "Area under the curve : 0.569263\n",
            "Precision value of the model:  0.22653721682847897\n",
            "Accuracy of the model:  0.8234387047031612\n",
            "Recall of the model:  0.2422145328719723\n",
            "Specificity of the model:  0.8963123644251627\n",
            "F1 Score of the model:  0.23411371237458195\n",
            "\n",
            "\n",
            "\n",
            "\n"
          ]
        }
      ]
    },
    {
      "cell_type": "code",
      "source": [
        "#HIGHEST PERFORMANCE\n",
        "\n",
        "from sklearn.tree import DecisionTreeClassifier\n",
        "clf = DecisionTreeClassifier()   \n",
        "y = dd_55_ohees[\"Delirium\"].values\n",
        "X=dd_55_ohees.drop([\"Delirium\"], axis=1)\n",
        "xtrain, xtest, ytrain, ytest = train_test_split(X, y, test_size=0.30, random_state=0)\n",
        "clf.fit(xtrain,ytrain)\n",
        "clfprd=clf.predict(xtest)\n",
        "\n",
        "print('confusion matrix')\n",
        "CM=metrics.confusion_matrix(ytest, clfprd)\n",
        "print(CM)\n",
        "print('classification report')\n",
        "print(metrics.classification_report(ytest, clfprd))\n",
        "print('Accuracy : %f' % (metrics.accuracy_score(ytest, clfprd)))\n",
        "auc=metrics.roc_auc_score(ytest, clfprd)\n",
        "print('Area under the curve : %f' % (auc))\n",
        "\n",
        "cart1=err_metric(CM)\n",
        "cart1.append(auc)\n",
        "cart.append(cart1)\n",
        "print('\\n')\n",
        "print('\\n')"
      ],
      "metadata": {
        "colab": {
          "base_uri": "https://localhost:8080/"
        },
        "id": "l-QcwRTE2wzy",
        "outputId": "d0e648d3-c8c3-4b3c-e9c2-567b2b584f00"
      },
      "execution_count": null,
      "outputs": [
        {
          "output_type": "stream",
          "name": "stdout",
          "text": [
            "confusion matrix\n",
            "[[2070  233]\n",
            " [ 224   67]]\n",
            "classification report\n",
            "              precision    recall  f1-score   support\n",
            "\n",
            "         0.0       0.90      0.90      0.90      2303\n",
            "         1.0       0.22      0.23      0.23       291\n",
            "\n",
            "    accuracy                           0.82      2594\n",
            "   macro avg       0.56      0.56      0.56      2594\n",
            "weighted avg       0.83      0.82      0.82      2594\n",
            "\n",
            "Accuracy : 0.823824\n",
            "Area under the curve : 0.564534\n",
            "Precision value of the model:  0.22333333333333333\n",
            "Accuracy of the model:  0.8238242097147263\n",
            "Recall of the model:  0.23024054982817868\n",
            "Specificity of the model:  0.8988276161528441\n",
            "\n",
            "\n",
            "\n",
            "\n"
          ]
        }
      ]
    },
    {
      "cell_type": "code",
      "source": [
        "from sklearn.tree import DecisionTreeClassifier\n",
        "clf = DecisionTreeClassifier()   \n",
        "y = dd_95_ohees[\"Delirium\"].values\n",
        "X=dd_95_ohees.drop([\"Delirium\"], axis=1)\n",
        "xtrain, xtest, ytrain, ytest = train_test_split(X, y, test_size=0.30, random_state=0)\n",
        "clf.fit(xtrain,ytrain)\n",
        "clfprd=clf.predict(xtest)\n",
        "\n",
        "print('confusion matrix')\n",
        "CM=metrics.confusion_matrix(ytest, clfprd)\n",
        "print(CM)\n",
        "print('classification report')\n",
        "print(metrics.classification_report(ytest, clfprd))\n",
        "print('Accuracy : %f' % (metrics.accuracy_score(ytest, clfprd)))\n",
        "auc=metrics.roc_auc_score(ytest, clfprd)\n",
        "print('Area under the curve : %f' % (auc))\n",
        "\n",
        "cart1=err_metric(CM)\n",
        "cart1.append(auc)\n",
        "cart.append(cart1)\n",
        "print('\\n')\n",
        "print('\\n')"
      ],
      "metadata": {
        "colab": {
          "base_uri": "https://localhost:8080/"
        },
        "id": "0Dhh0aql2zRw",
        "outputId": "98a5cb05-cf52-41fb-d67d-4e8c2b89f8cd"
      },
      "execution_count": null,
      "outputs": [
        {
          "output_type": "stream",
          "name": "stdout",
          "text": [
            "confusion matrix\n",
            "[[1973  322]\n",
            " [ 251   48]]\n",
            "classification report\n",
            "              precision    recall  f1-score   support\n",
            "\n",
            "         0.0       0.89      0.86      0.87      2295\n",
            "         1.0       0.13      0.16      0.14       299\n",
            "\n",
            "    accuracy                           0.78      2594\n",
            "   macro avg       0.51      0.51      0.51      2594\n",
            "weighted avg       0.80      0.78      0.79      2594\n",
            "\n",
            "Accuracy : 0.779106\n",
            "Area under the curve : 0.510115\n",
            "Precision value of the model:  0.12972972972972974\n",
            "Accuracy of the model:  0.7791056283731689\n",
            "Recall of the model:  0.1605351170568562\n",
            "Specificity of the model:  0.8596949891067538\n",
            "F1 Score of the model:  0.14349775784753366\n",
            "\n",
            "\n",
            "\n",
            "\n"
          ]
        }
      ]
    },
    {
      "cell_type": "code",
      "source": [
        "cart"
      ],
      "metadata": {
        "colab": {
          "base_uri": "https://localhost:8080/"
        },
        "id": "4qWLEq-Raj5l",
        "outputId": "a22aebdd-efec-4390-c041-e0dd92de1644"
      },
      "execution_count": null,
      "outputs": [
        {
          "output_type": "execute_result",
          "data": {
            "text/plain": [
              "[[0.8153430994602929, 0.2003338898163606, 0.5495762934496244],\n",
              " [0.813030069390902, 0.19301164725457573, 0.5449451111877083],\n",
              " [0.8003084040092521, 0.14802631578947367, 0.5177344962511203],\n",
              " [0.8234387047031612, 0.23411371237458195, 0.5692634486485675],\n",
              " [0.7791056283731689, 0.14349775784753366, 0.5101150530818049],\n",
              " [0.9377162629757786, 0.9419822723609991, 0.9369631924798298],\n",
              " [0.9355536332179931, 0.9400161030595813, 0.9347897675393297],\n",
              " [0.9372837370242214, 0.9412717699473471, 0.9367008961021102]]"
            ]
          },
          "metadata": {},
          "execution_count": 54
        }
      ]
    },
    {
      "cell_type": "code",
      "source": [
        "from sklearn.tree import DecisionTreeClassifier\n",
        "\n",
        "ovs='MCT'\n",
        "y = dd_30_ces[\"Delirium\"].values\n",
        "X=dd_30_ces.drop([\"Delirium\"], axis=1)\n",
        "oversampler= sv.MulticlassOversampling(oversampler=ovs,\n",
        "                                        oversampler_params={'random_state': 5})\n",
        "X_samp, y_samp= oversampler.sample(X, y)\n",
        "xtrain, xtest, ytrain, ytest = train_test_split(X_samp, y_samp, test_size=0.30, random_state=0)\n",
        "clf = DecisionTreeClassifier()   \n",
        "clf.fit(xtrain,ytrain)\n",
        "clfprd=clf.predict(xtest)\n",
        "\n",
        "print('confusion matrix')\n",
        "CM=metrics.confusion_matrix(ytest, clfprd)\n",
        "print(CM)\n",
        "print('classification report')\n",
        "print(metrics.classification_report(ytest, clfprd))\n",
        "print('Accuracy : %f' % (metrics.accuracy_score(ytest, clfprd)))\n",
        "auc=metrics.roc_auc_score(ytest, clfprd)\n",
        "print('Area under the curve : %f' % (auc))\n",
        "\n",
        "cart1=err_metric(CM)\n",
        "cart1.append(auc)\n",
        "cart.append(cart1)\n",
        "print('\\n')\n",
        "print('\\n')"
      ],
      "metadata": {
        "colab": {
          "base_uri": "https://localhost:8080/"
        },
        "id": "Y8mPlHQiKoHu",
        "outputId": "f2ce4e1c-d89b-4281-c113-012116701306"
      },
      "execution_count": null,
      "outputs": [
        {
          "output_type": "stream",
          "name": "stderr",
          "text": [
            "2022-08-24 10:33:25,618:INFO:MulticlassOversampling: Running multiclass oversampling with strategy eq_1_vs_many_successive\n",
            "INFO:smote_variants:MulticlassOversampling: Running multiclass oversampling with strategy eq_1_vs_many_successive\n",
            "2022-08-24 10:33:25,632:INFO:MulticlassOversampling: Sampling minority class with label: 1.0\n",
            "INFO:smote_variants:MulticlassOversampling: Sampling minority class with label: 1.0\n",
            "2022-08-24 10:33:25,640:INFO:MCT: Running sampling via ('MCT', \"{'proportion': 1.0, 'n_neighbors': 5, 'nn_params': {}, 'n_jobs': 1, 'ss_params': {'n_dim': 1, 'simplex_sampling': 'random', 'within_simplex_sampling': 'random', 'gaussian_component': {}}, 'random_state': 5, 'class_name': 'MCT'}\")\n",
            "INFO:smote_variants:MCT: Running sampling via ('MCT', \"{'proportion': 1.0, 'n_neighbors': 5, 'nn_params': {}, 'n_jobs': 1, 'ss_params': {'n_dim': 1, 'simplex_sampling': 'random', 'within_simplex_sampling': 'random', 'gaussian_component': {}}, 'random_state': 5, 'class_name': 'MCT'}\")\n",
            "2022-08-24 10:33:25,644:INFO:NearestNeighborsWithMetricTensor: NN fitting with metric minkowski\n",
            "INFO:smote_variants:NearestNeighborsWithMetricTensor: NN fitting with metric minkowski\n",
            "2022-08-24 10:33:25,648:INFO:NearestNeighborsWithMetricTensor: kneighbors query minkowski\n",
            "INFO:smote_variants:NearestNeighborsWithMetricTensor: kneighbors query minkowski\n",
            "2022-08-24 10:33:25,707:INFO:MCT: simplex sampling with n_dim 1\n",
            "INFO:smote_variants:MCT: simplex sampling with n_dim 1\n"
          ]
        },
        {
          "output_type": "stream",
          "name": "stdout",
          "text": [
            "confusion matrix\n",
            "[[1998  286]\n",
            " [   2 2338]]\n",
            "classification report\n",
            "              precision    recall  f1-score   support\n",
            "\n",
            "         0.0       1.00      0.87      0.93      2284\n",
            "         1.0       0.89      1.00      0.94      2340\n",
            "\n",
            "    accuracy                           0.94      4624\n",
            "   macro avg       0.95      0.94      0.94      4624\n",
            "weighted avg       0.94      0.94      0.94      4624\n",
            "\n",
            "Accuracy : 0.937716\n",
            "Area under the curve : 0.936963\n",
            "Precision value of the model:  0.8910060975609756\n",
            "Accuracy of the model:  0.9377162629757786\n",
            "Recall of the model:  0.9991452991452991\n",
            "Specificity of the model:  0.8747810858143608\n",
            "F1 Score of the model:  0.9419822723609991\n",
            "\n",
            "\n",
            "\n",
            "\n"
          ]
        }
      ]
    },
    {
      "cell_type": "code",
      "source": [
        "ovs='MCT'\n",
        "y = dd_30_ohees[\"Delirium\"].values\n",
        "X=dd_30_ohees.drop([\"Delirium\"], axis=1)\n",
        "oversampler= sv.MulticlassOversampling(oversampler=ovs,\n",
        "                                        oversampler_params={'random_state': 5})\n",
        "X_samp, y_samp= oversampler.sample(X, y)\n",
        "xtrain, xtest, ytrain, ytest = train_test_split(X_samp, y_samp, test_size=0.30, random_state=0)\n",
        "clf = DecisionTreeClassifier()   \n",
        "clf.fit(xtrain,ytrain)\n",
        "clfprd=clf.predict(xtest)\n",
        "\n",
        "print('confusion matrix')\n",
        "CM=metrics.confusion_matrix(ytest, clfprd)\n",
        "print(CM)\n",
        "print('classification report')\n",
        "print(metrics.classification_report(ytest, clfprd))\n",
        "print('Accuracy : %f' % (metrics.accuracy_score(ytest, clfprd)))\n",
        "auc=metrics.roc_auc_score(ytest, clfprd)\n",
        "print('Area under the curve : %f' % (auc))\n",
        "\n",
        "cart1=err_metric(CM)\n",
        "cart1.append(auc)\n",
        "cart.append(cart1)\n",
        "print('\\n')\n",
        "print('\\n')"
      ],
      "metadata": {
        "colab": {
          "base_uri": "https://localhost:8080/"
        },
        "id": "quIM-3lNK0QT",
        "outputId": "6b02a7bd-17d9-4580-981b-18e0b1743280"
      },
      "execution_count": null,
      "outputs": [
        {
          "output_type": "stream",
          "name": "stderr",
          "text": [
            "2022-08-24 10:33:34,629:INFO:MulticlassOversampling: Running multiclass oversampling with strategy eq_1_vs_many_successive\n",
            "INFO:smote_variants:MulticlassOversampling: Running multiclass oversampling with strategy eq_1_vs_many_successive\n",
            "2022-08-24 10:33:34,640:INFO:MulticlassOversampling: Sampling minority class with label: 1.0\n",
            "INFO:smote_variants:MulticlassOversampling: Sampling minority class with label: 1.0\n",
            "2022-08-24 10:33:34,652:INFO:MCT: Running sampling via ('MCT', \"{'proportion': 1.0, 'n_neighbors': 5, 'nn_params': {}, 'n_jobs': 1, 'ss_params': {'n_dim': 1, 'simplex_sampling': 'random', 'within_simplex_sampling': 'random', 'gaussian_component': {}}, 'random_state': 5, 'class_name': 'MCT'}\")\n",
            "INFO:smote_variants:MCT: Running sampling via ('MCT', \"{'proportion': 1.0, 'n_neighbors': 5, 'nn_params': {}, 'n_jobs': 1, 'ss_params': {'n_dim': 1, 'simplex_sampling': 'random', 'within_simplex_sampling': 'random', 'gaussian_component': {}}, 'random_state': 5, 'class_name': 'MCT'}\")\n",
            "2022-08-24 10:33:34,660:INFO:NearestNeighborsWithMetricTensor: NN fitting with metric minkowski\n",
            "INFO:smote_variants:NearestNeighborsWithMetricTensor: NN fitting with metric minkowski\n",
            "2022-08-24 10:33:34,666:INFO:NearestNeighborsWithMetricTensor: kneighbors query minkowski\n",
            "INFO:smote_variants:NearestNeighborsWithMetricTensor: kneighbors query minkowski\n",
            "2022-08-24 10:33:34,704:INFO:MCT: simplex sampling with n_dim 1\n",
            "INFO:smote_variants:MCT: simplex sampling with n_dim 1\n"
          ]
        },
        {
          "output_type": "stream",
          "name": "stdout",
          "text": [
            "confusion matrix\n",
            "[[1991  293]\n",
            " [   5 2335]]\n",
            "classification report\n",
            "              precision    recall  f1-score   support\n",
            "\n",
            "         0.0       1.00      0.87      0.93      2284\n",
            "         1.0       0.89      1.00      0.94      2340\n",
            "\n",
            "    accuracy                           0.94      4624\n",
            "   macro avg       0.94      0.93      0.94      4624\n",
            "weighted avg       0.94      0.94      0.94      4624\n",
            "\n",
            "Accuracy : 0.935554\n",
            "Area under the curve : 0.934790\n",
            "Precision value of the model:  0.8885083713850838\n",
            "Accuracy of the model:  0.9355536332179931\n",
            "Recall of the model:  0.9978632478632479\n",
            "Specificity of the model:  0.8717162872154116\n",
            "F1 Score of the model:  0.9400161030595813\n",
            "\n",
            "\n",
            "\n",
            "\n"
          ]
        }
      ]
    },
    {
      "cell_type": "code",
      "source": [
        "ovs='MCT'\n",
        "y = dd_55_ohees[\"Delirium\"].values\n",
        "X=dd_55_ohees.drop([\"Delirium\"], axis=1)\n",
        "oversampler= sv.MulticlassOversampling(oversampler=ovs,\n",
        "                                        oversampler_params={'random_state': 5})\n",
        "X_samp, y_samp= oversampler.sample(X, y)\n",
        "xtrain, xtest, ytrain, ytest = train_test_split(X_samp, y_samp, test_size=0.30, random_state=0)\n",
        "clf = DecisionTreeClassifier()   \n",
        "clf.fit(xtrain,ytrain)\n",
        "clfprd=clf.predict(xtest)\n",
        "\n",
        "print('confusion matrix')\n",
        "CM=metrics.confusion_matrix(ytest, clfprd)\n",
        "print(CM)\n",
        "print('classification report')\n",
        "print(metrics.classification_report(ytest, clfprd))\n",
        "print('Accuracy : %f' % (metrics.accuracy_score(ytest, clfprd)))\n",
        "auc=metrics.roc_auc_score(ytest, clfprd)\n",
        "print('Area under the curve : %f' % (auc))\n",
        "\n",
        "cart1=err_metric(CM)\n",
        "cart1.append(auc)\n",
        "cart.append(cart1)\n",
        "print('\\n')\n",
        "print('\\n')"
      ],
      "metadata": {
        "colab": {
          "base_uri": "https://localhost:8080/"
        },
        "id": "ftz1TLmbaxSj",
        "outputId": "f8380e9f-f67d-42e6-cc56-2cf5e595720d"
      },
      "execution_count": null,
      "outputs": [
        {
          "output_type": "stream",
          "name": "stderr",
          "text": [
            "2022-08-24 10:35:18,819:INFO:MulticlassOversampling: Running multiclass oversampling with strategy eq_1_vs_many_successive\n",
            "INFO:smote_variants:MulticlassOversampling: Running multiclass oversampling with strategy eq_1_vs_many_successive\n",
            "2022-08-24 10:35:18,836:INFO:MulticlassOversampling: Sampling minority class with label: 1.0\n",
            "INFO:smote_variants:MulticlassOversampling: Sampling minority class with label: 1.0\n",
            "2022-08-24 10:35:18,854:INFO:MCT: Running sampling via ('MCT', \"{'proportion': 1.0, 'n_neighbors': 5, 'nn_params': {}, 'n_jobs': 1, 'ss_params': {'n_dim': 1, 'simplex_sampling': 'random', 'within_simplex_sampling': 'random', 'gaussian_component': {}}, 'random_state': 5, 'class_name': 'MCT'}\")\n",
            "INFO:smote_variants:MCT: Running sampling via ('MCT', \"{'proportion': 1.0, 'n_neighbors': 5, 'nn_params': {}, 'n_jobs': 1, 'ss_params': {'n_dim': 1, 'simplex_sampling': 'random', 'within_simplex_sampling': 'random', 'gaussian_component': {}}, 'random_state': 5, 'class_name': 'MCT'}\")\n",
            "2022-08-24 10:35:18,868:INFO:NearestNeighborsWithMetricTensor: NN fitting with metric minkowski\n",
            "INFO:smote_variants:NearestNeighborsWithMetricTensor: NN fitting with metric minkowski\n",
            "2022-08-24 10:35:18,878:INFO:NearestNeighborsWithMetricTensor: kneighbors query minkowski\n",
            "INFO:smote_variants:NearestNeighborsWithMetricTensor: kneighbors query minkowski\n",
            "2022-08-24 10:35:18,925:INFO:MCT: simplex sampling with n_dim 1\n",
            "INFO:smote_variants:MCT: simplex sampling with n_dim 1\n"
          ]
        },
        {
          "output_type": "stream",
          "name": "stdout",
          "text": [
            "confusion matrix\n",
            "[[2010  279]\n",
            " [  11 2324]]\n",
            "classification report\n",
            "              precision    recall  f1-score   support\n",
            "\n",
            "         0.0       0.99      0.88      0.93      2289\n",
            "         1.0       0.89      1.00      0.94      2335\n",
            "\n",
            "    accuracy                           0.94      4624\n",
            "   macro avg       0.94      0.94      0.94      4624\n",
            "weighted avg       0.94      0.94      0.94      4624\n",
            "\n",
            "Accuracy : 0.937284\n",
            "Area under the curve : 0.936701\n",
            "Precision value of the model:  0.8928159815597387\n",
            "Accuracy of the model:  0.9372837370242214\n",
            "Recall of the model:  0.995289079229122\n",
            "Specificity of the model:  0.8781127129750983\n",
            "F1 Score of the model:  0.9412717699473471\n",
            "\n",
            "\n",
            "\n",
            "\n"
          ]
        }
      ]
    },
    {
      "cell_type": "markdown",
      "source": [
        "# SVM"
      ],
      "metadata": {
        "id": "6tNFuJtqr94v"
      }
    },
    {
      "cell_type": "code",
      "source": [
        "svm=[]"
      ],
      "metadata": {
        "id": "s47S0CoGbEeq"
      },
      "execution_count": null,
      "outputs": []
    },
    {
      "cell_type": "code",
      "source": [
        "from sklearn.svm import SVC"
      ],
      "metadata": {
        "id": "t56w0rRTr_5f"
      },
      "execution_count": null,
      "outputs": []
    },
    {
      "cell_type": "code",
      "source": [
        "y = dd_30_ces[\"Delirium\"].values\n",
        "X=dd_30_ces.drop([\"Delirium\"], axis=1)\n",
        "xtrain, xtest, ytrain, ytest = train_test_split(X, y, test_size=0.30, random_state=0)\n",
        "clf = SVC(kernel='linear')\n",
        "clf.fit(xtrain, ytrain)\n",
        "svcprd = clf.predict(xtest)\n",
        "\n",
        "print('confusion matrix')\n",
        "CM=metrics.confusion_matrix(ytest, svcprd)\n",
        "print(CM)\n",
        "print('classification report')\n",
        "print(metrics.classification_report(ytest, svcprd))\n",
        "print('Accuracy : %f' % (metrics.accuracy_score(ytest, svcprd)))\n",
        "auc=metrics.roc_auc_score(ytest, svcprd)\n",
        "print('Area under the curve : %f' % (auc))\n",
        "\n",
        "svm1=err_metric(CM)\n",
        "svm1.append(auc)\n",
        "svm.append(svm1)\n",
        "print('\\n')\n",
        "print('\\n')"
      ],
      "metadata": {
        "colab": {
          "base_uri": "https://localhost:8080/"
        },
        "id": "i6kn30MS_7c_",
        "outputId": "1c5d0f6d-933c-432a-9d07-06a3462bb9ef"
      },
      "execution_count": null,
      "outputs": [
        {
          "output_type": "stream",
          "name": "stdout",
          "text": [
            "confusion matrix\n",
            "[[2305    0]\n",
            " [ 289    0]]\n",
            "classification report\n",
            "              precision    recall  f1-score   support\n",
            "\n",
            "         0.0       0.89      1.00      0.94      2305\n",
            "         1.0       0.00      0.00      0.00       289\n",
            "\n",
            "    accuracy                           0.89      2594\n",
            "   macro avg       0.44      0.50      0.47      2594\n",
            "weighted avg       0.79      0.89      0.84      2594\n",
            "\n",
            "Accuracy : 0.888589\n",
            "Area under the curve : 0.500000\n",
            "Precision value of the model:  nan\n",
            "Accuracy of the model:  0.8885890516576715\n",
            "Recall of the model:  0.0\n",
            "Specificity of the model:  1.0\n",
            "F1 Score of the model:  nan\n",
            "\n",
            "\n",
            "\n",
            "\n"
          ]
        },
        {
          "output_type": "stream",
          "name": "stderr",
          "text": [
            "/usr/local/lib/python3.7/dist-packages/sklearn/metrics/_classification.py:1318: UndefinedMetricWarning: Precision and F-score are ill-defined and being set to 0.0 in labels with no predicted samples. Use `zero_division` parameter to control this behavior.\n",
            "  _warn_prf(average, modifier, msg_start, len(result))\n",
            "/usr/local/lib/python3.7/dist-packages/sklearn/metrics/_classification.py:1318: UndefinedMetricWarning: Precision and F-score are ill-defined and being set to 0.0 in labels with no predicted samples. Use `zero_division` parameter to control this behavior.\n",
            "  _warn_prf(average, modifier, msg_start, len(result))\n",
            "/usr/local/lib/python3.7/dist-packages/sklearn/metrics/_classification.py:1318: UndefinedMetricWarning: Precision and F-score are ill-defined and being set to 0.0 in labels with no predicted samples. Use `zero_division` parameter to control this behavior.\n",
            "  _warn_prf(average, modifier, msg_start, len(result))\n",
            "/usr/local/lib/python3.7/dist-packages/ipykernel_launcher.py:3: RuntimeWarning: invalid value encountered in long_scalars\n",
            "  This is separate from the ipykernel package so we can avoid doing imports until\n"
          ]
        }
      ]
    },
    {
      "cell_type": "code",
      "source": [
        "y = dd_55_ces[\"Delirium\"].values\n",
        "X=dd_55_ces.drop([\"Delirium\"], axis=1)\n",
        "xtrain, xtest, ytrain, ytest = train_test_split(X, y, test_size=0.30, random_state=0)\n",
        "clf = SVC(kernel='linear')\n",
        "clf.fit(xtrain, ytrain)\n",
        "svcprd = clf.predict(xtest)\n",
        "\n",
        "print('confusion matrix')\n",
        "CM=metrics.confusion_matrix(ytest, svcprd)\n",
        "print(CM)\n",
        "print('classification report')\n",
        "print(metrics.classification_report(ytest, svcprd))\n",
        "print('Accuracy : %f' % (metrics.accuracy_score(ytest, svcprd)))\n",
        "auc=metrics.roc_auc_score(ytest, svcprd)\n",
        "print('Area under the curve : %f' % (auc))\n",
        "\n",
        "svm1=err_metric(CM)\n",
        "svm1.append(auc)\n",
        "svm.append(svm1)\n",
        "print('\\n')\n",
        "print('\\n')"
      ],
      "metadata": {
        "colab": {
          "base_uri": "https://localhost:8080/"
        },
        "id": "Wsdz_XvNCG5n",
        "outputId": "6e64831d-d3cd-4675-d238-0f79568b39b1"
      },
      "execution_count": null,
      "outputs": [
        {
          "output_type": "stream",
          "name": "stdout",
          "text": [
            "confusion matrix\n",
            "[[2303    0]\n",
            " [ 291    0]]\n",
            "classification report\n",
            "              precision    recall  f1-score   support\n",
            "\n",
            "         0.0       0.89      1.00      0.94      2303\n",
            "         1.0       0.00      0.00      0.00       291\n",
            "\n",
            "    accuracy                           0.89      2594\n",
            "   macro avg       0.44      0.50      0.47      2594\n",
            "weighted avg       0.79      0.89      0.84      2594\n",
            "\n",
            "Accuracy : 0.887818\n",
            "Area under the curve : 0.500000\n",
            "Precision value of the model:  nan\n",
            "Accuracy of the model:  0.8878180416345413\n",
            "Recall of the model:  0.0\n",
            "Specificity of the model:  1.0\n",
            "F1 Score of the model:  nan\n",
            "\n",
            "\n",
            "\n",
            "\n"
          ]
        },
        {
          "output_type": "stream",
          "name": "stderr",
          "text": [
            "/usr/local/lib/python3.7/dist-packages/sklearn/metrics/_classification.py:1318: UndefinedMetricWarning: Precision and F-score are ill-defined and being set to 0.0 in labels with no predicted samples. Use `zero_division` parameter to control this behavior.\n",
            "  _warn_prf(average, modifier, msg_start, len(result))\n",
            "/usr/local/lib/python3.7/dist-packages/sklearn/metrics/_classification.py:1318: UndefinedMetricWarning: Precision and F-score are ill-defined and being set to 0.0 in labels with no predicted samples. Use `zero_division` parameter to control this behavior.\n",
            "  _warn_prf(average, modifier, msg_start, len(result))\n",
            "/usr/local/lib/python3.7/dist-packages/sklearn/metrics/_classification.py:1318: UndefinedMetricWarning: Precision and F-score are ill-defined and being set to 0.0 in labels with no predicted samples. Use `zero_division` parameter to control this behavior.\n",
            "  _warn_prf(average, modifier, msg_start, len(result))\n",
            "/usr/local/lib/python3.7/dist-packages/ipykernel_launcher.py:3: RuntimeWarning: invalid value encountered in long_scalars\n",
            "  This is separate from the ipykernel package so we can avoid doing imports until\n"
          ]
        }
      ]
    },
    {
      "cell_type": "code",
      "source": [
        "y = dd_95_ces[\"Delirium\"].values\n",
        "X=dd_95_ces.drop([\"Delirium\"], axis=1)\n",
        "xtrain, xtest, ytrain, ytest = train_test_split(X, y, test_size=0.30, random_state=0)\n",
        "clf = SVC(kernel='linear')\n",
        "clf.fit(xtrain, ytrain)\n",
        "svcprd = clf.predict(xtest)\n",
        "\n",
        "print('confusion matrix')\n",
        "CM=metrics.confusion_matrix(ytest, svcprd)\n",
        "print(CM)\n",
        "print('classification report')\n",
        "print(metrics.classification_report(ytest, svcprd))\n",
        "print('Accuracy : %f' % (metrics.accuracy_score(ytest, svcprd)))\n",
        "auc=metrics.roc_auc_score(ytest, svcprd)\n",
        "print('Area under the curve : %f' % (auc))\n",
        "\n",
        "svm1=err_metric(CM)\n",
        "svm1.append(auc)\n",
        "svm.append(svm1)\n",
        "print('\\n')\n",
        "print('\\n')"
      ],
      "metadata": {
        "colab": {
          "base_uri": "https://localhost:8080/"
        },
        "id": "dhWEpk0_CIpB",
        "outputId": "f47719d1-3077-44df-b169-a1b05b5e8087"
      },
      "execution_count": null,
      "outputs": [
        {
          "output_type": "stream",
          "name": "stdout",
          "text": [
            "confusion matrix\n",
            "[[2295    0]\n",
            " [ 299    0]]\n",
            "classification report\n",
            "              precision    recall  f1-score   support\n",
            "\n",
            "         0.0       0.88      1.00      0.94      2295\n",
            "         1.0       0.00      0.00      0.00       299\n",
            "\n",
            "    accuracy                           0.88      2594\n",
            "   macro avg       0.44      0.50      0.47      2594\n",
            "weighted avg       0.78      0.88      0.83      2594\n",
            "\n",
            "Accuracy : 0.884734\n",
            "Area under the curve : 0.500000\n",
            "Precision value of the model:  nan\n",
            "Accuracy of the model:  0.8847340015420201\n",
            "Recall of the model:  0.0\n",
            "Specificity of the model:  1.0\n",
            "F1 Score of the model:  nan\n",
            "\n",
            "\n",
            "\n",
            "\n"
          ]
        },
        {
          "output_type": "stream",
          "name": "stderr",
          "text": [
            "/usr/local/lib/python3.7/dist-packages/sklearn/metrics/_classification.py:1318: UndefinedMetricWarning: Precision and F-score are ill-defined and being set to 0.0 in labels with no predicted samples. Use `zero_division` parameter to control this behavior.\n",
            "  _warn_prf(average, modifier, msg_start, len(result))\n",
            "/usr/local/lib/python3.7/dist-packages/sklearn/metrics/_classification.py:1318: UndefinedMetricWarning: Precision and F-score are ill-defined and being set to 0.0 in labels with no predicted samples. Use `zero_division` parameter to control this behavior.\n",
            "  _warn_prf(average, modifier, msg_start, len(result))\n",
            "/usr/local/lib/python3.7/dist-packages/sklearn/metrics/_classification.py:1318: UndefinedMetricWarning: Precision and F-score are ill-defined and being set to 0.0 in labels with no predicted samples. Use `zero_division` parameter to control this behavior.\n",
            "  _warn_prf(average, modifier, msg_start, len(result))\n",
            "/usr/local/lib/python3.7/dist-packages/ipykernel_launcher.py:3: RuntimeWarning: invalid value encountered in long_scalars\n",
            "  This is separate from the ipykernel package so we can avoid doing imports until\n"
          ]
        }
      ]
    },
    {
      "cell_type": "code",
      "source": [
        "y = dd_30_ohees[\"Delirium\"].values\n",
        "X=dd_30_ohees.drop([\"Delirium\"], axis=1)\n",
        "xtrain, xtest, ytrain, ytest = train_test_split(X, y, test_size=0.30, random_state=0)\n",
        "clf = SVC(kernel='linear')\n",
        "clf.fit(xtrain, ytrain)\n",
        "svcprd = clf.predict(xtest)\n",
        "\n",
        "print('confusion matrix')\n",
        "CM=metrics.confusion_matrix(ytest, svcprd)\n",
        "print(CM)\n",
        "print('classification report')\n",
        "print(metrics.classification_report(ytest, svcprd))\n",
        "print('Accuracy : %f' % (metrics.accuracy_score(ytest, svcprd)))\n",
        "auc=metrics.roc_auc_score(ytest, svcprd)\n",
        "print('Area under the curve : %f' % (auc))\n",
        "\n",
        "svm1=err_metric(CM)\n",
        "svm1.append(auc)\n",
        "svm.append(svm1)\n",
        "print('\\n')\n",
        "print('\\n')"
      ],
      "metadata": {
        "colab": {
          "base_uri": "https://localhost:8080/"
        },
        "id": "Ln8lDfKUCLfy",
        "outputId": "98b7d432-5a71-4213-f956-ef133f8be066"
      },
      "execution_count": null,
      "outputs": [
        {
          "output_type": "stream",
          "name": "stdout",
          "text": [
            "confusion matrix\n",
            "[[2305    0]\n",
            " [ 285    4]]\n",
            "classification report\n",
            "              precision    recall  f1-score   support\n",
            "\n",
            "         0.0       0.89      1.00      0.94      2305\n",
            "         1.0       1.00      0.01      0.03       289\n",
            "\n",
            "    accuracy                           0.89      2594\n",
            "   macro avg       0.94      0.51      0.48      2594\n",
            "weighted avg       0.90      0.89      0.84      2594\n",
            "\n",
            "Accuracy : 0.890131\n",
            "Area under the curve : 0.506920\n",
            "Precision value of the model:  1.0\n",
            "Accuracy of the model:  0.8901310717039321\n",
            "Recall of the model:  0.01384083044982699\n",
            "Specificity of the model:  1.0\n",
            "F1 Score of the model:  0.027303754266211604\n",
            "\n",
            "\n",
            "\n",
            "\n"
          ]
        }
      ]
    },
    {
      "cell_type": "code",
      "source": [
        "y = dd_55_ohees[\"Delirium\"].values\n",
        "X=dd_55_ohees.drop([\"Delirium\"], axis=1)\n",
        "xtrain, xtest, ytrain, ytest = train_test_split(X, y, test_size=0.30, random_state=0)\n",
        "clf = SVC(kernel='linear')\n",
        "clf.fit(xtrain, ytrain)\n",
        "svcprd = clf.predict(xtest)\n",
        "\n",
        "print('confusion matrix')\n",
        "CM=metrics.confusion_matrix(ytest, svcprd)\n",
        "print(CM)\n",
        "print('classification report')\n",
        "print(metrics.classification_report(ytest, svcprd))\n",
        "print('Accuracy : %f' % (metrics.accuracy_score(ytest, svcprd)))\n",
        "auc=metrics.roc_auc_score(ytest, svcprd)\n",
        "print('Area under the curve : %f' % (auc))\n",
        "\n",
        "svm1=err_metric(CM)\n",
        "svm1.append(auc)\n",
        "svm.append(svm1)\n",
        "print('\\n')\n",
        "print('\\n')"
      ],
      "metadata": {
        "id": "pjr0BrrbCN3n",
        "colab": {
          "base_uri": "https://localhost:8080/"
        },
        "outputId": "092227e2-cf1b-4c32-8b8d-538b41b58e88"
      },
      "execution_count": null,
      "outputs": [
        {
          "output_type": "stream",
          "name": "stdout",
          "text": [
            "confusion matrix\n",
            "[[2301    2]\n",
            " [ 288    3]]\n",
            "classification report\n",
            "              precision    recall  f1-score   support\n",
            "\n",
            "         0.0       0.89      1.00      0.94      2303\n",
            "         1.0       0.60      0.01      0.02       291\n",
            "\n",
            "    accuracy                           0.89      2594\n",
            "   macro avg       0.74      0.50      0.48      2594\n",
            "weighted avg       0.86      0.89      0.84      2594\n",
            "\n",
            "Accuracy : 0.888204\n",
            "Area under the curve : 0.504720\n",
            "Precision value of the model:  0.6\n",
            "Accuracy of the model:  0.8882035466461063\n",
            "Recall of the model:  0.010309278350515464\n",
            "Specificity of the model:  0.9991315675206253\n",
            "F1 Score of the model:  0.02027027027027027\n",
            "\n",
            "\n",
            "\n",
            "\n"
          ]
        }
      ]
    },
    {
      "cell_type": "code",
      "source": [
        "y = dd_95_ohees[\"Delirium\"].values\n",
        "X=dd_95_ohees.drop([\"Delirium\"], axis=1)\n",
        "xtrain, xtest, ytrain, ytest = train_test_split(X, y, test_size=0.30, random_state=0)\n",
        "clf = SVC(kernel='linear')\n",
        "clf.fit(xtrain, ytrain)\n",
        "svcprd = clf.predict(xtest)\n",
        "\n",
        "print('confusion matrix')\n",
        "CM=metrics.confusion_matrix(ytest, svcprd)\n",
        "print(CM)\n",
        "print('classification report')\n",
        "print(metrics.classification_report(ytest, svcprd))\n",
        "print('Accuracy : %f' % (metrics.accuracy_score(ytest, svcprd)))\n",
        "auc=metrics.roc_auc_score(ytest, svcprd)\n",
        "print('Area under the curve : %f' % (auc))\n",
        "\n",
        "svm1=err_metric(CM)\n",
        "svm1.append(auc)\n",
        "svm.append(svm1)\n",
        "print('\\n')\n",
        "print('\\n')"
      ],
      "metadata": {
        "id": "Dhe-BkhpCQT0",
        "colab": {
          "base_uri": "https://localhost:8080/"
        },
        "outputId": "767e463f-2fbc-4bf0-b6dd-466a06b501c7"
      },
      "execution_count": null,
      "outputs": [
        {
          "output_type": "stream",
          "name": "stdout",
          "text": [
            "confusion matrix\n",
            "[[2291    4]\n",
            " [ 294    5]]\n",
            "classification report\n",
            "              precision    recall  f1-score   support\n",
            "\n",
            "         0.0       0.89      1.00      0.94      2295\n",
            "         1.0       0.56      0.02      0.03       299\n",
            "\n",
            "    accuracy                           0.89      2594\n",
            "   macro avg       0.72      0.51      0.49      2594\n",
            "weighted avg       0.85      0.89      0.83      2594\n",
            "\n",
            "Accuracy : 0.885120\n",
            "Area under the curve : 0.507490\n",
            "Precision value of the model:  0.5555555555555556\n",
            "Accuracy of the model:  0.8851195065535852\n",
            "Recall of the model:  0.016722408026755852\n",
            "Specificity of the model:  0.9982570806100218\n",
            "F1 Score of the model:  0.03246753246753247\n",
            "\n",
            "\n",
            "\n",
            "\n"
          ]
        }
      ]
    },
    {
      "cell_type": "code",
      "source": [
        "svm"
      ],
      "metadata": {
        "colab": {
          "base_uri": "https://localhost:8080/"
        },
        "id": "ntK_6-dobwYe",
        "outputId": "5c0d429d-3393-4a6e-a1e6-69e3898a4f54"
      },
      "execution_count": null,
      "outputs": [
        {
          "output_type": "execute_result",
          "data": {
            "text/plain": [
              "[[0.8885890516576715, nan, 0.5],\n",
              " [0.8878180416345413, nan, 0.5],\n",
              " [0.8847340015420201, nan, 0.5],\n",
              " [0.8901310717039321, 0.027303754266211604, 0.5069204152249135],\n",
              " [0.8882035466461063, 0.02027027027027027, 0.5047204229355704],\n",
              " [0.8851195065535852, 0.03246753246753247, 0.5074897443183889]]"
            ]
          },
          "metadata": {},
          "execution_count": 65
        }
      ]
    },
    {
      "cell_type": "code",
      "source": [
        "svm2=[]"
      ],
      "metadata": {
        "id": "Rxl01enocKnu"
      },
      "execution_count": null,
      "outputs": []
    },
    {
      "cell_type": "code",
      "source": [
        "ovs='MCT'\n",
        "y = dd_30_ces[\"Delirium\"].values\n",
        "X=dd_30_ces.drop([\"Delirium\"], axis=1)\n",
        "oversampler= sv.MulticlassOversampling(oversampler=ovs,\n",
        "                                        oversampler_params={'random_state': 5})\n",
        "X_samp, y_samp= oversampler.sample(X, y)\n",
        "xtrain, xtest, ytrain, ytest = train_test_split(X_samp, y_samp, test_size=0.30, random_state=0)\n",
        "\n",
        "clf = SVC(kernel='linear')\n",
        "clf.fit(xtrain, ytrain)\n",
        "svcprd = clf.predict(xtest)\n",
        "\n",
        "print('confusion matrix')\n",
        "CM=metrics.confusion_matrix(ytest, svcprd)\n",
        "print(CM)\n",
        "print('classification report')\n",
        "print(metrics.classification_report(ytest, svcprd))\n",
        "print('Accuracy : %f' % (metrics.accuracy_score(ytest, svcprd)))\n",
        "auc=metrics.roc_auc_score(ytest, svcprd)\n",
        "print('Area under the curve : %f' % (auc))\n",
        "\n",
        "svm1=err_metric(CM)\n",
        "svm1.append(auc)\n",
        "svm2.append(svm1)\n",
        "print('\\n')\n",
        "print('\\n')"
      ],
      "metadata": {
        "id": "soawLseVLDIi",
        "colab": {
          "base_uri": "https://localhost:8080/"
        },
        "outputId": "2b023cf9-59ed-4813-dcc7-b67fa58809fc"
      },
      "execution_count": null,
      "outputs": [
        {
          "output_type": "stream",
          "name": "stderr",
          "text": [
            "2022-08-24 10:41:54,969:INFO:MulticlassOversampling: Running multiclass oversampling with strategy eq_1_vs_many_successive\n",
            "INFO:smote_variants:MulticlassOversampling: Running multiclass oversampling with strategy eq_1_vs_many_successive\n",
            "2022-08-24 10:41:54,975:INFO:MulticlassOversampling: Sampling minority class with label: 1.0\n",
            "INFO:smote_variants:MulticlassOversampling: Sampling minority class with label: 1.0\n",
            "2022-08-24 10:41:54,982:INFO:MCT: Running sampling via ('MCT', \"{'proportion': 1.0, 'n_neighbors': 5, 'nn_params': {}, 'n_jobs': 1, 'ss_params': {'n_dim': 1, 'simplex_sampling': 'random', 'within_simplex_sampling': 'random', 'gaussian_component': {}}, 'random_state': 5, 'class_name': 'MCT'}\")\n",
            "INFO:smote_variants:MCT: Running sampling via ('MCT', \"{'proportion': 1.0, 'n_neighbors': 5, 'nn_params': {}, 'n_jobs': 1, 'ss_params': {'n_dim': 1, 'simplex_sampling': 'random', 'within_simplex_sampling': 'random', 'gaussian_component': {}}, 'random_state': 5, 'class_name': 'MCT'}\")\n",
            "2022-08-24 10:41:54,987:INFO:NearestNeighborsWithMetricTensor: NN fitting with metric minkowski\n",
            "INFO:smote_variants:NearestNeighborsWithMetricTensor: NN fitting with metric minkowski\n",
            "2022-08-24 10:41:54,993:INFO:NearestNeighborsWithMetricTensor: kneighbors query minkowski\n",
            "INFO:smote_variants:NearestNeighborsWithMetricTensor: kneighbors query minkowski\n",
            "2022-08-24 10:41:55,042:INFO:MCT: simplex sampling with n_dim 1\n",
            "INFO:smote_variants:MCT: simplex sampling with n_dim 1\n"
          ]
        },
        {
          "output_type": "stream",
          "name": "stdout",
          "text": [
            "confusion matrix\n",
            "[[1657  627]\n",
            " [1088 1252]]\n",
            "classification report\n",
            "              precision    recall  f1-score   support\n",
            "\n",
            "         0.0       0.60      0.73      0.66      2284\n",
            "         1.0       0.67      0.54      0.59      2340\n",
            "\n",
            "    accuracy                           0.63      4624\n",
            "   macro avg       0.63      0.63      0.63      4624\n",
            "weighted avg       0.64      0.63      0.63      4624\n",
            "\n",
            "Accuracy : 0.629109\n",
            "Area under the curve : 0.630262\n",
            "Precision value of the model:  0.6663118680149015\n",
            "Accuracy of the model:  0.6291089965397924\n",
            "Recall of the model:  0.535042735042735\n",
            "Specificity of the model:  0.7254816112084063\n",
            "F1 Score of the model:  0.5935055700402939\n",
            "\n",
            "\n",
            "\n",
            "\n"
          ]
        }
      ]
    },
    {
      "cell_type": "code",
      "source": [
        "ovs='MCT'\n",
        "y = dd_30_ohees[\"Delirium\"].values\n",
        "X=dd_30_ohees.drop([\"Delirium\"], axis=1)\n",
        "oversampler= sv.MulticlassOversampling(oversampler=ovs,\n",
        "                                        oversampler_params={'random_state': 5})\n",
        "X_samp, y_samp= oversampler.sample(X, y)\n",
        "xtrain, xtest, ytrain, ytest = train_test_split(X_samp, y_samp, test_size=0.30, random_state=0)\n",
        "\n",
        "clf = SVC(kernel='linear')\n",
        "clf.fit(xtrain, ytrain)\n",
        "svcprd = clf.predict(xtest)\n",
        "\n",
        "print('confusion matrix')\n",
        "CM=metrics.confusion_matrix(ytest, svcprd)\n",
        "print(CM)\n",
        "print('classification report')\n",
        "print(metrics.classification_report(ytest, svcprd))\n",
        "print('Accuracy : %f' % (metrics.accuracy_score(ytest, svcprd)))\n",
        "auc=metrics.roc_auc_score(ytest, svcprd)\n",
        "print('Area under the curve : %f' % (auc))\n",
        "\n",
        "svm1=err_metric(CM)\n",
        "svm1.append(auc)\n",
        "svm2.append(svm1)\n",
        "print('\\n')\n",
        "print('\\n')"
      ],
      "metadata": {
        "id": "RMilB_fsK8E2",
        "colab": {
          "base_uri": "https://localhost:8080/"
        },
        "outputId": "9961088a-a1fe-4af8-a4ae-2cfa4567ebf9"
      },
      "execution_count": null,
      "outputs": [
        {
          "output_type": "stream",
          "name": "stderr",
          "text": [
            "2022-08-24 10:42:10,154:INFO:MulticlassOversampling: Running multiclass oversampling with strategy eq_1_vs_many_successive\n",
            "INFO:smote_variants:MulticlassOversampling: Running multiclass oversampling with strategy eq_1_vs_many_successive\n",
            "2022-08-24 10:42:10,175:INFO:MulticlassOversampling: Sampling minority class with label: 1.0\n",
            "INFO:smote_variants:MulticlassOversampling: Sampling minority class with label: 1.0\n",
            "2022-08-24 10:42:10,219:INFO:MCT: Running sampling via ('MCT', \"{'proportion': 1.0, 'n_neighbors': 5, 'nn_params': {}, 'n_jobs': 1, 'ss_params': {'n_dim': 1, 'simplex_sampling': 'random', 'within_simplex_sampling': 'random', 'gaussian_component': {}}, 'random_state': 5, 'class_name': 'MCT'}\")\n",
            "INFO:smote_variants:MCT: Running sampling via ('MCT', \"{'proportion': 1.0, 'n_neighbors': 5, 'nn_params': {}, 'n_jobs': 1, 'ss_params': {'n_dim': 1, 'simplex_sampling': 'random', 'within_simplex_sampling': 'random', 'gaussian_component': {}}, 'random_state': 5, 'class_name': 'MCT'}\")\n",
            "2022-08-24 10:42:10,227:INFO:NearestNeighborsWithMetricTensor: NN fitting with metric minkowski\n",
            "INFO:smote_variants:NearestNeighborsWithMetricTensor: NN fitting with metric minkowski\n",
            "2022-08-24 10:42:10,232:INFO:NearestNeighborsWithMetricTensor: kneighbors query minkowski\n",
            "INFO:smote_variants:NearestNeighborsWithMetricTensor: kneighbors query minkowski\n",
            "2022-08-24 10:42:10,280:INFO:MCT: simplex sampling with n_dim 1\n",
            "INFO:smote_variants:MCT: simplex sampling with n_dim 1\n"
          ]
        },
        {
          "output_type": "stream",
          "name": "stdout",
          "text": [
            "confusion matrix\n",
            "[[1413  871]\n",
            " [ 810 1530]]\n",
            "classification report\n",
            "              precision    recall  f1-score   support\n",
            "\n",
            "         0.0       0.64      0.62      0.63      2284\n",
            "         1.0       0.64      0.65      0.65      2340\n",
            "\n",
            "    accuracy                           0.64      4624\n",
            "   macro avg       0.64      0.64      0.64      4624\n",
            "weighted avg       0.64      0.64      0.64      4624\n",
            "\n",
            "Accuracy : 0.636462\n",
            "Area under the curve : 0.636249\n",
            "Precision value of the model:  0.6372344856309871\n",
            "Accuracy of the model:  0.636461937716263\n",
            "Recall of the model:  0.6538461538461539\n",
            "Specificity of the model:  0.6186514886164624\n",
            "F1 Score of the model:  0.6454334528580468\n",
            "\n",
            "\n",
            "\n",
            "\n"
          ]
        }
      ]
    },
    {
      "cell_type": "code",
      "source": [
        "ovs='MCT'\n",
        "y = dd_95_ohees[\"Delirium\"].values\n",
        "X=dd_95_ohees.drop([\"Delirium\"], axis=1)\n",
        "oversampler= sv.MulticlassOversampling(oversampler=ovs,\n",
        "                                        oversampler_params={'random_state': 5})\n",
        "X_samp, y_samp= oversampler.sample(X, y)\n",
        "xtrain, xtest, ytrain, ytest = train_test_split(X_samp, y_samp, test_size=0.30, random_state=0)\n",
        "\n",
        "clf = SVC(kernel='linear')\n",
        "clf.fit(xtrain, ytrain)\n",
        "svcprd = clf.predict(xtest)\n",
        "\n",
        "print('confusion matrix')\n",
        "CM=metrics.confusion_matrix(ytest, svcprd)\n",
        "print(CM)\n",
        "print('classification report')\n",
        "print(metrics.classification_report(ytest, svcprd))\n",
        "print('Accuracy : %f' % (metrics.accuracy_score(ytest, svcprd)))\n",
        "auc=metrics.roc_auc_score(ytest, svcprd)\n",
        "print('Area under the curve : %f' % (auc))\n",
        "\n",
        "svm1=err_metric(CM)\n",
        "svm1.append(auc)\n",
        "svm2.append(svm1)\n",
        "print('\\n')\n",
        "print('\\n')"
      ],
      "metadata": {
        "colab": {
          "base_uri": "https://localhost:8080/"
        },
        "id": "mgI7aFx1cUX7",
        "outputId": "ee6a3d63-7e40-47ad-d55c-6d93887b511f"
      },
      "execution_count": null,
      "outputs": [
        {
          "output_type": "stream",
          "name": "stderr",
          "text": [
            "2022-08-24 10:42:26,159:INFO:MulticlassOversampling: Running multiclass oversampling with strategy eq_1_vs_many_successive\n",
            "INFO:smote_variants:MulticlassOversampling: Running multiclass oversampling with strategy eq_1_vs_many_successive\n",
            "2022-08-24 10:42:26,176:INFO:MulticlassOversampling: Sampling minority class with label: 1.0\n",
            "INFO:smote_variants:MulticlassOversampling: Sampling minority class with label: 1.0\n",
            "2022-08-24 10:42:26,197:INFO:MCT: Running sampling via ('MCT', \"{'proportion': 1.0, 'n_neighbors': 5, 'nn_params': {}, 'n_jobs': 1, 'ss_params': {'n_dim': 1, 'simplex_sampling': 'random', 'within_simplex_sampling': 'random', 'gaussian_component': {}}, 'random_state': 5, 'class_name': 'MCT'}\")\n",
            "INFO:smote_variants:MCT: Running sampling via ('MCT', \"{'proportion': 1.0, 'n_neighbors': 5, 'nn_params': {}, 'n_jobs': 1, 'ss_params': {'n_dim': 1, 'simplex_sampling': 'random', 'within_simplex_sampling': 'random', 'gaussian_component': {}}, 'random_state': 5, 'class_name': 'MCT'}\")\n",
            "2022-08-24 10:42:26,205:INFO:NearestNeighborsWithMetricTensor: NN fitting with metric minkowski\n",
            "INFO:smote_variants:NearestNeighborsWithMetricTensor: NN fitting with metric minkowski\n",
            "2022-08-24 10:42:26,208:INFO:NearestNeighborsWithMetricTensor: kneighbors query minkowski\n",
            "INFO:smote_variants:NearestNeighborsWithMetricTensor: kneighbors query minkowski\n",
            "2022-08-24 10:42:26,262:INFO:MCT: simplex sampling with n_dim 1\n",
            "INFO:smote_variants:MCT: simplex sampling with n_dim 1\n"
          ]
        },
        {
          "output_type": "stream",
          "name": "stdout",
          "text": [
            "confusion matrix\n",
            "[[1437  843]\n",
            " [ 702 1642]]\n",
            "classification report\n",
            "              precision    recall  f1-score   support\n",
            "\n",
            "         0.0       0.67      0.63      0.65      2280\n",
            "         1.0       0.66      0.70      0.68      2344\n",
            "\n",
            "    accuracy                           0.67      4624\n",
            "   macro avg       0.67      0.67      0.67      4624\n",
            "weighted avg       0.67      0.67      0.67      4624\n",
            "\n",
            "Accuracy : 0.665874\n",
            "Area under the curve : 0.665388\n",
            "Precision value of the model:  0.6607645875251509\n",
            "Accuracy of the model:  0.6658737024221453\n",
            "Recall of the model:  0.7005119453924915\n",
            "Specificity of the model:  0.6302631578947369\n",
            "F1 Score of the model:  0.6800579830192587\n",
            "\n",
            "\n",
            "\n",
            "\n"
          ]
        }
      ]
    },
    {
      "cell_type": "code",
      "source": [
        "ovs='MCT'\n",
        "y = dd_95_ces[\"Delirium\"].values\n",
        "X=dd_95_ces.drop([\"Delirium\"], axis=1)\n",
        "oversampler= sv.MulticlassOversampling(oversampler=ovs,\n",
        "                                        oversampler_params={'random_state': 5})\n",
        "X_samp, y_samp= oversampler.sample(X, y)\n",
        "xtrain, xtest, ytrain, ytest = train_test_split(X_samp, y_samp, test_size=0.30, random_state=0)\n",
        "\n",
        "clf = SVC(kernel='linear')\n",
        "clf.fit(xtrain, ytrain)\n",
        "svcprd = clf.predict(xtest)\n",
        "\n",
        "print('confusion matrix')\n",
        "CM=metrics.confusion_matrix(ytest, svcprd)\n",
        "print(CM)\n",
        "print('classification report')\n",
        "print(metrics.classification_report(ytest, svcprd))\n",
        "print('Accuracy : %f' % (metrics.accuracy_score(ytest, svcprd)))\n",
        "auc=metrics.roc_auc_score(ytest, svcprd)\n",
        "print('Area under the curve : %f' % (auc))\n",
        "\n",
        "svm1=err_metric(CM)\n",
        "svm1.append(auc)\n",
        "svm2.append(svm1)\n",
        "print('\\n')\n",
        "print('\\n')"
      ],
      "metadata": {
        "colab": {
          "base_uri": "https://localhost:8080/"
        },
        "id": "R0BIDFhwcdXH",
        "outputId": "1342130d-7341-4d7c-a44b-fa3b097816ec"
      },
      "execution_count": null,
      "outputs": [
        {
          "output_type": "stream",
          "name": "stderr",
          "text": [
            "2022-08-24 10:42:41,384:INFO:MulticlassOversampling: Running multiclass oversampling with strategy eq_1_vs_many_successive\n",
            "INFO:smote_variants:MulticlassOversampling: Running multiclass oversampling with strategy eq_1_vs_many_successive\n",
            "2022-08-24 10:42:41,392:INFO:MulticlassOversampling: Sampling minority class with label: 1.0\n",
            "INFO:smote_variants:MulticlassOversampling: Sampling minority class with label: 1.0\n",
            "2022-08-24 10:42:41,402:INFO:MCT: Running sampling via ('MCT', \"{'proportion': 1.0, 'n_neighbors': 5, 'nn_params': {}, 'n_jobs': 1, 'ss_params': {'n_dim': 1, 'simplex_sampling': 'random', 'within_simplex_sampling': 'random', 'gaussian_component': {}}, 'random_state': 5, 'class_name': 'MCT'}\")\n",
            "INFO:smote_variants:MCT: Running sampling via ('MCT', \"{'proportion': 1.0, 'n_neighbors': 5, 'nn_params': {}, 'n_jobs': 1, 'ss_params': {'n_dim': 1, 'simplex_sampling': 'random', 'within_simplex_sampling': 'random', 'gaussian_component': {}}, 'random_state': 5, 'class_name': 'MCT'}\")\n",
            "2022-08-24 10:42:41,408:INFO:NearestNeighborsWithMetricTensor: NN fitting with metric minkowski\n",
            "INFO:smote_variants:NearestNeighborsWithMetricTensor: NN fitting with metric minkowski\n",
            "2022-08-24 10:42:41,411:INFO:NearestNeighborsWithMetricTensor: kneighbors query minkowski\n",
            "INFO:smote_variants:NearestNeighborsWithMetricTensor: kneighbors query minkowski\n",
            "2022-08-24 10:42:41,461:INFO:MCT: simplex sampling with n_dim 1\n",
            "INFO:smote_variants:MCT: simplex sampling with n_dim 1\n"
          ]
        },
        {
          "output_type": "stream",
          "name": "stdout",
          "text": [
            "confusion matrix\n",
            "[[1282  998]\n",
            " [ 720 1624]]\n",
            "classification report\n",
            "              precision    recall  f1-score   support\n",
            "\n",
            "         0.0       0.64      0.56      0.60      2280\n",
            "         1.0       0.62      0.69      0.65      2344\n",
            "\n",
            "    accuracy                           0.63      4624\n",
            "   macro avg       0.63      0.63      0.63      4624\n",
            "weighted avg       0.63      0.63      0.63      4624\n",
            "\n",
            "Accuracy : 0.628460\n",
            "Area under the curve : 0.627557\n",
            "Precision value of the model:  0.6193745232646835\n",
            "Accuracy of the model:  0.6284602076124568\n",
            "Recall of the model:  0.6928327645051194\n",
            "Specificity of the model:  0.5622807017543859\n",
            "F1 Score of the model:  0.6540475231574707\n",
            "\n",
            "\n",
            "\n",
            "\n"
          ]
        }
      ]
    },
    {
      "cell_type": "code",
      "source": [
        "svm2"
      ],
      "metadata": {
        "colab": {
          "base_uri": "https://localhost:8080/"
        },
        "id": "7OorJs_GcsFc",
        "outputId": "89f0116a-8e71-4eef-f427-d7cbbf315aad"
      },
      "execution_count": null,
      "outputs": [
        {
          "output_type": "execute_result",
          "data": {
            "text/plain": [
              "[[0.6291089965397924, 0.5935055700402939, 0.6302621731255706],\n",
              " [0.636461937716263, 0.6454334528580468, 0.6362488212313081],\n",
              " [0.6658737024221453, 0.6800579830192587, 0.6653875516436142],\n",
              " [0.6284602076124568, 0.6540475231574707, 0.6275567331297527]]"
            ]
          },
          "metadata": {},
          "execution_count": 72
        }
      ]
    }
  ]
}