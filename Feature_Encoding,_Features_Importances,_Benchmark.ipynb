{
  "nbformat": 4,
  "nbformat_minor": 0,
  "metadata": {
    "colab": {
      "name": "Feature Encoding, Features Importances, Benchmark.ipynb",
      "provenance": []
    },
    "kernelspec": {
      "name": "python3",
      "display_name": "Python 3"
    },
    "language_info": {
      "name": "python"
    }
  },
  "cells": [
    {
      "cell_type": "code",
      "source": [
        "import pandas as pd\n",
        "import numpy as np\n",
        "# import seaborn as sns\n",
        "# import matplotlib.pyplot as plt\n",
        "import os\n",
        "from sklearn.model_selection import train_test_split\n",
        "from sklearn.linear_model import Lasso, LogisticRegression\n",
        "from sklearn.preprocessing import RobustScaler\n",
        "from sklearn.feature_selection import SelectFromModel\n"
      ],
      "metadata": {
        "id": "LwHIAayglMqH"
      },
      "execution_count": 17,
      "outputs": []
    },
    {
      "cell_type": "code",
      "source": [
        "import pandas as pd\n",
        "import numpy as np\n",
        "# import seaborn as sns\n",
        "# import matplotlib.pyplot as plt\n",
        "import os\n",
        "from sklearn.model_selection import train_test_split\n",
        "from sklearn.feature_selection import SelectFromModel\n",
        "from sklearn.ensemble import RandomForestClassifier\n",
        "# plt.style.use('seaborn-colorblind')\n",
        "# %matplotlib inline\n",
        "from sklearn.feature_selection import RFE\n",
        "#from sklearn.feature_selection import hybrid"
      ],
      "metadata": {
        "id": "1t9YEiaeppMv"
      },
      "execution_count": 2,
      "outputs": []
    },
    {
      "cell_type": "code",
      "execution_count": 3,
      "metadata": {
        "id": "sel7Oh68jJxN"
      },
      "outputs": [],
      "source": [
        "import pandas as pd\n",
        "import numpy as np\n",
        "# import seaborn as sns\n",
        "# import matplotlib.pyplot as plt\n",
        "import os\n",
        "from sklearn.model_selection import train_test_split\n",
        "\n",
        "import category_encoders as ce"
      ]
    },
    {
      "cell_type": "code",
      "source": [
        "delirium_dataset=pd.read_csv('/content/delirium_mimic_dataset_missing_imputed.csv')\n",
        "delirium_dataset.drop('Unnamed: 0',axis=1,inplace=True)"
      ],
      "metadata": {
        "id": "WC5jYLzTliqx"
      },
      "execution_count": 62,
      "outputs": []
    },
    {
      "cell_type": "code",
      "source": [
        "delirium_dataset_encoded = pd.get_dummies(delirium_dataset,drop_first=True)"
      ],
      "metadata": {
        "id": "QzRkBleclvI7"
      },
      "execution_count": 4,
      "outputs": []
    },
    {
      "cell_type": "code",
      "source": [
        "delirium_dataset_encoded.columns"
      ],
      "metadata": {
        "colab": {
          "base_uri": "https://localhost:8080/"
        },
        "id": "010j_yu5l0MV",
        "outputId": "ab470f3e-9834-45a8-84b5-e8424bee07a2"
      },
      "execution_count": 6,
      "outputs": [
        {
          "output_type": "execute_result",
          "data": {
            "text/plain": [
              "Index(['AGE', 'ALT', 'ART BP Systolic', 'ART BP mean', 'ART Lumen Volume',\n",
              "       'AST', 'Admission Weight (Kg)', 'Albumin', 'Alkaline Phosphate',\n",
              "       'Ammonia',\n",
              "       ...\n",
              "       'RELIGION_HINDU', 'RELIGION_JEHOVAH'S WITNESS', 'RELIGION_JEWISH',\n",
              "       'RELIGION_MUSLIM', 'RELIGION_NOT SPECIFIED', 'RELIGION_OTHER',\n",
              "       'RELIGION_PROTESTANT QUAKER', 'RELIGION_ROMANIAN EAST. ORTH',\n",
              "       'RELIGION_UNITARIAN-UNIVERSALIST', 'RELIGION_UNOBTAINABLE'],\n",
              "      dtype='object', length=157)"
            ]
          },
          "metadata": {},
          "execution_count": 6
        }
      ]
    },
    {
      "cell_type": "code",
      "source": [
        "delirium_dataset_encoded.shape"
      ],
      "metadata": {
        "colab": {
          "base_uri": "https://localhost:8080/"
        },
        "id": "aoD-n6w-l--E",
        "outputId": "9c0509ca-a80c-4ac4-9e5e-57f6fa2d544a"
      },
      "execution_count": 9,
      "outputs": [
        {
          "output_type": "execute_result",
          "data": {
            "text/plain": [
              "(8646, 157)"
            ]
          },
          "metadata": {},
          "execution_count": 9
        }
      ]
    },
    {
      "cell_type": "code",
      "source": [
        "delirium_dataset_encoded.to_csv(\"delirium_dataset_encoded.csv\")"
      ],
      "metadata": {
        "id": "xBAfEfJSl3MO"
      },
      "execution_count": 8,
      "outputs": []
    },
    {
      "cell_type": "code",
      "source": [
        "delirium_dataset_encoded2=delirium_dataset_encoded.copy()"
      ],
      "metadata": {
        "id": "wN4Nyy85oQ9u"
      },
      "execution_count": 5,
      "outputs": []
    },
    {
      "cell_type": "code",
      "source": [
        "list(delirium_dataset_encoded2)"
      ],
      "metadata": {
        "id": "cWRSIAJTobTh"
      },
      "execution_count": null,
      "outputs": []
    },
    {
      "cell_type": "code",
      "source": [
        "from sklearn.preprocessing import MinMaxScaler\n",
        "mms = MinMaxScaler().fit(delirium_dataset_encoded)\n",
        "X_train_copy = delirium_dataset_encoded.copy(deep=True)\n",
        "X_train_copy = mms.transform(delirium_dataset_encoded2)\n",
        "X_train_copy"
      ],
      "metadata": {
        "colab": {
          "base_uri": "https://localhost:8080/"
        },
        "id": "yOqJek0fnqxw",
        "outputId": "a4bd8e9e-f725-4dcc-f12c-6bdab93d13f4"
      },
      "execution_count": 6,
      "outputs": [
        {
          "output_type": "execute_result",
          "data": {
            "text/plain": [
              "array([[0.39204349, 0.78842347, 0.06863552, ..., 0.        , 0.        ,\n",
              "        0.        ],\n",
              "       [0.40714202, 0.78861565, 0.0701923 , ..., 0.        , 0.        ,\n",
              "        0.        ],\n",
              "       [0.39359442, 0.78858091, 0.06378386, ..., 0.        , 0.        ,\n",
              "        0.        ],\n",
              "       ...,\n",
              "       [0.3639504 , 0.79474853, 0.0683293 , ..., 0.        , 0.        ,\n",
              "        0.        ],\n",
              "       [0.34426382, 0.79243819, 0.06746426, ..., 0.        , 0.        ,\n",
              "        0.        ],\n",
              "       [0.34785279, 0.79418629, 0.07168317, ..., 0.        , 0.        ,\n",
              "        0.        ]])"
            ]
          },
          "metadata": {},
          "execution_count": 6
        }
      ]
    },
    {
      "cell_type": "code",
      "source": [
        "df=pd.DataFrame(X_train_copy, columns =list(delirium_dataset_encoded2))"
      ],
      "metadata": {
        "id": "UfVxg4b1oBwE"
      },
      "execution_count": 7,
      "outputs": []
    },
    {
      "cell_type": "code",
      "source": [
        "df.to_csv(\"delirium_dataset_encoded_and_scaled.csv\")"
      ],
      "metadata": {
        "id": "B6R2zhWvoE9j"
      },
      "execution_count": 22,
      "outputs": []
    },
    {
      "cell_type": "code",
      "source": [
        "X_train, X_test, y_train, y_test = train_test_split(df.drop(labels=['Delirium'], axis=1), \n",
        "                                                    df.Delirium, test_size=0.2,\n",
        "                                                    random_state=0)\n",
        "X_train.shape, X_test.shape"
      ],
      "metadata": {
        "colab": {
          "base_uri": "https://localhost:8080/"
        },
        "id": "saj8M13kpddv",
        "outputId": "e6991ae9-b9e6-4713-b5f7-4d33ad1e5c8c"
      },
      "execution_count": 8,
      "outputs": [
        {
          "output_type": "execute_result",
          "data": {
            "text/plain": [
              "((6916, 156), (1730, 156))"
            ]
          },
          "metadata": {},
          "execution_count": 8
        }
      ]
    },
    {
      "cell_type": "code",
      "source": [
        "#  n_features_to_select decide the stopping criterion\n",
        "# we stop till 10 features remaining\n",
        "\n",
        "sel_ = RFE(RandomForestClassifier(n_estimators=20), n_features_to_select=10)\n",
        "sel_.fit(X_train.fillna(0), y_train)"
      ],
      "metadata": {
        "colab": {
          "base_uri": "https://localhost:8080/"
        },
        "id": "7dSDQ_pLpi4b",
        "outputId": "7047f722-29c6-49ce-b2ca-3b241dd29b21"
      },
      "execution_count": 9,
      "outputs": [
        {
          "output_type": "execute_result",
          "data": {
            "text/plain": [
              "RFE(estimator=RandomForestClassifier(n_estimators=20), n_features_to_select=10)"
            ]
          },
          "metadata": {},
          "execution_count": 9
        }
      ]
    },
    {
      "cell_type": "code",
      "source": [
        "selected_feat = X_train.columns[(sel_.get_support())]\n",
        "print(selected_feat)"
      ],
      "metadata": {
        "colab": {
          "base_uri": "https://localhost:8080/"
        },
        "id": "_4jT0OGnrQ4u",
        "outputId": "301356fb-2cf2-46ef-d741-2341e724bb65"
      },
      "execution_count": 10,
      "outputs": [
        {
          "output_type": "stream",
          "name": "stdout",
          "text": [
            "Index(['AGE', 'ART BP mean', 'AST', 'Arterial Base Excess', 'BUN',\n",
            "       'Differential-Neuts', 'Inspired O2 Fraction', 'LOS',\n",
            "       'Non Invasive Blood Pressure mean', 'Venous CO2 Pressure'],\n",
            "      dtype='object')\n"
          ]
        }
      ]
    },
    {
      "cell_type": "code",
      "source": [
        "scaler = RobustScaler()\n",
        "scaler.fit(X_train)"
      ],
      "metadata": {
        "colab": {
          "base_uri": "https://localhost:8080/"
        },
        "id": "I6UUSxz1tpTk",
        "outputId": "e290ccde-5b20-4df9-d764-e9ba3b623947"
      },
      "execution_count": 18,
      "outputs": [
        {
          "output_type": "execute_result",
          "data": {
            "text/plain": [
              "RobustScaler()"
            ]
          },
          "metadata": {},
          "execution_count": 18
        }
      ]
    },
    {
      "cell_type": "code",
      "source": [
        "sel_ = SelectFromModel(LogisticRegression(C=1, penalty='l2'))\n",
        "sel_.fit(scaler.transform(X_train), y_train)"
      ],
      "metadata": {
        "colab": {
          "base_uri": "https://localhost:8080/"
        },
        "id": "T5juhs8Wtr9S",
        "outputId": "c83021ad-6ac0-4c67-d0d5-a2c006eba73c"
      },
      "execution_count": 20,
      "outputs": [
        {
          "output_type": "stream",
          "name": "stderr",
          "text": [
            "/usr/local/lib/python3.7/dist-packages/sklearn/linear_model/_logistic.py:818: ConvergenceWarning: lbfgs failed to converge (status=1):\n",
            "STOP: TOTAL NO. of ITERATIONS REACHED LIMIT.\n",
            "\n",
            "Increase the number of iterations (max_iter) or scale the data as shown in:\n",
            "    https://scikit-learn.org/stable/modules/preprocessing.html\n",
            "Please also refer to the documentation for alternative solver options:\n",
            "    https://scikit-learn.org/stable/modules/linear_model.html#logistic-regression\n",
            "  extra_warning_msg=_LOGISTIC_SOLVER_CONVERGENCE_MSG,\n"
          ]
        },
        {
          "output_type": "execute_result",
          "data": {
            "text/plain": [
              "SelectFromModel(estimator=LogisticRegression(C=1))"
            ]
          },
          "metadata": {},
          "execution_count": 20
        }
      ]
    },
    {
      "cell_type": "code",
      "source": [
        "# make a list with the selected features\n",
        "selected_feat = X_train.columns[(sel_.get_support())]\n",
        "\n",
        "print('total features: {}'.format((X_train.shape[1])))\n",
        "print('selected features: {}'.format(len(selected_feat)))\n",
        "print('features with coefficients shrank to zero: {}'.format(\n",
        "    np.sum(sel_.estimator_.coef_ == 0)))"
      ],
      "metadata": {
        "colab": {
          "base_uri": "https://localhost:8080/"
        },
        "id": "aNnLx-0EtyTu",
        "outputId": "b1c2c547-6d6e-4389-f1ba-bb8829f80027"
      },
      "execution_count": 21,
      "outputs": [
        {
          "output_type": "stream",
          "name": "stdout",
          "text": [
            "total features: 156\n",
            "selected features: 50\n",
            "features with coefficients shrank to zero: 3\n"
          ]
        }
      ]
    },
    {
      "cell_type": "code",
      "source": [
        "selected_feat"
      ],
      "metadata": {
        "colab": {
          "base_uri": "https://localhost:8080/"
        },
        "id": "AMqc1TmEuOqE",
        "outputId": "54ff27f8-dc13-4668-8f1a-026fc4f2349b"
      },
      "execution_count": 24,
      "outputs": [
        {
          "output_type": "execute_result",
          "data": {
            "text/plain": [
              "Index(['ALT', 'ART BP Systolic', 'Admission Weight (Kg)', 'Albumin',\n",
              "       'Anion gap', 'GENDER', 'HCO3 (serum)', 'Inspired O2 Fraction',\n",
              "       'Lactic Acid', 'Magnesium', 'Total Bilirubin', 'WBC',\n",
              "       'DISCHARGE_LOCATION_DISCH-TRAN TO PSYCH HOSP',\n",
              "       'DISCHARGE_LOCATION_HOME', 'DISCHARGE_LOCATION_HOME HEALTH CARE',\n",
              "       'DISCHARGE_LOCATION_LEFT AGAINST MEDICAL ADVI',\n",
              "       'DISCHARGE_LOCATION_LONG TERM CARE HOSPITAL',\n",
              "       'DISCHARGE_LOCATION_OTHER FACILITY',\n",
              "       'DISCHARGE_LOCATION_REHAB/DISTINCT PART HOSP',\n",
              "       'DISCHARGE_LOCATION_SHORT TERM HOSPITAL', 'DISCHARGE_LOCATION_SNF',\n",
              "       'ETHNICITY_ASIAN', 'ETHNICITY_BLACK', 'ETHNICITY_HISPANIC',\n",
              "       'ETHNICITY_OTHER', 'ETHNICITY_PORTUGUESE',\n",
              "       'ETHNICITY_UNKNOWN/NOT SPECIFIED', 'INSURANCE_Medicaid',\n",
              "       'INSURANCE_Private', 'LANGUAGE_*YID', 'LANGUAGE_CANT', 'LANGUAGE_ENGL',\n",
              "       'LANGUAGE_HAIT', 'LANGUAGE_PERS', 'LANGUAGE_PORT', 'LANGUAGE_PTUN',\n",
              "       'MARITAL_STATUS_MARRIED', 'MARITAL_STATUS_SEPARATED',\n",
              "       'MARITAL_STATUS_SINGLE', 'MARITAL_STATUS_UNKNOWN (DEFAULT)',\n",
              "       'MARITAL_STATUS_WIDOWED', 'RELIGION_BUDDHIST',\n",
              "       'RELIGION_GREEK ORTHODOX', 'RELIGION_JEHOVAH'S WITNESS',\n",
              "       'RELIGION_JEWISH', 'RELIGION_NOT SPECIFIED', 'RELIGION_OTHER',\n",
              "       'RELIGION_PROTESTANT QUAKER', 'RELIGION_ROMANIAN EAST. ORTH',\n",
              "       'RELIGION_UNOBTAINABLE'],\n",
              "      dtype='object')"
            ]
          },
          "metadata": {},
          "execution_count": 24
        }
      ]
    },
    {
      "cell_type": "code",
      "source": [
        "# we can identify the removed features like this:\n",
        "removed_feats = X_train.columns[(sel_.estimator_.coef_ == 0).ravel().tolist()]\n",
        "removed_feats"
      ],
      "metadata": {
        "colab": {
          "base_uri": "https://localhost:8080/"
        },
        "id": "-I0mWlZHt7mc",
        "outputId": "04ba557a-0b25-4aa4-8e9b-d65d7ea84955"
      },
      "execution_count": 22,
      "outputs": [
        {
          "output_type": "execute_result",
          "data": {
            "text/plain": [
              "Index(['LANGUAGE_*BEN', 'LANGUAGE_*FUL', 'LANGUAGE_*TOY'], dtype='object')"
            ]
          },
          "metadata": {},
          "execution_count": 22
        }
      ]
    },
    {
      "cell_type": "code",
      "source": [
        "# remove the features from the training and testing set\n",
        "\n",
        "X_train_selected = sel_.transform(X_train.fillna(0))\n",
        "X_test_selected = sel_.transform(X_test.fillna(0))\n",
        "\n",
        "X_train_selected.shape, X_test_selected.shape"
      ],
      "metadata": {
        "colab": {
          "base_uri": "https://localhost:8080/"
        },
        "id": "ZpbkvWciuCkJ",
        "outputId": "0f6b8d47-87dd-402d-868c-c370a684284f"
      },
      "execution_count": 23,
      "outputs": [
        {
          "output_type": "stream",
          "name": "stderr",
          "text": [
            "/usr/local/lib/python3.7/dist-packages/sklearn/base.py:444: UserWarning: X has feature names, but SelectFromModel was fitted without feature names\n",
            "  f\"X has feature names, but {self.__class__.__name__} was fitted without\"\n",
            "/usr/local/lib/python3.7/dist-packages/sklearn/base.py:444: UserWarning: X has feature names, but SelectFromModel was fitted without feature names\n",
            "  f\"X has feature names, but {self.__class__.__name__} was fitted without\"\n"
          ]
        },
        {
          "output_type": "execute_result",
          "data": {
            "text/plain": [
              "((6916, 50), (1730, 50))"
            ]
          },
          "metadata": {},
          "execution_count": 23
        }
      ]
    },
    {
      "cell_type": "code",
      "source": [
        "from sklearn.datasets import load_breast_cancer\n",
        "from sklearn.model_selection import train_test_split\n",
        "from sklearn.ensemble import RandomForestClassifier\n",
        "from sklearn.feature_selection import SelectFromModel\n",
        "import matplotlib.pyplot as plt"
      ],
      "metadata": {
        "id": "wFrX4Ayxumd_"
      },
      "execution_count": 26,
      "outputs": []
    },
    {
      "cell_type": "code",
      "source": [
        "rf = RandomForestClassifier(n_estimators = 100, class_weight='balanced', random_state=42)\n",
        "rf.fit(X_train, y_train)\n",
        "importances = rf.feature_importances_\n",
        "indices = np.argsort(importances)[::-1]\n"
      ],
      "metadata": {
        "id": "wwS2hrXmuIzo"
      },
      "execution_count": 31,
      "outputs": []
    },
    {
      "cell_type": "code",
      "source": [
        "len(indices)"
      ],
      "metadata": {
        "colab": {
          "base_uri": "https://localhost:8080/"
        },
        "id": "wv4BJJxp21lx",
        "outputId": "ae7cc742-0d00-44b5-bab1-f6648a941a5c"
      },
      "execution_count": 38,
      "outputs": [
        {
          "output_type": "execute_result",
          "data": {
            "text/plain": [
              "156"
            ]
          },
          "metadata": {},
          "execution_count": 38
        }
      ]
    },
    {
      "cell_type": "code",
      "source": [
        "l=[]\n",
        "for i in indices:\n",
        "  l.append(''+list(df)[i])\n",
        "  print(list(df)[i])"
      ],
      "metadata": {
        "colab": {
          "base_uri": "https://localhost:8080/"
        },
        "id": "0SyfHBrGvw1F",
        "outputId": "9ed3ee03-ab43-4c59-c857-88dc8dbbe408"
      },
      "execution_count": 166,
      "outputs": [
        {
          "output_type": "stream",
          "name": "stdout",
          "text": [
            "Impaired Skin Width #1\n",
            "LDL measured\n",
            "LOS\n",
            "Kphos\n",
            "Protonix\n",
            "Ventilator Tank #1\n",
            "Temperature Celsius\n",
            "Non-Invasive Blood Pressure mean\n",
            "Admission Weight (Kg)\n",
            "Magnesium\n",
            "AGE\n",
            "Lipase\n",
            "Sodium (serum)\n",
            "AST\n",
            "Total Bilirubin\n",
            "Impaired Skin Length #1\n",
            "ALT\n",
            "Impaired Skin Depth #1\n",
            "Pulmonary Artery Pressure mean\n",
            "Chest Tubes Other\n",
            "CK-MB\n",
            "BUN\n",
            "HCO3 (serum)\n",
            "Alkaline Phosphate\n",
            "Brain Natiuretic Peptide (BNP)\n",
            "CK (CPK)\n",
            "Differential-Monos\n",
            "ART BP Systolic\n",
            "C Reactive Protein (CRP)\n",
            "Arterial Base Excess\n",
            "Venous O2 Pressure\n",
            "MDI #1 Puff\n",
            "ART BP mean\n",
            "Inspired O2 Fraction\n",
            "LDH\n",
            "Calcium non-ionized\n",
            "Anion gap\n",
            "CO (Arterial)\n",
            "Filter Pressure\n",
            "ART Lumen Volume\n",
            "GENDER\n",
            "Delirium\n",
            "Differential-Basos\n",
            "Lactic Acid\n",
            "Heart Rate\n",
            "Fentanyl\n",
            "Albumin\n",
            "Respiratory Rate\n",
            "Potassium (whole blood)\n",
            "Differential-Eos\n",
            "Arterial Blood Pressure mean\n",
            "Fibrinogen\n",
            "Non Invasive Blood Pressure mean\n",
            "O2 saturation pulseoxymetry\n",
            "Insulin\n",
            "Arterial CO2 Pressure\n",
            "Arterial O2 Saturation\n",
            "Differential-Neuts\n",
            "Ammonia\n",
            "Differential-Lymphs\n",
            "Differential-Bands\n",
            "KCL\n",
            "Dialysate Rate\n",
            "Ionized Calcium\n",
            "Differential-Atyps\n",
            "Venous CO2 Pressure\n",
            "INSURANCE_Medicare\n",
            "ETHNICITY_WHITE\n",
            "DISCHARGE_LOCATION_DISCH-TRAN TO PSYCH HOSP\n",
            "MARITAL_STATUS_LIFE PARTNER\n",
            "DISCHARGE_LOCATION_SHORT TERM HOSPITAL\n",
            "ETHNICITY_ASIAN\n",
            "RELIGION_UNITARIAN-UNIVERSALIST\n",
            "RELIGION_BUDDHIST\n",
            "Free Water\n",
            "DISCHARGE_LOCATION_HOME\n",
            "INSURANCE_Medicaid\n",
            "RELIGION_MUSLIM\n",
            "RELIGION_JEHOVAH'S WITNESS\n",
            "ETHNICITY_UNKNOWN/NOT SPECIFIED\n",
            "MARITAL_STATUS_SEPARATED\n",
            "LANGUAGE_CAPE\n",
            "MARITAL_STATUS_UNKNOWN (DEFAULT)\n",
            "DISCHARGE_LOCATION_LEFT AGAINST MEDICAL ADVI\n",
            "DISCHARGE_LOCATION_OTHER FACILITY\n",
            "RELIGION_NOT SPECIFIED\n",
            "RELIGION_OTHER\n",
            "ETHNICITY_CARIBBEAN ISLAND\n",
            "DISCHARGE_LOCATION_ICF\n",
            "DISCHARGE_LOCATION_SNF\n",
            "ETHNICITY_SOUTH AMERICAN\n",
            "LANGUAGE_SOMA\n",
            "LANGUAGE_PTUN\n",
            "MARITAL_STATUS_MARRIED\n",
            "ETHNICITY_NATIVE HAWAIIAN OR OTHER PACIFIC ISLANDER\n",
            "DISCHARGE_LOCATION_DISC-TRAN TO FEDERAL HC\n",
            "LANGUAGE_*YID\n",
            "RELIGION_CHRISTIAN SCIENTIST\n",
            "DISCHARGE_LOCATION_HOME HEALTH CARE\n",
            "LANGUAGE_CAMB\n",
            "DISCHARGE_LOCATION_REHAB/DISTINCT PART HOSP\n",
            "LANGUAGE_*TOY\n",
            "DISCHARGE_LOCATION_LONG TERM CARE HOSPITAL\n",
            "ETHNICITY_OTHER\n",
            "LANGUAGE_MAND\n",
            "RELIGION_ROMANIAN EAST. ORTH\n",
            "RELIGION_CATHOLIC\n",
            "INSURANCE_Private\n",
            "RELIGION_EPISCOPALIAN\n",
            "LANGUAGE_POLI\n",
            "RELIGION_HINDU\n",
            "LANGUAGE_PORT\n",
            "MARITAL_STATUS_WIDOWED\n",
            "RELIGION_PROTESTANT QUAKER\n",
            "LANGUAGE_HIND\n",
            "LANGUAGE_VIET\n",
            "LANGUAGE_AMER\n",
            "LANGUAGE_*CHI\n",
            "LANGUAGE_GREE\n",
            "LANGUAGE_CANT\n",
            "RELIGION_JEWISH\n",
            "LANGUAGE_ALBA\n",
            "LANGUAGE_URDU\n",
            "MARITAL_STATUS_SINGLE\n",
            "DISCHARGE_LOCATION_HOSPICE-HOME\n",
            "ETHNICITY_MIDDLE EASTERN\n",
            "LANGUAGE_KORE\n",
            "ETHNICITY_BLACK\n",
            "LANGUAGE_*AMH\n",
            "LANGUAGE_FREN\n",
            "LANGUAGE_PERS\n",
            "LANGUAGE_ENGL\n",
            "LANGUAGE_SPAN\n",
            "DISCHARGE_LOCATION_HOSPICE-MEDICAL FACILITY\n",
            "LANGUAGE_JAPA\n",
            "RELIGION_GREEK ORTHODOX\n",
            "INSURANCE_Self Pay\n",
            "LANGUAGE_*BEN\n",
            "ETHNICITY_HISPANIC\n",
            "ETHNICITY_MULTI RACE ETHNICITY\n",
            "WBC\n",
            "LANGUAGE_*BOS\n",
            "LANGUAGE_*BUL\n",
            "LANGUAGE_*FAR\n",
            "LANGUAGE_*FUL\n",
            "LANGUAGE_*IBO\n",
            "LANGUAGE_*TEL\n",
            "ETHNICITY_PORTUGUESE\n",
            "LANGUAGE_RUSS\n",
            "LANGUAGE_TAGA\n",
            "LANGUAGE_ARAB\n",
            "LANGUAGE_**TO\n",
            "LANGUAGE_THAI\n",
            "LANGUAGE_ITAL\n",
            "LANGUAGE_HAIT\n",
            "LANGUAGE_*ARM\n"
          ]
        }
      ]
    },
    {
      "cell_type": "code",
      "source": [
        "cols=l[0:70]"
      ],
      "metadata": {
        "id": "mCW0BOhSiaP4"
      },
      "execution_count": 191,
      "outputs": []
    },
    {
      "cell_type": "code",
      "source": [
        "data=delirium_dataset_encoded[cols]"
      ],
      "metadata": {
        "id": "XVrOcel4jC_H"
      },
      "execution_count": 192,
      "outputs": []
    },
    {
      "cell_type": "code",
      "source": [
        "cols"
      ],
      "metadata": {
        "colab": {
          "base_uri": "https://localhost:8080/"
        },
        "id": "yer620edjJ3t",
        "outputId": "8d68d824-8b3a-4749-b1b5-18eb50f68400"
      },
      "execution_count": 193,
      "outputs": [
        {
          "output_type": "execute_result",
          "data": {
            "text/plain": [
              "['Impaired Skin Width #1',\n",
              " 'LDL measured',\n",
              " 'LOS',\n",
              " 'Kphos',\n",
              " 'Protonix',\n",
              " 'Ventilator Tank #1',\n",
              " 'Temperature Celsius',\n",
              " 'Non-Invasive Blood Pressure mean',\n",
              " 'Admission Weight (Kg)',\n",
              " 'Magnesium',\n",
              " 'AGE',\n",
              " 'Lipase',\n",
              " 'Sodium (serum)',\n",
              " 'AST',\n",
              " 'Total Bilirubin',\n",
              " 'Impaired Skin Length #1',\n",
              " 'ALT',\n",
              " 'Impaired Skin Depth #1',\n",
              " 'Pulmonary Artery Pressure mean',\n",
              " 'Chest Tubes Other',\n",
              " 'CK-MB',\n",
              " 'BUN',\n",
              " 'HCO3 (serum)',\n",
              " 'Alkaline Phosphate',\n",
              " 'Brain Natiuretic Peptide (BNP)',\n",
              " 'CK (CPK)',\n",
              " 'Differential-Monos',\n",
              " 'ART BP Systolic',\n",
              " 'C Reactive Protein (CRP)',\n",
              " 'Arterial Base Excess',\n",
              " 'Venous O2 Pressure',\n",
              " 'MDI #1 Puff',\n",
              " 'ART BP mean',\n",
              " 'Inspired O2 Fraction',\n",
              " 'LDH',\n",
              " 'Calcium non-ionized',\n",
              " 'Anion gap',\n",
              " 'CO (Arterial)',\n",
              " 'Filter Pressure',\n",
              " 'ART Lumen Volume',\n",
              " 'GENDER',\n",
              " 'Delirium',\n",
              " 'Differential-Basos',\n",
              " 'Lactic Acid',\n",
              " 'Heart Rate',\n",
              " 'Fentanyl',\n",
              " 'Albumin',\n",
              " 'Respiratory Rate',\n",
              " 'Potassium (whole blood)',\n",
              " 'Differential-Eos',\n",
              " 'Arterial Blood Pressure mean',\n",
              " 'Fibrinogen',\n",
              " 'Non Invasive Blood Pressure mean',\n",
              " 'O2 saturation pulseoxymetry',\n",
              " 'Insulin',\n",
              " 'Arterial CO2 Pressure',\n",
              " 'Arterial O2 Saturation',\n",
              " 'Differential-Neuts',\n",
              " 'Ammonia',\n",
              " 'Differential-Lymphs',\n",
              " 'Differential-Bands',\n",
              " 'KCL',\n",
              " 'Dialysate Rate',\n",
              " 'Ionized Calcium',\n",
              " 'Differential-Atyps',\n",
              " 'Venous CO2 Pressure',\n",
              " 'INSURANCE_Medicare',\n",
              " 'ETHNICITY_WHITE',\n",
              " 'DISCHARGE_LOCATION_DISCH-TRAN TO PSYCH HOSP',\n",
              " 'MARITAL_STATUS_LIFE PARTNER']"
            ]
          },
          "metadata": {},
          "execution_count": 193
        }
      ]
    },
    {
      "cell_type": "markdown",
      "source": [
        "#Benchmark"
      ],
      "metadata": {
        "id": "bf4QyoL73Nir"
      }
    },
    {
      "cell_type": "code",
      "source": [
        "y = data[\"Delirium\"].values\n",
        "X=data.drop([\"Delirium\"], axis=1)\n",
        "from sklearn.model_selection import train_test_split\n",
        "Xtr, Xtst, ytr, ytst = train_test_split(\n",
        "    X, y, test_size=0.2, random_state=0)"
      ],
      "metadata": {
        "id": "MlpKtssh4Tmx"
      },
      "execution_count": 194,
      "outputs": []
    },
    {
      "cell_type": "markdown",
      "source": [
        "## CATBOOST"
      ],
      "metadata": {
        "id": "vyz_67Mn4DJx"
      }
    },
    {
      "cell_type": "code",
      "source": [
        "def find_cate(df):\n",
        "  cols=df.columns\n",
        "  cat_features=[]\n",
        "  i=0\n",
        "  for col in cols:\n",
        "      if len(np.unique(df[col]))<=2 and col!='Delirium':\n",
        "          cat_features.append(col)\n",
        "          i=i+1\n",
        "  print(i)\n",
        "  return cat_features"
      ],
      "metadata": {
        "id": "PFV3UCB38Bdu"
      },
      "execution_count": 195,
      "outputs": []
    },
    {
      "cell_type": "code",
      "source": [
        "categorical_vars=find_cate(data)"
      ],
      "metadata": {
        "colab": {
          "base_uri": "https://localhost:8080/"
        },
        "id": "r4VlX5HY8CXS",
        "outputId": "138078d0-263e-442c-8b42-affbb0ff3ea2"
      },
      "execution_count": 196,
      "outputs": [
        {
          "output_type": "stream",
          "name": "stdout",
          "text": [
            "4\n"
          ]
        }
      ]
    },
    {
      "cell_type": "code",
      "source": [
        "print(categorical_vars)"
      ],
      "metadata": {
        "colab": {
          "base_uri": "https://localhost:8080/"
        },
        "id": "HMKx49F48frT",
        "outputId": "34c3468d-7b45-4c0e-aab3-c83154f69245"
      },
      "execution_count": 197,
      "outputs": [
        {
          "output_type": "stream",
          "name": "stdout",
          "text": [
            "['INSURANCE_Medicare', 'ETHNICITY_WHITE', 'DISCHARGE_LOCATION_DISCH-TRAN TO PSYCH HOSP', 'MARITAL_STATUS_LIFE PARTNER']\n"
          ]
        }
      ]
    },
    {
      "cell_type": "code",
      "source": [
        "!pip install catboost -U"
      ],
      "metadata": {
        "id": "cCJy7G-R2yya"
      },
      "execution_count": null,
      "outputs": []
    },
    {
      "cell_type": "code",
      "source": [
        "from sklearn import datasets\n",
        "from sklearn.model_selection import train_test_split\n",
        "from sklearn.model_selection import GridSearchCV\n",
        "from catboost import CatBoostClassifier"
      ],
      "metadata": {
        "id": "HUCn6ohh4IvY"
      },
      "execution_count": 103,
      "outputs": []
    },
    {
      "cell_type": "code",
      "source": [
        "delirium_dataset.info()"
      ],
      "metadata": {
        "id": "hBNcHaSv9Mui"
      },
      "execution_count": null,
      "outputs": []
    },
    {
      "cell_type": "code",
      "source": [
        "parameters = {'depth': [6,8,10],\n",
        "              'learning_rate': [0.01, 0.05, 0.1],\n",
        "              'iterations': [30, 50, 100]\n",
        "              }\n"
      ],
      "metadata": {
        "id": "vvwX3Xpv4KsY"
      },
      "execution_count": 41,
      "outputs": []
    },
    {
      "cell_type": "code",
      "source": [
        "model_CBR = CatBoostClassifier()\n",
        "grid = GridSearchCV(estimator=model_CBR, param_grid = parameters, cv = 2, n_jobs=-1)\n",
        "grid.fit(Xtr, ytr)"
      ],
      "metadata": {
        "colab": {
          "base_uri": "https://localhost:8080/"
        },
        "id": "0hMp03i-4NnR",
        "outputId": "78e2bef2-2945-4f7e-fe85-ce26fa843fa9"
      },
      "execution_count": 198,
      "outputs": [
        {
          "output_type": "stream",
          "name": "stdout",
          "text": [
            "0:\tlearn: 0.6107952\ttotal: 83.4ms\tremaining: 8.26s\n",
            "1:\tlearn: 0.5461013\ttotal: 141ms\tremaining: 6.91s\n",
            "2:\tlearn: 0.4974150\ttotal: 200ms\tremaining: 6.47s\n",
            "3:\tlearn: 0.4580517\ttotal: 265ms\tremaining: 6.37s\n",
            "4:\tlearn: 0.4275834\ttotal: 342ms\tremaining: 6.49s\n",
            "5:\tlearn: 0.4013077\ttotal: 407ms\tremaining: 6.38s\n",
            "6:\tlearn: 0.3831095\ttotal: 474ms\tremaining: 6.29s\n",
            "7:\tlearn: 0.3662815\ttotal: 536ms\tremaining: 6.16s\n",
            "8:\tlearn: 0.3515326\ttotal: 598ms\tremaining: 6.05s\n",
            "9:\tlearn: 0.3409032\ttotal: 664ms\tremaining: 5.97s\n",
            "10:\tlearn: 0.3300426\ttotal: 724ms\tremaining: 5.85s\n",
            "11:\tlearn: 0.3219669\ttotal: 784ms\tremaining: 5.75s\n",
            "12:\tlearn: 0.3142753\ttotal: 845ms\tremaining: 5.65s\n",
            "13:\tlearn: 0.3084296\ttotal: 905ms\tremaining: 5.56s\n",
            "14:\tlearn: 0.3020609\ttotal: 971ms\tremaining: 5.5s\n",
            "15:\tlearn: 0.2971927\ttotal: 1.03s\tremaining: 5.41s\n",
            "16:\tlearn: 0.2928046\ttotal: 1.09s\tremaining: 5.35s\n",
            "17:\tlearn: 0.2896461\ttotal: 1.16s\tremaining: 5.27s\n",
            "18:\tlearn: 0.2862830\ttotal: 1.22s\tremaining: 5.19s\n",
            "19:\tlearn: 0.2816878\ttotal: 1.29s\tremaining: 5.15s\n",
            "20:\tlearn: 0.2788873\ttotal: 1.36s\tremaining: 5.12s\n",
            "21:\tlearn: 0.2762281\ttotal: 1.42s\tremaining: 5.04s\n",
            "22:\tlearn: 0.2733106\ttotal: 1.48s\tremaining: 4.96s\n",
            "23:\tlearn: 0.2704558\ttotal: 1.54s\tremaining: 4.89s\n",
            "24:\tlearn: 0.2673599\ttotal: 1.61s\tremaining: 4.82s\n",
            "25:\tlearn: 0.2653478\ttotal: 1.67s\tremaining: 4.74s\n",
            "26:\tlearn: 0.2628418\ttotal: 1.73s\tremaining: 4.67s\n",
            "27:\tlearn: 0.2606065\ttotal: 1.78s\tremaining: 4.59s\n",
            "28:\tlearn: 0.2574705\ttotal: 1.85s\tremaining: 4.54s\n",
            "29:\tlearn: 0.2553911\ttotal: 1.92s\tremaining: 4.47s\n",
            "30:\tlearn: 0.2536059\ttotal: 1.97s\tremaining: 4.39s\n",
            "31:\tlearn: 0.2502257\ttotal: 2.04s\tremaining: 4.32s\n",
            "32:\tlearn: 0.2482908\ttotal: 2.1s\tremaining: 4.26s\n",
            "33:\tlearn: 0.2452830\ttotal: 2.17s\tremaining: 4.2s\n",
            "34:\tlearn: 0.2428254\ttotal: 2.23s\tremaining: 4.13s\n",
            "35:\tlearn: 0.2402720\ttotal: 2.29s\tremaining: 4.07s\n",
            "36:\tlearn: 0.2380347\ttotal: 2.35s\tremaining: 4s\n",
            "37:\tlearn: 0.2359324\ttotal: 2.43s\tremaining: 3.97s\n",
            "38:\tlearn: 0.2344253\ttotal: 2.49s\tremaining: 3.9s\n",
            "39:\tlearn: 0.2333309\ttotal: 2.55s\tremaining: 3.82s\n",
            "40:\tlearn: 0.2312786\ttotal: 2.61s\tremaining: 3.76s\n",
            "41:\tlearn: 0.2299407\ttotal: 2.67s\tremaining: 3.69s\n",
            "42:\tlearn: 0.2278039\ttotal: 2.73s\tremaining: 3.62s\n",
            "43:\tlearn: 0.2258802\ttotal: 2.79s\tremaining: 3.55s\n",
            "44:\tlearn: 0.2244800\ttotal: 2.85s\tremaining: 3.48s\n",
            "45:\tlearn: 0.2229775\ttotal: 2.91s\tremaining: 3.41s\n",
            "46:\tlearn: 0.2203571\ttotal: 2.97s\tremaining: 3.35s\n",
            "47:\tlearn: 0.2187164\ttotal: 3.02s\tremaining: 3.28s\n",
            "48:\tlearn: 0.2174004\ttotal: 3.08s\tremaining: 3.21s\n",
            "49:\tlearn: 0.2152325\ttotal: 3.14s\tremaining: 3.14s\n",
            "50:\tlearn: 0.2128685\ttotal: 3.21s\tremaining: 3.08s\n",
            "51:\tlearn: 0.2106182\ttotal: 3.26s\tremaining: 3.01s\n",
            "52:\tlearn: 0.2087631\ttotal: 3.33s\tremaining: 2.96s\n",
            "53:\tlearn: 0.2076837\ttotal: 3.4s\tremaining: 2.9s\n",
            "54:\tlearn: 0.2055189\ttotal: 3.46s\tremaining: 2.83s\n",
            "55:\tlearn: 0.2043728\ttotal: 3.52s\tremaining: 2.77s\n",
            "56:\tlearn: 0.2026340\ttotal: 3.58s\tremaining: 2.71s\n",
            "57:\tlearn: 0.2005736\ttotal: 3.65s\tremaining: 2.64s\n",
            "58:\tlearn: 0.1992106\ttotal: 3.71s\tremaining: 2.57s\n",
            "59:\tlearn: 0.1981915\ttotal: 3.76s\tremaining: 2.51s\n",
            "60:\tlearn: 0.1964351\ttotal: 3.83s\tremaining: 2.44s\n",
            "61:\tlearn: 0.1953069\ttotal: 3.88s\tremaining: 2.38s\n",
            "62:\tlearn: 0.1937282\ttotal: 3.95s\tremaining: 2.32s\n",
            "63:\tlearn: 0.1915945\ttotal: 4.01s\tremaining: 2.25s\n",
            "64:\tlearn: 0.1895107\ttotal: 4.07s\tremaining: 2.19s\n",
            "65:\tlearn: 0.1877120\ttotal: 4.14s\tremaining: 2.13s\n",
            "66:\tlearn: 0.1863632\ttotal: 4.2s\tremaining: 2.07s\n",
            "67:\tlearn: 0.1844774\ttotal: 4.26s\tremaining: 2s\n",
            "68:\tlearn: 0.1826886\ttotal: 4.32s\tremaining: 1.94s\n",
            "69:\tlearn: 0.1806634\ttotal: 4.38s\tremaining: 1.88s\n",
            "70:\tlearn: 0.1792898\ttotal: 4.46s\tremaining: 1.82s\n",
            "71:\tlearn: 0.1775614\ttotal: 4.52s\tremaining: 1.76s\n",
            "72:\tlearn: 0.1762305\ttotal: 4.58s\tremaining: 1.69s\n",
            "73:\tlearn: 0.1746044\ttotal: 4.64s\tremaining: 1.63s\n",
            "74:\tlearn: 0.1723532\ttotal: 4.7s\tremaining: 1.57s\n",
            "75:\tlearn: 0.1711540\ttotal: 4.76s\tremaining: 1.5s\n",
            "76:\tlearn: 0.1695929\ttotal: 4.83s\tremaining: 1.44s\n",
            "77:\tlearn: 0.1682737\ttotal: 4.89s\tremaining: 1.38s\n",
            "78:\tlearn: 0.1666096\ttotal: 4.95s\tremaining: 1.31s\n",
            "79:\tlearn: 0.1657680\ttotal: 5.02s\tremaining: 1.25s\n",
            "80:\tlearn: 0.1642037\ttotal: 5.09s\tremaining: 1.19s\n",
            "81:\tlearn: 0.1632626\ttotal: 5.15s\tremaining: 1.13s\n",
            "82:\tlearn: 0.1618104\ttotal: 5.21s\tremaining: 1.07s\n",
            "83:\tlearn: 0.1609450\ttotal: 5.27s\tremaining: 1s\n",
            "84:\tlearn: 0.1602391\ttotal: 5.33s\tremaining: 941ms\n",
            "85:\tlearn: 0.1587849\ttotal: 5.39s\tremaining: 878ms\n",
            "86:\tlearn: 0.1573983\ttotal: 5.46s\tremaining: 816ms\n",
            "87:\tlearn: 0.1557325\ttotal: 5.52s\tremaining: 753ms\n",
            "88:\tlearn: 0.1547698\ttotal: 5.58s\tremaining: 690ms\n",
            "89:\tlearn: 0.1535470\ttotal: 5.64s\tremaining: 627ms\n",
            "90:\tlearn: 0.1528819\ttotal: 5.7s\tremaining: 564ms\n",
            "91:\tlearn: 0.1521135\ttotal: 5.76s\tremaining: 501ms\n",
            "92:\tlearn: 0.1509335\ttotal: 5.82s\tremaining: 438ms\n",
            "93:\tlearn: 0.1506697\ttotal: 5.88s\tremaining: 376ms\n",
            "94:\tlearn: 0.1494260\ttotal: 5.94s\tremaining: 313ms\n",
            "95:\tlearn: 0.1477986\ttotal: 6.01s\tremaining: 250ms\n",
            "96:\tlearn: 0.1468899\ttotal: 6.07s\tremaining: 188ms\n",
            "97:\tlearn: 0.1457937\ttotal: 6.13s\tremaining: 125ms\n",
            "98:\tlearn: 0.1444604\ttotal: 6.2s\tremaining: 62.6ms\n",
            "99:\tlearn: 0.1434991\ttotal: 6.25s\tremaining: 0us\n"
          ]
        },
        {
          "output_type": "execute_result",
          "data": {
            "text/plain": [
              "GridSearchCV(cv=2,\n",
              "             estimator=<catboost.core.CatBoostClassifier object at 0x7f3f3dd5b3d0>,\n",
              "             n_jobs=-1,\n",
              "             param_grid={'depth': [6, 8, 10], 'iterations': [30, 50, 100],\n",
              "                         'learning_rate': [0.01, 0.05, 0.1]})"
            ]
          },
          "metadata": {},
          "execution_count": 198
        }
      ]
    },
    {
      "cell_type": "code",
      "source": [
        "print(\" Results from Grid Search \" )\n",
        "print(\"\\n The best estimator across ALL searched params:\\n\", grid.best_estimator_)\n",
        "print(\"\\n The best score across ALL searched params:\\n\", grid.best_score_)\n",
        "print(\"\\n The best parameters across ALL searched params:\\n\", grid.best_params_)"
      ],
      "metadata": {
        "colab": {
          "base_uri": "https://localhost:8080/"
        },
        "id": "YOJaoOmZ6-oM",
        "outputId": "aeb45041-66c9-4940-eaaf-45cc57558c90"
      },
      "execution_count": 199,
      "outputs": [
        {
          "output_type": "stream",
          "name": "stdout",
          "text": [
            " Results from Grid Search \n",
            "\n",
            " The best estimator across ALL searched params:\n",
            " <catboost.core.CatBoostClassifier object at 0x7f3f27104910>\n",
            "\n",
            " The best score across ALL searched params:\n",
            " 0.8925679583574321\n",
            "\n",
            " The best parameters across ALL searched params:\n",
            " {'depth': 8, 'iterations': 100, 'learning_rate': 0.1}\n"
          ]
        }
      ]
    },
    {
      "cell_type": "code",
      "source": [
        "# Initializing a CatBoostClassifier with best parameters\n",
        "best_params = grid.best_params_\n",
        "\n",
        "\n",
        "catb = CatBoostClassifier(**best_params,\n",
        "                          loss_function='Logloss',\n",
        "                          eval_metric = 'Accuracy',\n",
        "                          nan_mode='Min',\n",
        "                          thread_count=2,\n",
        "                          verbose = False)"
      ],
      "metadata": {
        "id": "Xx_ZiLji7CCI"
      },
      "execution_count": 200,
      "outputs": []
    },
    {
      "cell_type": "code",
      "source": [
        "from sklearn.model_selection import StratifiedKFold\n",
        "\n",
        "# Metrics\n",
        "from sklearn.metrics import roc_auc_score, average_precision_score\n",
        "from sklearn.metrics import make_scorer"
      ],
      "metadata": {
        "id": "kFk3K0As7GTw"
      },
      "execution_count": 201,
      "outputs": []
    },
    {
      "cell_type": "code",
      "source": [
        "SEED = 42\n",
        "FOLDS = 5\n",
        "\n",
        "skf = StratifiedKFold(n_splits=FOLDS, shuffle=True, random_state=SEED)"
      ],
      "metadata": {
        "id": "-JL3bvyz7IlL"
      },
      "execution_count": 202,
      "outputs": []
    },
    {
      "cell_type": "code",
      "source": [
        "import numpy as np\n",
        "from catboost import Pool"
      ],
      "metadata": {
        "id": "m7-1LxqH7LSt"
      },
      "execution_count": 203,
      "outputs": []
    },
    {
      "cell_type": "code",
      "source": [
        "roc_auc = list()\n",
        "average_precision = list()\n",
        "oof = np.zeros(len(Xtr))\n",
        "best_iteration = list()\n",
        "\n",
        "for train_idx, test_idx in skf.split(Xtr, ytr):\n",
        "    X_train, y_train = Xtr.iloc[train_idx, :], ytr[train_idx]\n",
        "    X_test, y_test = Xtr.iloc[test_idx, :], ytr[test_idx]\n",
        "    \n",
        "    train = Pool(data=X_train, \n",
        "             label=y_train,            \n",
        "             feature_names=list(X_train.columns),\n",
        "             cat_features=categorical_vars)\n",
        "\n",
        "    test = Pool(data=X_test, \n",
        "                label=y_test,\n",
        "                feature_names=list(X_test.columns),\n",
        "                cat_features=categorical_vars)\n",
        "\n",
        "    catb.fit(train,\n",
        "             verbose_eval=100, \n",
        "             early_stopping_rounds=50,\n",
        "             eval_set=test,\n",
        "             use_best_model=True,\n",
        "             #task_type = \"GPU\",\n",
        "             plot=False)\n",
        "    \n",
        "    best_iteration.append(catb.best_iteration_)\n",
        "    preds = catb.predict_proba(X_test)\n",
        "    \n",
        "    oof[test_idx] = preds[:,1]\n",
        "    \n",
        "    roc_auc.append(roc_auc_score(y_true=y_test, y_score=preds[:,1]))\n",
        "    average_precision.append(average_precision_score(y_true=y_test, y_score=preds[:,1]))"
      ],
      "metadata": {
        "colab": {
          "base_uri": "https://localhost:8080/"
        },
        "id": "DLp1ZWHo7O8x",
        "outputId": "079a6f8b-5075-4091-b4ce-183113dd70ad"
      },
      "execution_count": 204,
      "outputs": [
        {
          "output_type": "stream",
          "name": "stdout",
          "text": [
            "0:\tlearn: 0.8929863\ttest: 0.8908960\tbest: 0.8908960 (0)\ttotal: 78.2ms\tremaining: 7.74s\n",
            "Stopped by overfitting detector  (50 iterations wait)\n",
            "\n",
            "bestTest = 0.8916184971\n",
            "bestIteration = 1\n",
            "\n",
            "Shrink model to first 2 iterations.\n",
            "0:\tlearn: 0.8924634\ttest: 0.8915401\tbest: 0.8915401 (0)\ttotal: 101ms\tremaining: 9.95s\n",
            "Stopped by overfitting detector  (50 iterations wait)\n",
            "\n",
            "bestTest = 0.8929862617\n",
            "bestIteration = 35\n",
            "\n",
            "Shrink model to first 36 iterations.\n",
            "0:\tlearn: 0.8921019\ttest: 0.8922632\tbest: 0.8922632 (0)\ttotal: 79.3ms\tremaining: 7.85s\n",
            "Stopped by overfitting detector  (50 iterations wait)\n",
            "\n",
            "bestTest = 0.892263196\n",
            "bestIteration = 0\n",
            "\n",
            "Shrink model to first 1 iterations.\n",
            "0:\tlearn: 0.8926441\ttest: 0.8908171\tbest: 0.8908171 (0)\ttotal: 80.4ms\tremaining: 7.96s\n",
            "Stopped by overfitting detector  (50 iterations wait)\n",
            "\n",
            "bestTest = 0.892263196\n",
            "bestIteration = 1\n",
            "\n",
            "Shrink model to first 2 iterations.\n",
            "0:\tlearn: 0.8922827\ttest: 0.8922632\tbest: 0.8922632 (0)\ttotal: 80.7ms\tremaining: 7.99s\n",
            "Stopped by overfitting detector  (50 iterations wait)\n",
            "\n",
            "bestTest = 0.892263196\n",
            "bestIteration = 0\n",
            "\n",
            "Shrink model to first 1 iterations.\n"
          ]
        }
      ]
    },
    {
      "cell_type": "code",
      "source": [
        "print(\"Average cv roc auc score %0.3f ± %0.3f\" % (np.mean(roc_auc), np.std(roc_auc)))\n",
        "print(\"Average cv roc average precision %0.3f ± %0.3f\" % (np.mean(average_precision), np.std(average_precision)))\n",
        "\n",
        "print(\"Roc auc score OOF %0.3f\" % roc_auc_score(y_true=ytr, y_score=oof))\n",
        "print(\"Average precision OOF %0.3f\" % average_precision_score(y_true=ytr, y_score=oof))"
      ],
      "metadata": {
        "colab": {
          "base_uri": "https://localhost:8080/"
        },
        "id": "2uhXTGUjkMIc",
        "outputId": "cd3dc4f3-e97e-451c-efed-4bfb07a6bbec"
      },
      "execution_count": 205,
      "outputs": [
        {
          "output_type": "stream",
          "name": "stdout",
          "text": [
            "Average cv roc auc score 0.567 ± 0.037\n",
            "Average cv roc average precision 0.132 ± 0.019\n",
            "Roc auc score OOF 0.525\n",
            "Average precision OOF 0.113\n"
          ]
        }
      ]
    },
    {
      "cell_type": "code",
      "source": [
        "prd=catb.predict(Xtst)"
      ],
      "metadata": {
        "id": "l53y0akXkN4c"
      },
      "execution_count": 206,
      "outputs": []
    },
    {
      "cell_type": "code",
      "source": [
        "print(\"Average cv roc auc score %0.3f ± %0.3f\" % (np.mean(roc_auc), np.std(roc_auc)))\n",
        "print(\"Average cv roc average precision %0.3f ± %0.3f\" % (np.mean(average_precision), np.std(average_precision)))\n",
        "\n",
        "print(\"Roc auc score OOF %0.3f\" % roc_auc_score(y_true=ytr, y_score=oof))\n",
        "print(\"Average precision OOF %0.3f\" % average_precision_score(y_true=ytr, y_score=oof))"
      ],
      "metadata": {
        "colab": {
          "base_uri": "https://localhost:8080/"
        },
        "id": "uRV6raLJ-4u-",
        "outputId": "09dca6d1-3281-454b-8c38-9599a14f3fbb"
      },
      "execution_count": 111,
      "outputs": [
        {
          "output_type": "stream",
          "name": "stdout",
          "text": [
            "Average cv roc auc score 0.646 ± 0.063\n",
            "Average cv roc average precision 0.215 ± 0.070\n",
            "Roc auc score OOF 0.580\n",
            "Average precision OOF 0.141\n"
          ]
        }
      ]
    },
    {
      "cell_type": "code",
      "source": [
        "prd=catb.predict(Xtst)"
      ],
      "metadata": {
        "id": "t8HvwwlT-6Og"
      },
      "execution_count": 112,
      "outputs": []
    },
    {
      "cell_type": "code",
      "source": [
        "from sklearn.metrics import classification_report\n",
        "import matplotlib.pyplot as plt\n",
        "import seaborn as sns\n",
        "print(classification_report(ytst, prd))"
      ],
      "metadata": {
        "colab": {
          "base_uri": "https://localhost:8080/"
        },
        "id": "eaBWjJ4m-7gW",
        "outputId": "3c823ea8-3374-4345-9fc5-24ed0ee56ecb"
      },
      "execution_count": 113,
      "outputs": [
        {
          "output_type": "stream",
          "name": "stdout",
          "text": [
            "              precision    recall  f1-score   support\n",
            "\n",
            "           0       0.89      1.00      0.94      1536\n",
            "           1       0.00      0.00      0.00       194\n",
            "\n",
            "    accuracy                           0.89      1730\n",
            "   macro avg       0.44      0.50      0.47      1730\n",
            "weighted avg       0.79      0.89      0.84      1730\n",
            "\n"
          ]
        },
        {
          "output_type": "stream",
          "name": "stderr",
          "text": [
            "/usr/local/lib/python3.7/dist-packages/sklearn/metrics/_classification.py:1318: UndefinedMetricWarning: Precision and F-score are ill-defined and being set to 0.0 in labels with no predicted samples. Use `zero_division` parameter to control this behavior.\n",
            "  _warn_prf(average, modifier, msg_start, len(result))\n",
            "/usr/local/lib/python3.7/dist-packages/sklearn/metrics/_classification.py:1318: UndefinedMetricWarning: Precision and F-score are ill-defined and being set to 0.0 in labels with no predicted samples. Use `zero_division` parameter to control this behavior.\n",
            "  _warn_prf(average, modifier, msg_start, len(result))\n",
            "/usr/local/lib/python3.7/dist-packages/sklearn/metrics/_classification.py:1318: UndefinedMetricWarning: Precision and F-score are ill-defined and being set to 0.0 in labels with no predicted samples. Use `zero_division` parameter to control this behavior.\n",
            "  _warn_prf(average, modifier, msg_start, len(result))\n"
          ]
        }
      ]
    },
    {
      "cell_type": "code",
      "source": [
        "print(\"Average cv roc auc score %0.3f ± %0.3f\" % (np.mean(roc_auc), np.std(roc_auc)))\n",
        "print(\"Average cv roc average precision %0.3f ± %0.3f\" % (np.mean(average_precision), np.std(average_precision)))\n",
        "\n",
        "print(\"Roc auc score OOF %0.3f\" % roc_auc_score(y_true=ytr, y_score=oof))\n",
        "print(\"Average precision OOF %0.3f\" % average_precision_score(y_true=ytr, y_score=oof))"
      ],
      "metadata": {
        "colab": {
          "base_uri": "https://localhost:8080/"
        },
        "id": "A29lpFPT7gLk",
        "outputId": "97c5c331-7558-4dee-eb38-2b3ac89e1992"
      },
      "execution_count": 55,
      "outputs": [
        {
          "output_type": "stream",
          "name": "stdout",
          "text": [
            "Average cv roc auc score 0.564 ± 0.051\n",
            "Average cv roc average precision 0.142 ± 0.039\n",
            "Roc auc score OOF 0.526\n",
            "Average precision OOF 0.120\n"
          ]
        }
      ]
    },
    {
      "cell_type": "code",
      "source": [
        "prd=catb.predict(Xtst)"
      ],
      "metadata": {
        "id": "lsFKeFlg7hpw"
      },
      "execution_count": 58,
      "outputs": []
    },
    {
      "cell_type": "code",
      "source": [
        "from sklearn.metrics import classification_report\n",
        "import matplotlib.pyplot as plt\n",
        "import seaborn as sns\n",
        "print(classification_report(ytst, prd))"
      ],
      "metadata": {
        "colab": {
          "base_uri": "https://localhost:8080/"
        },
        "id": "0Buq0wwU7oAC",
        "outputId": "994b154d-8ead-4b14-a7f1-b6c48e5d0478"
      },
      "execution_count": 59,
      "outputs": [
        {
          "output_type": "stream",
          "name": "stdout",
          "text": [
            "              precision    recall  f1-score   support\n",
            "\n",
            "         0.0       0.89      1.00      0.94      1536\n",
            "         1.0       0.00      0.00      0.00       194\n",
            "\n",
            "    accuracy                           0.89      1730\n",
            "   macro avg       0.44      0.50      0.47      1730\n",
            "weighted avg       0.79      0.89      0.84      1730\n",
            "\n"
          ]
        },
        {
          "output_type": "stream",
          "name": "stderr",
          "text": [
            "/usr/local/lib/python3.7/dist-packages/sklearn/metrics/_classification.py:1318: UndefinedMetricWarning: Precision and F-score are ill-defined and being set to 0.0 in labels with no predicted samples. Use `zero_division` parameter to control this behavior.\n",
            "  _warn_prf(average, modifier, msg_start, len(result))\n",
            "/usr/local/lib/python3.7/dist-packages/sklearn/metrics/_classification.py:1318: UndefinedMetricWarning: Precision and F-score are ill-defined and being set to 0.0 in labels with no predicted samples. Use `zero_division` parameter to control this behavior.\n",
            "  _warn_prf(average, modifier, msg_start, len(result))\n",
            "/usr/local/lib/python3.7/dist-packages/sklearn/metrics/_classification.py:1318: UndefinedMetricWarning: Precision and F-score are ill-defined and being set to 0.0 in labels with no predicted samples. Use `zero_division` parameter to control this behavior.\n",
            "  _warn_prf(average, modifier, msg_start, len(result))\n"
          ]
        }
      ]
    },
    {
      "cell_type": "markdown",
      "source": [
        "## XGBOOST"
      ],
      "metadata": {
        "id": "Lt_m8Brx--7b"
      }
    },
    {
      "cell_type": "code",
      "source": [
        "import pandas as pd # load and manipulate data and for One-Hot Encoding\n",
        "import numpy as np # calculate the mean and standard deviation\n",
        "import xgboost as xgb # XGBoost stuff\n",
        "from sklearn.model_selection import train_test_split # split  data into training and testing sets\n",
        "from sklearn.model_selection import GridSearchCV # cross validation\n",
        "from sklearn.metrics import confusion_matrix # creates a confusion matrix\n",
        "from sklearn.metrics import plot_confusion_matrix # draws a confusion matrix"
      ],
      "metadata": {
        "id": "F2N9bhA696RW"
      },
      "execution_count": 207,
      "outputs": []
    },
    {
      "cell_type": "code",
      "source": [
        "y = data[\"Delirium\"].values\n",
        "X=data.drop([\"Delirium\"], axis=1)\n",
        "X_train, X_test, y_train, y_test = train_test_split(X, y, random_state=42)\n",
        "\n",
        "clf_xgb = xgb.XGBClassifier(objective='binary:logistic',\n",
        "                            eval_metric=\"logloss\", ## this avoids a warning...\n",
        "                            seed=42, \n",
        "                            use_label_encoder=False)"
      ],
      "metadata": {
        "id": "69C2imyr9-fh"
      },
      "execution_count": 215,
      "outputs": []
    },
    {
      "cell_type": "code",
      "source": [
        "len(X_test)"
      ],
      "metadata": {
        "colab": {
          "base_uri": "https://localhost:8080/"
        },
        "id": "1oWs79p9o07r",
        "outputId": "559bd46e-e23a-41ac-bd54-b328a31e9e16"
      },
      "execution_count": 219,
      "outputs": [
        {
          "output_type": "execute_result",
          "data": {
            "text/plain": [
              "2162"
            ]
          },
          "metadata": {},
          "execution_count": 219
        }
      ]
    },
    {
      "cell_type": "code",
      "source": [
        "clf_xgb.fit(X_train, y_train)"
      ],
      "metadata": {
        "colab": {
          "base_uri": "https://localhost:8080/"
        },
        "id": "WIMbWHD19_lR",
        "outputId": "bd3482fd-c159-4a25-c463-52942f3ac760"
      },
      "execution_count": 216,
      "outputs": [
        {
          "output_type": "execute_result",
          "data": {
            "text/plain": [
              "XGBClassifier(eval_metric='logloss', seed=42, use_label_encoder=False)"
            ]
          },
          "metadata": {},
          "execution_count": 216
        }
      ]
    },
    {
      "cell_type": "code",
      "source": [
        "prd=clf_xgb.predict(X_test)"
      ],
      "metadata": {
        "id": "FCUsTcs3BKQ4"
      },
      "execution_count": 217,
      "outputs": []
    },
    {
      "cell_type": "code",
      "source": [
        "plot_confusion_matrix(clf_xgb, X_test, y_test, display_labels=[\"No Delirium\", \"Delirium\"])"
      ],
      "metadata": {
        "colab": {
          "base_uri": "https://localhost:8080/",
          "height": 351
        },
        "id": "WvncBeMikZWd",
        "outputId": "72e95c49-d48d-4306-e9a9-d4a216d9902b"
      },
      "execution_count": 218,
      "outputs": [
        {
          "output_type": "stream",
          "name": "stderr",
          "text": [
            "/usr/local/lib/python3.7/dist-packages/sklearn/utils/deprecation.py:87: FutureWarning: Function plot_confusion_matrix is deprecated; Function `plot_confusion_matrix` is deprecated in 1.0 and will be removed in 1.2. Use one of the class methods: ConfusionMatrixDisplay.from_predictions or ConfusionMatrixDisplay.from_estimator.\n",
            "  warnings.warn(msg, category=FutureWarning)\n"
          ]
        },
        {
          "output_type": "execute_result",
          "data": {
            "text/plain": [
              "<sklearn.metrics._plot.confusion_matrix.ConfusionMatrixDisplay at 0x7f3f269dc190>"
            ]
          },
          "metadata": {},
          "execution_count": 218
        },
        {
          "output_type": "display_data",
          "data": {
            "text/plain": [
              "<Figure size 432x288 with 2 Axes>"
            ],
            "image/png": "[encoded data removed]"
          },
          "metadata": {
            "needs_background": "light"
          }
        }
      ]
    },
    {
      "cell_type": "code",
      "source": [
        "from sklearn.metrics import classification_report\n",
        "import matplotlib.pyplot as plt\n",
        "import seaborn as sns\n",
        "print(classification_report(y_test, prd))"
      ],
      "metadata": {
        "colab": {
          "base_uri": "https://localhost:8080/"
        },
        "id": "qKnfKgpQkb5y",
        "outputId": "8103dab6-59c6-4666-aa8d-7935a87853bd"
      },
      "execution_count": 212,
      "outputs": [
        {
          "output_type": "stream",
          "name": "stdout",
          "text": [
            "              precision    recall  f1-score   support\n",
            "\n",
            "           0       0.89      1.00      0.94      1932\n",
            "           1       0.00      0.00      0.00       230\n",
            "\n",
            "    accuracy                           0.89      2162\n",
            "   macro avg       0.45      0.50      0.47      2162\n",
            "weighted avg       0.80      0.89      0.84      2162\n",
            "\n"
          ]
        }
      ]
    },
    {
      "cell_type": "code",
      "source": [
        "plot_confusion_matrix(clf_xgb, X_test, y_test, display_labels=[\"No Delirium\", \"Delirium\"])"
      ],
      "metadata": {
        "colab": {
          "base_uri": "https://localhost:8080/",
          "height": 351
        },
        "id": "sl6BDYinBMVa",
        "outputId": "399a958a-66b8-4f64-ef1d-ff9c1b25cc1a"
      },
      "execution_count": 118,
      "outputs": [
        {
          "output_type": "stream",
          "name": "stderr",
          "text": [
            "/usr/local/lib/python3.7/dist-packages/sklearn/utils/deprecation.py:87: FutureWarning: Function plot_confusion_matrix is deprecated; Function `plot_confusion_matrix` is deprecated in 1.0 and will be removed in 1.2. Use one of the class methods: ConfusionMatrixDisplay.from_predictions or ConfusionMatrixDisplay.from_estimator.\n",
            "  warnings.warn(msg, category=FutureWarning)\n"
          ]
        },
        {
          "output_type": "execute_result",
          "data": {
            "text/plain": [
              "<sklearn.metrics._plot.confusion_matrix.ConfusionMatrixDisplay at 0x7f3f3d362a90>"
            ]
          },
          "metadata": {},
          "execution_count": 118
        },
        {
          "output_type": "display_data",
          "data": {
            "text/plain": [
              "<Figure size 432x288 with 2 Axes>"
            ],
            "image/png": "[encoded data removed]"
          },
          "metadata": {
            "needs_background": "light"
          }
        }
      ]
    },
    {
      "cell_type": "code",
      "source": [
        "from sklearn.metrics import classification_report\n",
        "import matplotlib.pyplot as plt\n",
        "import seaborn as sns\n",
        "print(classification_report(y_test, prd))"
      ],
      "metadata": {
        "colab": {
          "base_uri": "https://localhost:8080/"
        },
        "id": "J_w9v8pQBU4Y",
        "outputId": "7ec5c247-6e74-421b-f303-b522974ee712"
      },
      "execution_count": 119,
      "outputs": [
        {
          "output_type": "stream",
          "name": "stdout",
          "text": [
            "              precision    recall  f1-score   support\n",
            "\n",
            "           0       0.89      1.00      0.94      1932\n",
            "           1       0.50      0.01      0.02       230\n",
            "\n",
            "    accuracy                           0.89      2162\n",
            "   macro avg       0.70      0.50      0.48      2162\n",
            "weighted avg       0.85      0.89      0.85      2162\n",
            "\n"
          ]
        }
      ]
    },
    {
      "cell_type": "markdown",
      "source": [
        "## Logistic Regression"
      ],
      "metadata": {
        "id": "yxiAMstdBgSl"
      }
    },
    {
      "cell_type": "code",
      "source": [
        "y = delirium_dataset_encoded[\"Delirium\"].values\n",
        "X=delirium_dataset_encoded.drop([\"Delirium\"], axis=1)"
      ],
      "metadata": {
        "id": "nvgddscVCePb"
      },
      "execution_count": 134,
      "outputs": []
    },
    {
      "cell_type": "code",
      "source": [
        "\n",
        "from sklearn.model_selection import train_test_split\n",
        "Xtr, Xtst, ytr, ytst = train_test_split(\n",
        "    X, y, test_size=0.2, random_state=0)"
      ],
      "metadata": {
        "id": "aOet6v3kCdaz"
      },
      "execution_count": 135,
      "outputs": []
    },
    {
      "cell_type": "code",
      "source": [
        "from sklearn.preprocessing import MinMaxScaler\n",
        "from sklearn.preprocessing import minmax_scale\n",
        "from sklearn.preprocessing import MaxAbsScaler\n",
        "from sklearn.preprocessing import StandardScaler\n",
        "from sklearn.preprocessing import RobustScaler\n",
        "from sklearn.preprocessing import Normalizer\n",
        "from sklearn.preprocessing import QuantileTransformer\n",
        "from sklearn.preprocessing import PowerTransformer\n",
        "\n",
        "def fit_scaler(train_df, features_list: list, scale_type: str):\n",
        "    \"\"\"\n",
        "    Fit scaler on train data\n",
        "    note: scalers takes input (num_samples, num_features) and scales all features in features_list\n",
        "\n",
        "    Inputs:\n",
        "    - train_df: dataframe of x train data\n",
        "    - features_list: list of features to be scaled\n",
        "    - scale_type: type of scale to use (ie. standardize, normalize)\n",
        "\n",
        "    Outputs: \n",
        "    scaler: scaler of interest, fitted on train data containing features from features_list\n",
        "    \"\"\"\n",
        "\n",
        "    scaler_dict = {\n",
        "        \"standard\" : StandardScaler(), \n",
        "        \"minmax\" : MinMaxScaler(feature_range=(0, 1)) , \n",
        "        \"maxabs\" : MaxAbsScaler(), \n",
        "        \"robust\": RobustScaler(quantile_range=(25, 75)),\n",
        "        \"power_yeo_johnson\": PowerTransformer(method='yeo-johnson'),\n",
        "        \"power_box_cox\" : PowerTransformer(method='box-cox'),\n",
        "        \"quartile_normal\":  QuantileTransformer(output_distribution='normal'),\n",
        "        \"quartile_uniform\": QuantileTransformer(output_distribution='uniform'),\n",
        "        \"normalizer\": Normalizer()\n",
        "    }\n",
        "    \n",
        "    scaler = scaler_dict[scale_type].fit(train_df[features_list])\n",
        "\n",
        "    return scaler"
      ],
      "metadata": {
        "id": "PP1rrkr_BnRl"
      },
      "execution_count": 136,
      "outputs": []
    },
    {
      "cell_type": "code",
      "source": [
        "def getBinaryFeatures(df):\n",
        "  binary_cols= [col for col in df.columns if len(df[col].unique())==2]\n",
        "  return binary_cols\n",
        "binary_features=getBinaryFeatures(delirium_dataset)\n",
        "nonbinary_features = [feature for feature in X.columns if feature not in binary_features]\n",
        "print(\"Non binary features that are standardized: \" + str(nonbinary_features))\n",
        "\n",
        "# Fit the standardized scaler on the TRAIN data\n",
        "scaler = fit_scaler(Xtr, nonbinary_features, \"standard\")\n",
        "\n",
        "# Tranform both TRAIN and TEST data on the scaler fitted on TRAIN data\n",
        "Xtr[nonbinary_features] = scaler.transform(Xtr[nonbinary_features])\n",
        "Xtst[nonbinary_features] = scaler.transform(Xtst[nonbinary_features])"
      ],
      "metadata": {
        "colab": {
          "base_uri": "https://localhost:8080/"
        },
        "id": "_uxRSRLBBtN3",
        "outputId": "b92c3807-8258-4bcc-ed66-0cea85a0c3c1"
      },
      "execution_count": 137,
      "outputs": [
        {
          "output_type": "stream",
          "name": "stdout",
          "text": [
            "Non binary features that are standardized: ['AGE', 'ALT', 'ART BP Systolic', 'ART BP mean', 'ART Lumen Volume', 'AST', 'Admission Weight (Kg)', 'Albumin', 'Alkaline Phosphate', 'Ammonia', 'Anion gap', 'Arterial Base Excess', 'Arterial Blood Pressure mean', 'Arterial CO2 Pressure', 'Arterial O2 Saturation', 'BUN', 'Brain Natiuretic Peptide (BNP)', 'C Reactive Protein (CRP)', 'CK (CPK)', 'CK-MB', 'CO (Arterial)', 'Calcium non-ionized', 'Chest Tubes Other', 'Dialysate Rate', 'Differential-Atyps', 'Differential-Bands', 'Differential-Basos', 'Differential-Eos', 'Differential-Lymphs', 'Differential-Monos', 'Differential-Neuts', 'Fentanyl', 'Fibrinogen', 'Filter Pressure', 'Free Water', 'GENDER', 'HCO3 (serum)', 'Heart Rate', 'Impaired Skin Depth #1', 'Impaired Skin Length #1', 'Impaired Skin Width #1', 'Inspired O2 Fraction', 'Insulin', 'Ionized Calcium', 'KCL', 'Kphos', 'LDH', 'LDL measured', 'LOS', 'Lactic Acid', 'Lipase', 'MDI #1 Puff', 'Magnesium', 'Non Invasive Blood Pressure mean', 'Non-Invasive Blood Pressure mean', 'O2 saturation pulseoxymetry', 'Potassium (whole blood)', 'Protonix', 'Pulmonary Artery Pressure mean', 'Respiratory Rate', 'Sodium (serum)', 'Temperature Celsius', 'Total Bilirubin', 'Venous CO2 Pressure', 'Venous O2 Pressure', 'Ventilator Tank #1', 'WBC', 'DISCHARGE_LOCATION_DISC-TRAN TO FEDERAL HC', 'DISCHARGE_LOCATION_DISCH-TRAN TO PSYCH HOSP', 'DISCHARGE_LOCATION_HOME', 'DISCHARGE_LOCATION_HOME HEALTH CARE', 'DISCHARGE_LOCATION_HOSPICE-HOME', 'DISCHARGE_LOCATION_HOSPICE-MEDICAL FACILITY', 'DISCHARGE_LOCATION_ICF', 'DISCHARGE_LOCATION_LEFT AGAINST MEDICAL ADVI', 'DISCHARGE_LOCATION_LONG TERM CARE HOSPITAL', 'DISCHARGE_LOCATION_OTHER FACILITY', 'DISCHARGE_LOCATION_REHAB/DISTINCT PART HOSP', 'DISCHARGE_LOCATION_SHORT TERM HOSPITAL', 'DISCHARGE_LOCATION_SNF', 'ETHNICITY_ASIAN', 'ETHNICITY_BLACK', 'ETHNICITY_CARIBBEAN ISLAND', 'ETHNICITY_HISPANIC', 'ETHNICITY_MIDDLE EASTERN', 'ETHNICITY_MULTI RACE ETHNICITY', 'ETHNICITY_NATIVE HAWAIIAN OR OTHER PACIFIC ISLANDER', 'ETHNICITY_OTHER', 'ETHNICITY_PORTUGUESE', 'ETHNICITY_SOUTH AMERICAN', 'ETHNICITY_UNKNOWN/NOT SPECIFIED', 'ETHNICITY_WHITE', 'INSURANCE_Medicaid', 'INSURANCE_Medicare', 'INSURANCE_Private', 'INSURANCE_Self Pay', 'LANGUAGE_**TO', 'LANGUAGE_*AMH', 'LANGUAGE_*ARM', 'LANGUAGE_*BEN', 'LANGUAGE_*BOS', 'LANGUAGE_*BUL', 'LANGUAGE_*CHI', 'LANGUAGE_*FAR', 'LANGUAGE_*FUL', 'LANGUAGE_*IBO', 'LANGUAGE_*TEL', 'LANGUAGE_*TOY', 'LANGUAGE_*YID', 'LANGUAGE_ALBA', 'LANGUAGE_AMER', 'LANGUAGE_ARAB', 'LANGUAGE_CAMB', 'LANGUAGE_CANT', 'LANGUAGE_CAPE', 'LANGUAGE_ENGL', 'LANGUAGE_FREN', 'LANGUAGE_GREE', 'LANGUAGE_HAIT', 'LANGUAGE_HIND', 'LANGUAGE_ITAL', 'LANGUAGE_JAPA', 'LANGUAGE_KORE', 'LANGUAGE_MAND', 'LANGUAGE_PERS', 'LANGUAGE_POLI', 'LANGUAGE_PORT', 'LANGUAGE_PTUN', 'LANGUAGE_RUSS', 'LANGUAGE_SOMA', 'LANGUAGE_SPAN', 'LANGUAGE_TAGA', 'LANGUAGE_THAI', 'LANGUAGE_URDU', 'LANGUAGE_VIET', 'MARITAL_STATUS_LIFE PARTNER', 'MARITAL_STATUS_MARRIED', 'MARITAL_STATUS_SEPARATED', 'MARITAL_STATUS_SINGLE', 'MARITAL_STATUS_UNKNOWN (DEFAULT)', 'MARITAL_STATUS_WIDOWED', 'RELIGION_BUDDHIST', 'RELIGION_CATHOLIC', 'RELIGION_CHRISTIAN SCIENTIST', 'RELIGION_EPISCOPALIAN', 'RELIGION_GREEK ORTHODOX', 'RELIGION_HINDU', \"RELIGION_JEHOVAH'S WITNESS\", 'RELIGION_JEWISH', 'RELIGION_MUSLIM', 'RELIGION_NOT SPECIFIED', 'RELIGION_OTHER', 'RELIGION_PROTESTANT QUAKER', 'RELIGION_ROMANIAN EAST. ORTH', 'RELIGION_UNITARIAN-UNIVERSALIST', 'RELIGION_UNOBTAINABLE']\n"
          ]
        }
      ]
    },
    {
      "cell_type": "code",
      "source": [
        "def remove_highly_correlated_features(df: pd.DataFrame, features_list:list, non_features_list: list, threshold=0.95):\n",
        "    \"\"\"\n",
        "    Remove features that are more correlated than 0.95\n",
        "    - Remaining features should not be correlated by more than 0.95 with each other\n",
        "    \"\"\"\n",
        "\n",
        "    corr_matrix = df.corr().abs()\n",
        "    # Select upper triangle of correlation matrix\n",
        "        # np.triu = upper triangle of matrix\n",
        "    upper = corr_matrix.where(np.triu(np.ones(corr_matrix.shape), k=1).astype(np.bool))\n",
        "\n",
        "    # Find index of feature columns with correlation greater than 0.95\n",
        "    to_drop = [column for column in upper.columns if any(upper[column] > 0.95)]\n",
        "    to_keep = [f for f in features_list if f not in to_drop]\n",
        "\n",
        "    print(\"Dropped features = \" , to_drop)\n",
        "    return df[non_features_list + to_keep], np.asarray(to_keep)"
      ],
      "metadata": {
        "id": "D_B_PyQzBznl"
      },
      "execution_count": 123,
      "outputs": []
    },
    {
      "cell_type": "code",
      "source": [
        "X = delirium_dataset_encoded.drop(\"Delirium\", axis=1).copy()"
      ],
      "metadata": {
        "id": "jWpAareGCJ8n"
      },
      "execution_count": 138,
      "outputs": []
    },
    {
      "cell_type": "code",
      "source": [
        "features_list=X.columns"
      ],
      "metadata": {
        "id": "UEteZVw7B2IZ"
      },
      "execution_count": 139,
      "outputs": []
    },
    {
      "cell_type": "code",
      "source": [
        "Xtr, features_list = remove_highly_correlated_features(Xtr, features_list, [])\n",
        "Xtst = Xtst[[] + list(features_list)]"
      ],
      "metadata": {
        "colab": {
          "base_uri": "https://localhost:8080/"
        },
        "id": "O4oxe7rgB4Md",
        "outputId": "12a72123-3f39-4795-ddcc-2639d0d49354"
      },
      "execution_count": 140,
      "outputs": [
        {
          "output_type": "stream",
          "name": "stdout",
          "text": [
            "Dropped features =  []\n"
          ]
        },
        {
          "output_type": "stream",
          "name": "stderr",
          "text": [
            "/usr/local/lib/python3.7/dist-packages/ipykernel_launcher.py:10: DeprecationWarning: `np.bool` is a deprecated alias for the builtin `bool`. To silence this warning, use `bool` by itself. Doing this will not modify any behavior and is safe. If you specifically wanted the numpy scalar type, use `np.bool_` here.\n",
            "Deprecated in NumPy 1.20; for more details and guidance: https://numpy.org/devdocs/release/1.20.0-notes.html#deprecations\n",
            "  # Remove the CWD from sys.path while we load stuff.\n"
          ]
        }
      ]
    },
    {
      "cell_type": "code",
      "source": [
        "def format_data(df: pd.DataFrame, features_list: list, label_col=\"mort_icu\"):\n",
        "    \"\"\"\n",
        "    Format data for logistic regression\n",
        "\n",
        "    Inputs:\n",
        "    - df: dataframe of data\n",
        "    - features_list: features of interest\n",
        "    - idxs: indexes that match label\n",
        "\n",
        "    Outputs:\n",
        "    - data: np array of data (num_datapoints, num_features)\n",
        "    - label: label corresponding to data\n",
        "    \"\"\"\n",
        "    num_data = len(df)\n",
        "    num_features = len(features_list)\n",
        "    data = df[features_list].values.reshape(num_data, num_features)\n",
        "    label = df[label_col].values.reshape(num_data,)\n",
        "\n",
        "    return data, label"
      ],
      "metadata": {
        "id": "4a44oQIACpmw"
      },
      "execution_count": 141,
      "outputs": []
    },
    {
      "cell_type": "code",
      "source": [
        "from sklearn.svm import SVC\n",
        "from sklearn.feature_selection import RFECV\n",
        "from sklearn.model_selection import StratifiedKFold\n",
        "\n",
        "def rfe_linear(model, features_list:np.array, X_train: np.array, y_train: np.array, fold=10):\n",
        "    \"\"\"\n",
        "    Report list of optimal features given model\n",
        "\n",
        "    Inputs:\n",
        "    - model: model of interest\n",
        "        - note: can only work with estimators that give information about feature importance through either \"coef_\" or \"feature_importances_\" attribute\n",
        "    - features_list: features of interest\n",
        "    X_train: np array of train data\n",
        "    y_train: np array of train labels\n",
        "    \"\"\"\n",
        "    num_features = len(features_list)\n",
        "\n",
        "    # step = number of features to be removed at each step\n",
        "    rfecv = RFECV(estimator=model, step=1, cv=StratifiedKFold(fold), scoring='accuracy')\n",
        "    rfecv.fit(X_train, y_train)\n",
        "\n",
        "    print(\"Optimal number of features : %d\" % rfecv.n_features_)\n",
        "    return features_list[rfecv.support_]"
      ],
      "metadata": {
        "id": "GRlR-s4FCwz5"
      },
      "execution_count": 132,
      "outputs": []
    },
    {
      "cell_type": "code",
      "source": [
        "from sklearn.linear_model import LogisticRegression\n",
        "\n",
        "# Feature selection assuming linear SVM \n",
        "# RFE linear, wrapper based feature selection\n",
        "features_selected = rfe_linear(LogisticRegression(), features_list, Xtr, ytr)\n",
        "X_train_selected = Xtr[features_selected].values.reshape(len(Xtr), len(features_selected))\n",
        "X_test_selected = Xtst[features_selected].values.reshape(len(Xtst), len(features_selected))\n",
        "\n",
        "print(\"Optimal linear model features: \" + str(features_selected))\n",
        "print(\"X train = \" + str(X_train_selected.shape))\n",
        "print(\"X test = \" + str(X_test_selected.shape))"
      ],
      "metadata": {
        "id": "UnEdd8OhCwwk"
      },
      "execution_count": null,
      "outputs": []
    },
    {
      "cell_type": "code",
      "source": [
        "features_selected"
      ],
      "metadata": {
        "colab": {
          "base_uri": "https://localhost:8080/"
        },
        "id": "1F2YX2GTCwuH",
        "outputId": "f5f790af-48b6-4330-b371-05aa940b2efa"
      },
      "execution_count": 143,
      "outputs": [
        {
          "output_type": "execute_result",
          "data": {
            "text/plain": [
              "array(['ALT', 'ART BP Systolic', 'Ammonia', 'Anion gap', 'CO (Arterial)',\n",
              "       'HCO3 (serum)', 'Inspired O2 Fraction', 'Kphos', 'LOS',\n",
              "       'Magnesium', 'O2 saturation pulseoxymetry',\n",
              "       'Pulmonary Artery Pressure mean', 'Total Bilirubin',\n",
              "       'Venous CO2 Pressure', 'WBC',\n",
              "       'DISCHARGE_LOCATION_HOME HEALTH CARE',\n",
              "       'DISCHARGE_LOCATION_LONG TERM CARE HOSPITAL',\n",
              "       'DISCHARGE_LOCATION_REHAB/DISTINCT PART HOSP',\n",
              "       'DISCHARGE_LOCATION_SNF', 'ETHNICITY_ASIAN', 'ETHNICITY_BLACK',\n",
              "       'ETHNICITY_CARIBBEAN ISLAND', 'ETHNICITY_HISPANIC',\n",
              "       'ETHNICITY_MIDDLE EASTERN',\n",
              "       'ETHNICITY_NATIVE HAWAIIAN OR OTHER PACIFIC ISLANDER',\n",
              "       'ETHNICITY_UNKNOWN/NOT SPECIFIED', 'ETHNICITY_WHITE',\n",
              "       'INSURANCE_Medicaid', 'INSURANCE_Private', 'LANGUAGE_*FAR',\n",
              "       'LANGUAGE_*YID', 'LANGUAGE_GREE', 'LANGUAGE_HAIT', 'LANGUAGE_PERS',\n",
              "       'LANGUAGE_POLI', 'LANGUAGE_PORT', 'LANGUAGE_PTUN', 'LANGUAGE_VIET',\n",
              "       'MARITAL_STATUS_UNKNOWN (DEFAULT)', 'RELIGION_HINDU',\n",
              "       'RELIGION_MUSLIM', 'RELIGION_OTHER'], dtype='<U51')"
            ]
          },
          "metadata": {},
          "execution_count": 143
        }
      ]
    },
    {
      "cell_type": "code",
      "source": [
        "from sklearn.model_selection import StratifiedKFold\n",
        "from sklearn.model_selection import RandomizedSearchCV\n",
        "\n",
        "def report_best_params(X_train: np.array, y_train: np.array, params: dict, model, n_splits: int):\n",
        "    \"\"\"\n",
        "    x_train: np array of train data\n",
        "    y_train: np array of train data labels\n",
        "    params: range of parameters to test\n",
        "    estimator: type of model\n",
        "    n_splits: number of splits for cv validation\n",
        "\n",
        "    - gamma: try from 0.01 to 10000000000, then narrow down\n",
        "    \"\"\"\n",
        "\n",
        "    search = RandomizedSearchCV(\n",
        "        estimator=model, \n",
        "        param_distributions=params, \n",
        "        verbose = 20,\n",
        "        n_iter = 5,\n",
        "        cv= StratifiedKFold(n_splits=n_splits))\n",
        "\n",
        "    search.fit(X_train, y_train)\n",
        "    \n",
        "    print('Best score obtained: {0}'.format(search.best_score_))\n",
        "    print('Parameters:')\n",
        "    for param, value in search.best_params_.items():\n",
        "        print('\\t{}: {}'.format(param, value))"
      ],
      "metadata": {
        "id": "YSLLwKodCwrU"
      },
      "execution_count": 144,
      "outputs": []
    },
    {
      "cell_type": "code",
      "source": [
        "# Parameter tuning for Logistic Regression (using all features)\n",
        "params = [{'C': np.logspace(0, 4, num=10), 'penalty': ['l1', 'l2'], 'solver': ['liblinear', 'saga']}]\n",
        "report_best_params(X_train, y_train, params, LogisticRegression(), 5)"
      ],
      "metadata": {
        "colab": {
          "base_uri": "https://localhost:8080/"
        },
        "id": "ARwUiLZ-Cwol",
        "outputId": "c4ea48a2-583e-4140-d4a1-a024d54fb9f9"
      },
      "execution_count": 145,
      "outputs": [
        {
          "output_type": "stream",
          "name": "stdout",
          "text": [
            "Fitting 5 folds for each of 5 candidates, totalling 25 fits\n",
            "[CV 1/5; 1/5] START C=10000.0, penalty=l2, solver=liblinear.....................\n"
          ]
        },
        {
          "output_type": "stream",
          "name": "stderr",
          "text": [
            "/usr/local/lib/python3.7/dist-packages/sklearn/svm/_base.py:1208: ConvergenceWarning: Liblinear failed to converge, increase the number of iterations.\n",
            "  ConvergenceWarning,\n"
          ]
        },
        {
          "output_type": "stream",
          "name": "stdout",
          "text": [
            "[CV 1/5; 1/5] END C=10000.0, penalty=l2, solver=liblinear;, score=0.889 total time=   1.7s\n",
            "[CV 2/5; 1/5] START C=10000.0, penalty=l2, solver=liblinear.....................\n",
            "[CV 2/5; 1/5] END C=10000.0, penalty=l2, solver=liblinear;, score=0.891 total time=   1.5s\n",
            "[CV 3/5; 1/5] START C=10000.0, penalty=l2, solver=liblinear.....................\n",
            "[CV 3/5; 1/5] END C=10000.0, penalty=l2, solver=liblinear;, score=0.890 total time=   1.7s\n",
            "[CV 4/5; 1/5] START C=10000.0, penalty=l2, solver=liblinear.....................\n"
          ]
        },
        {
          "output_type": "stream",
          "name": "stderr",
          "text": [
            "/usr/local/lib/python3.7/dist-packages/sklearn/svm/_base.py:1208: ConvergenceWarning: Liblinear failed to converge, increase the number of iterations.\n",
            "  ConvergenceWarning,\n"
          ]
        },
        {
          "output_type": "stream",
          "name": "stdout",
          "text": [
            "[CV 4/5; 1/5] END C=10000.0, penalty=l2, solver=liblinear;, score=0.888 total time=   1.5s\n",
            "[CV 5/5; 1/5] START C=10000.0, penalty=l2, solver=liblinear.....................\n"
          ]
        },
        {
          "output_type": "stream",
          "name": "stderr",
          "text": [
            "/usr/local/lib/python3.7/dist-packages/sklearn/svm/_base.py:1208: ConvergenceWarning: Liblinear failed to converge, increase the number of iterations.\n",
            "  ConvergenceWarning,\n"
          ]
        },
        {
          "output_type": "stream",
          "name": "stdout",
          "text": [
            "[CV 5/5; 1/5] END C=10000.0, penalty=l2, solver=liblinear;, score=0.887 total time=   1.8s\n",
            "[CV 1/5; 2/5] START C=7.742636826811269, penalty=l1, solver=liblinear...........\n",
            "[CV 1/5; 2/5] END C=7.742636826811269, penalty=l1, solver=liblinear;, score=0.885 total time=   0.8s\n",
            "[CV 2/5; 2/5] START C=7.742636826811269, penalty=l1, solver=liblinear...........\n",
            "[CV 2/5; 2/5] END C=7.742636826811269, penalty=l1, solver=liblinear;, score=0.891 total time=   2.4s\n",
            "[CV 3/5; 2/5] START C=7.742636826811269, penalty=l1, solver=liblinear...........\n",
            "[CV 3/5; 2/5] END C=7.742636826811269, penalty=l1, solver=liblinear;, score=0.893 total time=   0.9s\n",
            "[CV 4/5; 2/5] START C=7.742636826811269, penalty=l1, solver=liblinear...........\n",
            "[CV 4/5; 2/5] END C=7.742636826811269, penalty=l1, solver=liblinear;, score=0.891 total time=   1.0s\n",
            "[CV 5/5; 2/5] START C=7.742636826811269, penalty=l1, solver=liblinear...........\n",
            "[CV 5/5; 2/5] END C=7.742636826811269, penalty=l1, solver=liblinear;, score=0.883 total time=   1.7s\n",
            "[CV 1/5; 3/5] START C=10000.0, penalty=l1, solver=saga..........................\n"
          ]
        },
        {
          "output_type": "stream",
          "name": "stderr",
          "text": [
            "/usr/local/lib/python3.7/dist-packages/sklearn/linear_model/_sag.py:354: ConvergenceWarning: The max_iter was reached which means the coef_ did not converge\n",
            "  ConvergenceWarning,\n"
          ]
        },
        {
          "output_type": "stream",
          "name": "stdout",
          "text": [
            "[CV 1/5; 3/5] END C=10000.0, penalty=l1, solver=saga;, score=0.891 total time=   1.6s\n",
            "[CV 2/5; 3/5] START C=10000.0, penalty=l1, solver=saga..........................\n"
          ]
        },
        {
          "output_type": "stream",
          "name": "stderr",
          "text": [
            "/usr/local/lib/python3.7/dist-packages/sklearn/linear_model/_sag.py:354: ConvergenceWarning: The max_iter was reached which means the coef_ did not converge\n",
            "  ConvergenceWarning,\n"
          ]
        },
        {
          "output_type": "stream",
          "name": "stdout",
          "text": [
            "[CV 2/5; 3/5] END C=10000.0, penalty=l1, solver=saga;, score=0.891 total time=   1.7s\n",
            "[CV 3/5; 3/5] START C=10000.0, penalty=l1, solver=saga..........................\n"
          ]
        },
        {
          "output_type": "stream",
          "name": "stderr",
          "text": [
            "/usr/local/lib/python3.7/dist-packages/sklearn/linear_model/_sag.py:354: ConvergenceWarning: The max_iter was reached which means the coef_ did not converge\n",
            "  ConvergenceWarning,\n"
          ]
        },
        {
          "output_type": "stream",
          "name": "stdout",
          "text": [
            "[CV 3/5; 3/5] END C=10000.0, penalty=l1, solver=saga;, score=0.891 total time=   1.7s\n",
            "[CV 4/5; 3/5] START C=10000.0, penalty=l1, solver=saga..........................\n"
          ]
        },
        {
          "output_type": "stream",
          "name": "stderr",
          "text": [
            "/usr/local/lib/python3.7/dist-packages/sklearn/linear_model/_sag.py:354: ConvergenceWarning: The max_iter was reached which means the coef_ did not converge\n",
            "  ConvergenceWarning,\n"
          ]
        },
        {
          "output_type": "stream",
          "name": "stdout",
          "text": [
            "[CV 4/5; 3/5] END C=10000.0, penalty=l1, solver=saga;, score=0.891 total time=   1.7s\n",
            "[CV 5/5; 3/5] START C=10000.0, penalty=l1, solver=saga..........................\n"
          ]
        },
        {
          "output_type": "stream",
          "name": "stderr",
          "text": [
            "/usr/local/lib/python3.7/dist-packages/sklearn/linear_model/_sag.py:354: ConvergenceWarning: The max_iter was reached which means the coef_ did not converge\n",
            "  ConvergenceWarning,\n"
          ]
        },
        {
          "output_type": "stream",
          "name": "stdout",
          "text": [
            "[CV 5/5; 3/5] END C=10000.0, penalty=l1, solver=saga;, score=0.890 total time=   1.7s\n",
            "[CV 1/5; 4/5] START C=1.0, penalty=l2, solver=liblinear.........................\n",
            "[CV 1/5; 4/5] END C=1.0, penalty=l2, solver=liblinear;, score=0.888 total time=   1.6s\n",
            "[CV 2/5; 4/5] START C=1.0, penalty=l2, solver=liblinear.........................\n",
            "[CV 2/5; 4/5] END C=1.0, penalty=l2, solver=liblinear;, score=0.891 total time=   1.7s\n",
            "[CV 3/5; 4/5] START C=1.0, penalty=l2, solver=liblinear.........................\n"
          ]
        },
        {
          "output_type": "stream",
          "name": "stderr",
          "text": [
            "/usr/local/lib/python3.7/dist-packages/sklearn/svm/_base.py:1208: ConvergenceWarning: Liblinear failed to converge, increase the number of iterations.\n",
            "  ConvergenceWarning,\n"
          ]
        },
        {
          "output_type": "stream",
          "name": "stdout",
          "text": [
            "[CV 3/5; 4/5] END C=1.0, penalty=l2, solver=liblinear;, score=0.887 total time=   1.5s\n",
            "[CV 4/5; 4/5] START C=1.0, penalty=l2, solver=liblinear.........................\n",
            "[CV 4/5; 4/5] END C=1.0, penalty=l2, solver=liblinear;, score=0.886 total time=   1.3s\n",
            "[CV 5/5; 4/5] START C=1.0, penalty=l2, solver=liblinear.........................\n"
          ]
        },
        {
          "output_type": "stream",
          "name": "stderr",
          "text": [
            "/usr/local/lib/python3.7/dist-packages/sklearn/svm/_base.py:1208: ConvergenceWarning: Liblinear failed to converge, increase the number of iterations.\n",
            "  ConvergenceWarning,\n"
          ]
        },
        {
          "output_type": "stream",
          "name": "stdout",
          "text": [
            "[CV 5/5; 4/5] END C=1.0, penalty=l2, solver=liblinear;, score=0.887 total time=   1.6s\n",
            "[CV 1/5; 5/5] START C=59.94842503189409, penalty=l2, solver=saga................\n"
          ]
        },
        {
          "output_type": "stream",
          "name": "stderr",
          "text": [
            "/usr/local/lib/python3.7/dist-packages/sklearn/linear_model/_sag.py:354: ConvergenceWarning: The max_iter was reached which means the coef_ did not converge\n",
            "  ConvergenceWarning,\n"
          ]
        },
        {
          "output_type": "stream",
          "name": "stdout",
          "text": [
            "[CV 1/5; 5/5] END C=59.94842503189409, penalty=l2, solver=saga;, score=0.891 total time=   1.3s\n",
            "[CV 2/5; 5/5] START C=59.94842503189409, penalty=l2, solver=saga................\n"
          ]
        },
        {
          "output_type": "stream",
          "name": "stderr",
          "text": [
            "/usr/local/lib/python3.7/dist-packages/sklearn/linear_model/_sag.py:354: ConvergenceWarning: The max_iter was reached which means the coef_ did not converge\n",
            "  ConvergenceWarning,\n"
          ]
        },
        {
          "output_type": "stream",
          "name": "stdout",
          "text": [
            "[CV 2/5; 5/5] END C=59.94842503189409, penalty=l2, solver=saga;, score=0.891 total time=   1.3s\n",
            "[CV 3/5; 5/5] START C=59.94842503189409, penalty=l2, solver=saga................\n"
          ]
        },
        {
          "output_type": "stream",
          "name": "stderr",
          "text": [
            "/usr/local/lib/python3.7/dist-packages/sklearn/linear_model/_sag.py:354: ConvergenceWarning: The max_iter was reached which means the coef_ did not converge\n",
            "  ConvergenceWarning,\n"
          ]
        },
        {
          "output_type": "stream",
          "name": "stdout",
          "text": [
            "[CV 3/5; 5/5] END C=59.94842503189409, penalty=l2, solver=saga;, score=0.891 total time=   1.3s\n",
            "[CV 4/5; 5/5] START C=59.94842503189409, penalty=l2, solver=saga................\n"
          ]
        },
        {
          "output_type": "stream",
          "name": "stderr",
          "text": [
            "/usr/local/lib/python3.7/dist-packages/sklearn/linear_model/_sag.py:354: ConvergenceWarning: The max_iter was reached which means the coef_ did not converge\n",
            "  ConvergenceWarning,\n"
          ]
        },
        {
          "output_type": "stream",
          "name": "stdout",
          "text": [
            "[CV 4/5; 5/5] END C=59.94842503189409, penalty=l2, solver=saga;, score=0.891 total time=   1.3s\n",
            "[CV 5/5; 5/5] START C=59.94842503189409, penalty=l2, solver=saga................\n"
          ]
        },
        {
          "output_type": "stream",
          "name": "stderr",
          "text": [
            "/usr/local/lib/python3.7/dist-packages/sklearn/linear_model/_sag.py:354: ConvergenceWarning: The max_iter was reached which means the coef_ did not converge\n",
            "  ConvergenceWarning,\n"
          ]
        },
        {
          "output_type": "stream",
          "name": "stdout",
          "text": [
            "[CV 5/5; 5/5] END C=59.94842503189409, penalty=l2, solver=saga;, score=0.890 total time=   1.3s\n",
            "Best score obtained: 0.8904996811254844\n",
            "Parameters:\n",
            "\tsolver: saga\n",
            "\tpenalty: l1\n",
            "\tC: 10000.0\n"
          ]
        },
        {
          "output_type": "stream",
          "name": "stderr",
          "text": [
            "/usr/local/lib/python3.7/dist-packages/sklearn/linear_model/_sag.py:354: ConvergenceWarning: The max_iter was reached which means the coef_ did not converge\n",
            "  ConvergenceWarning,\n"
          ]
        }
      ]
    },
    {
      "cell_type": "code",
      "source": [
        "# Parameter tuning for Logistic Regression (using selected features)\n",
        "params = [{'C': np.logspace(0, 4, num=10), 'penalty': ['l1', 'l2'], 'solver': ['liblinear', 'saga']}]\n",
        "report_best_params(X_train_selected, ytr, params, LogisticRegression(), 5)"
      ],
      "metadata": {
        "colab": {
          "base_uri": "https://localhost:8080/"
        },
        "id": "p0tKSoLICwls",
        "outputId": "f52f0db0-f1bd-4b08-bff1-0dd5eabf060f"
      },
      "execution_count": 146,
      "outputs": [
        {
          "output_type": "stream",
          "name": "stdout",
          "text": [
            "Fitting 5 folds for each of 5 candidates, totalling 25 fits\n",
            "[CV 1/5; 1/5] START C=1.0, penalty=l2, solver=liblinear.........................\n",
            "[CV 1/5; 1/5] END C=1.0, penalty=l2, solver=liblinear;, score=0.892 total time=   0.1s\n",
            "[CV 2/5; 1/5] START C=1.0, penalty=l2, solver=liblinear.........................\n",
            "[CV 2/5; 1/5] END C=1.0, penalty=l2, solver=liblinear;, score=0.890 total time=   0.1s\n",
            "[CV 3/5; 1/5] START C=1.0, penalty=l2, solver=liblinear.........................\n",
            "[CV 3/5; 1/5] END C=1.0, penalty=l2, solver=liblinear;, score=0.896 total time=   0.1s\n",
            "[CV 4/5; 1/5] START C=1.0, penalty=l2, solver=liblinear.........................\n",
            "[CV 4/5; 1/5] END C=1.0, penalty=l2, solver=liblinear;, score=0.894 total time=   0.1s\n",
            "[CV 5/5; 1/5] START C=1.0, penalty=l2, solver=liblinear.........................\n",
            "[CV 5/5; 1/5] END C=1.0, penalty=l2, solver=liblinear;, score=0.893 total time=   0.1s\n",
            "[CV 1/5; 2/5] START C=10000.0, penalty=l1, solver=liblinear.....................\n",
            "[CV 1/5; 2/5] END C=10000.0, penalty=l1, solver=liblinear;, score=0.892 total time=   0.8s\n",
            "[CV 2/5; 2/5] START C=10000.0, penalty=l1, solver=liblinear.....................\n",
            "[CV 2/5; 2/5] END C=10000.0, penalty=l1, solver=liblinear;, score=0.890 total time=   0.3s\n",
            "[CV 3/5; 2/5] START C=10000.0, penalty=l1, solver=liblinear.....................\n",
            "[CV 3/5; 2/5] END C=10000.0, penalty=l1, solver=liblinear;, score=0.897 total time=   0.5s\n",
            "[CV 4/5; 2/5] START C=10000.0, penalty=l1, solver=liblinear.....................\n",
            "[CV 4/5; 2/5] END C=10000.0, penalty=l1, solver=liblinear;, score=0.894 total time=   0.7s\n",
            "[CV 5/5; 2/5] START C=10000.0, penalty=l1, solver=liblinear.....................\n",
            "[CV 5/5; 2/5] END C=10000.0, penalty=l1, solver=liblinear;, score=0.893 total time=   0.6s\n",
            "[CV 1/5; 3/5] START C=3593.813663804626, penalty=l2, solver=liblinear...........\n",
            "[CV 1/5; 3/5] END C=3593.813663804626, penalty=l2, solver=liblinear;, score=0.892 total time=   0.2s\n",
            "[CV 2/5; 3/5] START C=3593.813663804626, penalty=l2, solver=liblinear...........\n",
            "[CV 2/5; 3/5] END C=3593.813663804626, penalty=l2, solver=liblinear;, score=0.890 total time=   0.2s\n",
            "[CV 3/5; 3/5] START C=3593.813663804626, penalty=l2, solver=liblinear...........\n",
            "[CV 3/5; 3/5] END C=3593.813663804626, penalty=l2, solver=liblinear;, score=0.896 total time=   0.1s\n",
            "[CV 4/5; 3/5] START C=3593.813663804626, penalty=l2, solver=liblinear...........\n",
            "[CV 4/5; 3/5] END C=3593.813663804626, penalty=l2, solver=liblinear;, score=0.894 total time=   0.2s\n",
            "[CV 5/5; 3/5] START C=3593.813663804626, penalty=l2, solver=liblinear...........\n",
            "[CV 5/5; 3/5] END C=3593.813663804626, penalty=l2, solver=liblinear;, score=0.893 total time=   0.2s\n",
            "[CV 1/5; 4/5] START C=1.0, penalty=l1, solver=liblinear.........................\n",
            "[CV 1/5; 4/5] END C=1.0, penalty=l1, solver=liblinear;, score=0.892 total time=   0.1s\n",
            "[CV 2/5; 4/5] START C=1.0, penalty=l1, solver=liblinear.........................\n",
            "[CV 2/5; 4/5] END C=1.0, penalty=l1, solver=liblinear;, score=0.892 total time=   0.1s\n",
            "[CV 3/5; 4/5] START C=1.0, penalty=l1, solver=liblinear.........................\n",
            "[CV 3/5; 4/5] END C=1.0, penalty=l1, solver=liblinear;, score=0.896 total time=   0.1s\n",
            "[CV 4/5; 4/5] START C=1.0, penalty=l1, solver=liblinear.........................\n",
            "[CV 4/5; 4/5] END C=1.0, penalty=l1, solver=liblinear;, score=0.894 total time=   0.1s\n",
            "[CV 5/5; 4/5] START C=1.0, penalty=l1, solver=liblinear.........................\n",
            "[CV 5/5; 4/5] END C=1.0, penalty=l1, solver=liblinear;, score=0.893 total time=   0.1s\n",
            "[CV 1/5; 5/5] START C=21.544346900318832, penalty=l1, solver=liblinear..........\n",
            "[CV 1/5; 5/5] END C=21.544346900318832, penalty=l1, solver=liblinear;, score=0.892 total time=   0.3s\n",
            "[CV 2/5; 5/5] START C=21.544346900318832, penalty=l1, solver=liblinear..........\n",
            "[CV 2/5; 5/5] END C=21.544346900318832, penalty=l1, solver=liblinear;, score=0.892 total time=   0.2s\n",
            "[CV 3/5; 5/5] START C=21.544346900318832, penalty=l1, solver=liblinear..........\n",
            "[CV 3/5; 5/5] END C=21.544346900318832, penalty=l1, solver=liblinear;, score=0.896 total time=   0.3s\n",
            "[CV 4/5; 5/5] START C=21.544346900318832, penalty=l1, solver=liblinear..........\n",
            "[CV 4/5; 5/5] END C=21.544346900318832, penalty=l1, solver=liblinear;, score=0.894 total time=   0.2s\n",
            "[CV 5/5; 5/5] START C=21.544346900318832, penalty=l1, solver=liblinear..........\n",
            "[CV 5/5; 5/5] END C=21.544346900318832, penalty=l1, solver=liblinear;, score=0.893 total time=   0.2s\n",
            "Best score obtained: 0.8935802832913285\n",
            "Parameters:\n",
            "\tsolver: liblinear\n",
            "\tpenalty: l1\n",
            "\tC: 1.0\n"
          ]
        }
      ]
    },
    {
      "cell_type": "code",
      "source": [
        "from sklearn.linear_model import LogisticRegression\n",
        "\n",
        "# Define logistic regression model with selected features\n",
        "solver= \"liblinear\"\n",
        "penalty= \"l1\"\n",
        "C= 1\n",
        "\n",
        "model1 = LogisticRegression(penalty=penalty, solver=solver, C=C)\n",
        "# fit model on x_train and y_train\n",
        "model1.fit(X_train_selected, ytr)"
      ],
      "metadata": {
        "colab": {
          "base_uri": "https://localhost:8080/"
        },
        "id": "v5s79thkCwi6",
        "outputId": "68a2ae40-9d9f-4942-b4e4-b01721cce025"
      },
      "execution_count": 147,
      "outputs": [
        {
          "output_type": "execute_result",
          "data": {
            "text/plain": [
              "LogisticRegression(C=1, penalty='l1', solver='liblinear')"
            ]
          },
          "metadata": {},
          "execution_count": 147
        }
      ]
    },
    {
      "cell_type": "code",
      "source": [
        "# Define logistic regression model with all features\n",
        "solver= \"saga\"\n",
        "penalty = \"l1\"\n",
        "C= 10000.0\n",
        "\n",
        "model2 = LogisticRegression(penalty=penalty, solver=solver, C=C)\n",
        "# fit model on x_train and y_train\n",
        "model2.fit(Xtr, ytr)"
      ],
      "metadata": {
        "colab": {
          "base_uri": "https://localhost:8080/"
        },
        "id": "SqzT78yKCwf4",
        "outputId": "b7daa504-9d50-4a78-dfaa-8c59b0bf38a8"
      },
      "execution_count": 150,
      "outputs": [
        {
          "output_type": "stream",
          "name": "stderr",
          "text": [
            "/usr/local/lib/python3.7/dist-packages/sklearn/linear_model/_sag.py:354: ConvergenceWarning: The max_iter was reached which means the coef_ did not converge\n",
            "  ConvergenceWarning,\n"
          ]
        },
        {
          "output_type": "execute_result",
          "data": {
            "text/plain": [
              "LogisticRegression(C=10000.0, penalty='l1', solver='saga')"
            ]
          },
          "metadata": {},
          "execution_count": 150
        }
      ]
    },
    {
      "cell_type": "code",
      "source": [
        "def report_feature_importance(model: LogisticRegression, features_list: list):\n",
        "    \"\"\"\n",
        "    Report best and worst features in predicting label\n",
        "\n",
        "    Inputs:\n",
        "    - model: trained model that has the coef_ attribute\n",
        "    - features_list: features of intersest (ie. found in X_train and X_test)\n",
        "    \"\"\"\n",
        "    num_features = len(features_list)\n",
        "    coef = model.coef_.reshape(num_features)\n",
        "    coef = abs(coef)                        # format to absolute value --> float\n",
        "    coef = coef / max(coef) * 100           # relative importance\n",
        "    coef = list(zip(features_list, coef))    # map features with relative importance\n",
        "    coef = sorted(coef,key=lambda x: x[1], reverse = True)  # sort map by feature importance\n",
        "\n",
        "    print(\"Best features\")\n",
        "    for feature, c in coef[0:5]:\n",
        "        print(\"Feature: \" + feature + \" , relative importance: \", c)\n",
        "\n",
        "    print(\"\\nWorst features\")\n",
        "    for feature, c in coef[-5:][::-1]:\n",
        "        print(\"Feature: \" + feature + \" , relative importance: \" , c)"
      ],
      "metadata": {
        "id": "3dzcEKWECwdb"
      },
      "execution_count": 151,
      "outputs": []
    },
    {
      "cell_type": "code",
      "source": [
        "report_feature_importance(model1, features_selected)"
      ],
      "metadata": {
        "colab": {
          "base_uri": "https://localhost:8080/"
        },
        "id": "8qf5tS_8CwaZ",
        "outputId": "21f02231-9dec-4bac-85e8-13e17fa46fc1"
      },
      "execution_count": 152,
      "outputs": [
        {
          "output_type": "stream",
          "name": "stdout",
          "text": [
            "Best features\n",
            "Feature: Inspired O2 Fraction , relative importance:  100.0\n",
            "Feature: RELIGION_MUSLIM , relative importance:  53.97325183761732\n",
            "Feature: Magnesium , relative importance:  52.463745682110606\n",
            "Feature: LANGUAGE_PERS , relative importance:  44.78278242372651\n",
            "Feature: DISCHARGE_LOCATION_SNF , relative importance:  44.543686535640894\n",
            "\n",
            "Worst features\n",
            "Feature: LANGUAGE_POLI , relative importance:  11.369998245770063\n",
            "Feature: ETHNICITY_CARIBBEAN ISLAND , relative importance:  13.338160395421127\n",
            "Feature: RELIGION_HINDU , relative importance:  16.863329118505863\n",
            "Feature: ETHNICITY_MIDDLE EASTERN , relative importance:  18.09966859884869\n",
            "Feature: LANGUAGE_GREE , relative importance:  18.142038227272213\n"
          ]
        }
      ]
    },
    {
      "cell_type": "code",
      "source": [
        "report_feature_importance(model2, list(Xtr))"
      ],
      "metadata": {
        "colab": {
          "base_uri": "https://localhost:8080/"
        },
        "id": "P56Ka5BzCwXm",
        "outputId": "cfcb00df-5d9e-4ade-97d2-978775aa4859"
      },
      "execution_count": 154,
      "outputs": [
        {
          "output_type": "stream",
          "name": "stdout",
          "text": [
            "Best features\n",
            "Feature: INSURANCE_Medicaid , relative importance:  100.0\n",
            "Feature: DISCHARGE_LOCATION_SNF , relative importance:  87.02220435527984\n",
            "Feature: LANGUAGE_PERS , relative importance:  83.73093738272597\n",
            "Feature: Inspired O2 Fraction , relative importance:  83.63526453301432\n",
            "Feature: INSURANCE_Private , relative importance:  82.34065315201968\n",
            "\n",
            "Worst features\n",
            "Feature: LANGUAGE_*TOY , relative importance:  0.0\n",
            "Feature: LANGUAGE_*FUL , relative importance:  0.0\n",
            "Feature: LANGUAGE_*BEN , relative importance:  0.0\n",
            "Feature: RELIGION_JEWISH , relative importance:  0.22751676233035223\n",
            "Feature: Non-Invasive Blood Pressure mean , relative importance:  0.41561657145495906\n"
          ]
        }
      ]
    },
    {
      "cell_type": "code",
      "source": [
        "import sklearn.metrics as metrics\n",
        "import matplotlib.pyplot as plt\n",
        "\n",
        "def evaluate_model(model, X_test, y_test):\n",
        "    \"\"\"\n",
        "    Evaluate model performance\n",
        "\n",
        "    Inputs:\n",
        "    - model: trained model to evaluate\n",
        "    - X_test: np array of test data\n",
        "    - y_test: labels in test dataset\n",
        "    \"\"\"\n",
        "    \n",
        "    y_pred = model.decision_function(X_test)\n",
        "    fpr, tpr, threshold = metrics.roc_curve(y_test, y_pred)\n",
        "    roc_auc = metrics.auc(fpr, tpr)\n",
        "\n",
        "    print(\"AUC score: \" + str(roc_auc))\n",
        "\n",
        "    # evaluate prediction using ROC graph\n",
        "    plt.title('ROC curve')\n",
        "    plt.plot(fpr, tpr, 'b', label = 'AUC = %0.2f' % roc_auc)\n",
        "    plt.legend(loc = 'lower right')\n",
        "    plt.plot([0, 1], [0, 1],'r--')\n",
        "    plt.xlim([0, 1])\n",
        "    plt.ylim([0, 1])\n",
        "    plt.ylabel('True Positive Rate')\n",
        "    plt.xlabel('False Positive Rate')\n",
        "    plt.show()"
      ],
      "metadata": {
        "id": "AGZiR8HZCwU5"
      },
      "execution_count": 155,
      "outputs": []
    },
    {
      "cell_type": "code",
      "source": [
        "evaluate_model(model1, X_test_selected, ytst)"
      ],
      "metadata": {
        "colab": {
          "base_uri": "https://localhost:8080/",
          "height": 312
        },
        "id": "UmEC4XOXCwSS",
        "outputId": "f2acac25-0184-4016-a4d7-49d3836c08a5"
      },
      "execution_count": 156,
      "outputs": [
        {
          "output_type": "stream",
          "name": "stdout",
          "text": [
            "AUC score: 0.6772645511168386\n"
          ]
        },
        {
          "output_type": "display_data",
          "data": {
            "text/plain": [
              "<Figure size 432x288 with 1 Axes>"
            ],
            "image/png": "[encoded data removed]"
          },
          "metadata": {
            "needs_background": "light"
          }
        }
      ]
    },
    {
      "cell_type": "code",
      "source": [
        "evaluate_model(model2, Xtst, ytst)"
      ],
      "metadata": {
        "colab": {
          "base_uri": "https://localhost:8080/",
          "height": 312
        },
        "id": "r9_sK4pjCwPU",
        "outputId": "5e1294b5-58b1-419f-ed2d-77c7e16a6aad"
      },
      "execution_count": 157,
      "outputs": [
        {
          "output_type": "stream",
          "name": "stdout",
          "text": [
            "AUC score: 0.6905605670103093\n"
          ]
        },
        {
          "output_type": "display_data",
          "data": {
            "text/plain": [
              "<Figure size 432x288 with 1 Axes>"
            ],
            "image/png": "[encoded data removed]"
          },
          "metadata": {
            "needs_background": "light"
          }
        }
      ]
    },
    {
      "cell_type": "markdown",
      "source": [
        "## Random Forest"
      ],
      "metadata": {
        "id": "hwY0yFMVBkRL"
      }
    },
    {
      "cell_type": "code",
      "source": [
        "y = delirium_dataset_encoded[\"Delirium\"].values\n",
        "X=delirium_dataset_encoded.drop([\"Delirium\"], axis=1)\n",
        "from sklearn.model_selection import train_test_split\n",
        "Xtr, Xtst, ytr, ytst = train_test_split(\n",
        "    X, y, test_size=0.2, random_state=0)"
      ],
      "metadata": {
        "id": "fOOi4s6OIPpb"
      },
      "execution_count": 160,
      "outputs": []
    },
    {
      "cell_type": "code",
      "source": [
        "from sklearn.model_selection import StratifiedKFold\n",
        "from sklearn.model_selection import RandomizedSearchCV\n",
        "\n",
        "def report_best_params(x_train: np.array, y_train: np.array, params: dict, estimator, n_splits: int):\n",
        "    \"\"\"\n",
        "    x_train: np array of train data\n",
        "    y_train: np array of train data labels\n",
        "    params: range of parameters to test\n",
        "    estimator: type of model\n",
        "    n_splits: number of splits for cv validation\n",
        "    \"\"\"\n",
        "\n",
        "    grid = RandomizedSearchCV(estimator=estimator, param_distributions=params, refit = True, cv= StratifiedKFold(n_splits=n_splits))\n",
        "    grid.fit(x_train, y_train)\n",
        "\n",
        "    print(\"The best classifier is: \", grid.best_estimator_)\n",
        "\n",
        "    print(\"The best parameters are: \" + str(grid.best_params_))"
      ],
      "metadata": {
        "id": "lPL1JbTbHCYL"
      },
      "execution_count": 161,
      "outputs": []
    },
    {
      "cell_type": "code",
      "source": [
        "from sklearn.ensemble import RandomForestClassifier\n",
        "\n",
        "# Note: start with tuning n_estimators, max_depth, min_samples_split and min_samples_leaf first\n",
        "\n",
        "# Number of trees in random forest\n",
        "n_estimators = [int(x) for x in np.linspace(start = 200, stop = 2000, num = 10)]\n",
        "\n",
        "# function to measure quality of split\n",
        "criterion = [\"gini\", \"entropy\"]\n",
        "\n",
        "# Maximum number of levels in tree\n",
        "max_depth = [int(x) for x in np.linspace(10, 110, num = 11)]\n",
        "max_depth.append(None)\n",
        "\n",
        "# Minimum number of samples required to split a node\n",
        "min_samples_split = [2, 5, 10]\n",
        "\n",
        "# Minimum number of samples required at each leaf node\n",
        "min_samples_leaf = [1, 2, 4]\n",
        "\n",
        "# minimum weighted fraction of the sum total of weights required to be at a leaf node\n",
        "min_weight_fraction_leaf = [int(x) for x in np.linspace(start = 0, stop = 2000, num = 10)]\n",
        "\n",
        "# Number of features to consider at every split\n",
        "max_features = ['auto', 'sqrt', 'log2']\n",
        "\n",
        "\n",
        "# Create the random grid\n",
        "params = {'n_estimators': n_estimators,\n",
        "        'criterion': criterion,\n",
        "        'max_depth': max_depth,\n",
        "        'min_samples_split': min_samples_split,\n",
        "        'min_samples_leaf': min_samples_leaf,\n",
        "        \"max_features\" : max_features}\n",
        "\n",
        "\n",
        "report_best_params(Xtr, ytr, params, RandomForestClassifier(), 10)"
      ],
      "metadata": {
        "colab": {
          "base_uri": "https://localhost:8080/"
        },
        "id": "lY-qSCElHDam",
        "outputId": "e31711dc-e243-46a8-b17e-84c48191b3f5"
      },
      "execution_count": 162,
      "outputs": [
        {
          "output_type": "stream",
          "name": "stdout",
          "text": [
            "The best classifier is:  RandomForestClassifier(max_depth=60, max_features='log2', min_samples_leaf=2,\n",
            "                       min_samples_split=5, n_estimators=400)\n",
            "The best parameters are: {'n_estimators': 400, 'min_samples_split': 5, 'min_samples_leaf': 2, 'max_features': 'log2', 'max_depth': 60, 'criterion': 'gini'}\n"
          ]
        }
      ]
    },
    {
      "cell_type": "code",
      "source": [
        "from sklearn.ensemble import RandomForestClassifier\n",
        "\n",
        "# Note: start with tuning n_estimators, max_depth, min_samples_split and min_samples_leaf first\n",
        "\n",
        "# Number of trees in random forest\n",
        "n_estimators = [int(x) for x in np.linspace(start = 200, stop = 2000, num = 10)]\n",
        "\n",
        "# function to measure quality of split\n",
        "criterion = [\"gini\", \"entropy\"]\n",
        "\n",
        "# Maximum number of levels in tree\n",
        "max_depth = [int(x) for x in np.linspace(10, 110, num = 11)]\n",
        "max_depth.append(None)\n",
        "\n",
        "# Minimum number of samples required to split a node\n",
        "min_samples_split = [2, 5, 10]\n",
        "\n",
        "# Minimum number of samples required at each leaf node\n",
        "min_samples_leaf = [1, 2, 4]\n",
        "\n",
        "# minimum weighted fraction of the sum total of weights required to be at a leaf node\n",
        "#min_weight_fraction_leaf = [int(x) for x in np.linspace(start = 0, stop = 2000, num = 10)]\n",
        "\n",
        "# Number of features to consider at every split\n",
        "max_features = ['auto', 'sqrt', 'log2']\n",
        "\n",
        "\n",
        "# Create the random grid\n",
        "params = {'n_estimators': n_estimators,\n",
        "        'criterion': criterion,\n",
        "        'max_depth': max_depth,\n",
        "        'min_samples_split': min_samples_split,\n",
        "        'min_samples_leaf': min_samples_leaf,\n",
        "        #'min_weight_fraction_leaf': min_weight_fraction_leaf,\n",
        "        \"max_features\" : max_features}\n",
        "\n",
        "\n",
        "report_best_params(Xtr, ytr, params, RandomForestClassifier(), 10)"
      ],
      "metadata": {
        "colab": {
          "base_uri": "https://localhost:8080/"
        },
        "id": "yL5tVa3CHDXO",
        "outputId": "63482e1a-95d8-4d4f-d997-a7703737ca89"
      },
      "execution_count": 163,
      "outputs": [
        {
          "output_type": "stream",
          "name": "stdout",
          "text": [
            "The best classifier is:  RandomForestClassifier(max_depth=50, min_samples_split=5, n_estimators=1600)\n",
            "The best parameters are: {'n_estimators': 1600, 'min_samples_split': 5, 'min_samples_leaf': 1, 'max_features': 'auto', 'max_depth': 50, 'criterion': 'gini'}\n"
          ]
        }
      ]
    },
    {
      "cell_type": "code",
      "source": [
        "from sklearn.ensemble import RandomForestRegressor\n",
        "\n",
        "\n",
        "rf = RandomForestClassifier(criterion='entropy', max_depth=80, max_features='sqrt',\n",
        "                       min_samples_leaf=2, min_samples_split=5,\n",
        "                       n_estimators=1000, random_state = 42)\n",
        "\n",
        "# Train the model on training data\n",
        "rf.fit(Xtr, ytr)"
      ],
      "metadata": {
        "colab": {
          "base_uri": "https://localhost:8080/"
        },
        "id": "RBhp3JFgHDUH",
        "outputId": "8c94b023-6c65-49a5-8ad5-b8dba95fb140"
      },
      "execution_count": 164,
      "outputs": [
        {
          "output_type": "execute_result",
          "data": {
            "text/plain": [
              "RandomForestClassifier(criterion='entropy', max_depth=80, max_features='sqrt',\n",
              "                       min_samples_leaf=2, min_samples_split=5,\n",
              "                       n_estimators=1000, random_state=42)"
            ]
          },
          "metadata": {},
          "execution_count": 164
        }
      ]
    },
    {
      "cell_type": "code",
      "source": [
        "import sklearn.metrics as metrics\n",
        "import matplotlib.pyplot as plt\n",
        "\n",
        "y_pred = rf.predict(Xtst)\n",
        "fpr, tpr, threshold = metrics.roc_curve(ytst, y_pred)\n",
        "roc_auc = metrics.auc(fpr, tpr)\n",
        "\n",
        "print(\"AUC score: \" + str(roc_auc))\n",
        "\n",
        "# evaluate prediction using ROC graph\n",
        "plt.title('ROC curve')\n",
        "plt.plot(fpr, tpr, 'b', label = 'AUC = %0.2f' % roc_auc)\n",
        "plt.legend(loc = 'lower right')\n",
        "plt.plot([0, 1], [0, 1],'r--')\n",
        "plt.xlim([0, 1])\n",
        "plt.ylim([0, 1])\n",
        "plt.ylabel('True Positive Rate')\n",
        "plt.xlabel('False Positive Rate')\n",
        "plt.show()"
      ],
      "metadata": {
        "colab": {
          "base_uri": "https://localhost:8080/",
          "height": 312
        },
        "id": "H8vhaGr6HDQ8",
        "outputId": "6c747add-e2f2-4016-e7b9-e52576d70381"
      },
      "execution_count": 165,
      "outputs": [
        {
          "output_type": "stream",
          "name": "stdout",
          "text": [
            "AUC score: 0.5\n"
          ]
        },
        {
          "output_type": "display_data",
          "data": {
            "text/plain": [
              "<Figure size 432x288 with 1 Axes>"
            ],
            "image/png": "[encoded data removed]"
          },
          "metadata": {
            "needs_background": "light"
          }
        }
      ]
    },
    {
      "cell_type": "code",
      "source": [
        ""
      ],
      "metadata": {
        "id": "KB8pIA_3HDN2"
      },
      "execution_count": null,
      "outputs": []
    },
    {
      "cell_type": "code",
      "source": [
        ""
      ],
      "metadata": {
        "id": "ruSRYzYwHDKt"
      },
      "execution_count": null,
      "outputs": []
    },
    {
      "cell_type": "code",
      "source": [
        ""
      ],
      "metadata": {
        "id": "WosjnG4kHDHw"
      },
      "execution_count": null,
      "outputs": []
    },
    {
      "cell_type": "code",
      "source": [
        ""
      ],
      "metadata": {
        "id": "Scucs71jHDEg"
      },
      "execution_count": null,
      "outputs": []
    },
    {
      "cell_type": "code",
      "source": [
        ""
      ],
      "metadata": {
        "id": "I-OBGYG8HDBE"
      },
      "execution_count": null,
      "outputs": []
    },
    {
      "cell_type": "code",
      "source": [
        ""
      ],
      "metadata": {
        "id": "1gcgDU9kHC-H"
      },
      "execution_count": null,
      "outputs": []
    }
  ]
}